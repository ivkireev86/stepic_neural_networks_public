{
 "cells": [
  {
   "cell_type": "markdown",
   "metadata": {},
   "source": [
    "# run_car"
   ]
  },
  {
   "cell_type": "code",
   "execution_count": 1,
   "metadata": {
    "collapsed": true
   },
   "outputs": [],
   "source": [
    "%matplotlib notebook\n",
    "import matplotlib.pyplot as plt\n",
    "dyn_plot = True\n",
    "class DynamicUpdate():\n",
    "    def on_launch(self):\n",
    "        #Set up plot\n",
    "        self.figure, self.ax = plt.subplots()\n",
    "        self.lines, = self.ax.plot([],[])\n",
    "        #Autoscale on unknown axis and known lims on the other\n",
    "        self.ax.set_autoscaley_on(True)\n",
    "        self.ax.set_autoscalex_on(True)\n",
    "        #Other stuff\n",
    "        self.ax.grid()\n",
    "\n",
    "    def on_running(self, xdata, ydata):\n",
    "        #Update data (with the new _and_ the old points)\n",
    "        self.lines.set_xdata(xdata)\n",
    "        self.lines.set_ydata(ydata)\n",
    "        #Need both of these in order to rescale\n",
    "        self.ax.relim()\n",
    "        self.ax.autoscale_view()\n",
    "        #We need to draw *and* flush\n",
    "        self.figure.canvas.draw()\n",
    "        self.figure.canvas.flush_events()"
   ]
  },
  {
   "cell_type": "code",
   "execution_count": 2,
   "metadata": {
    "collapsed": true
   },
   "outputs": [],
   "source": [
    "import datetime\n",
    "import numpy as np\n",
    "import random"
   ]
  },
  {
   "cell_type": "code",
   "execution_count": 3,
   "metadata": {
    "collapsed": true
   },
   "outputs": [],
   "source": [
    "from cars.world import SimpleCarWorld\n",
    "from cars.agent import SimpleCarAgent\n",
    "from cars.physics import SimplePhysics\n",
    "from cars.track import generate_map"
   ]
  },
  {
   "cell_type": "code",
   "execution_count": 4,
   "metadata": {
    "collapsed": true
   },
   "outputs": [],
   "source": [
    "from tqdm import tqdm_notebook"
   ]
  },
  {
   "cell_type": "code",
   "execution_count": 5,
   "metadata": {
    "collapsed": true
   },
   "outputs": [],
   "source": [
    "from functools import reduce"
   ]
  },
  {
   "cell_type": "code",
   "execution_count": 6,
   "metadata": {
    "collapsed": true
   },
   "outputs": [],
   "source": [
    "import pandas as pd"
   ]
  },
  {
   "cell_type": "code",
   "execution_count": 7,
   "metadata": {
    "collapsed": true
   },
   "outputs": [],
   "source": [
    "import seaborn as sns"
   ]
  },
  {
   "cell_type": "code",
   "execution_count": 8,
   "metadata": {
    "collapsed": true
   },
   "outputs": [],
   "source": [
    "from run_car import create_map"
   ]
  },
  {
   "cell_type": "markdown",
   "metadata": {},
   "source": [
    "# Параметры"
   ]
  },
  {
   "cell_type": "code",
   "execution_count": 9,
   "metadata": {
    "collapsed": true
   },
   "outputs": [],
   "source": [
    "map_seeds = [3, 13, 18, 23]\n",
    "map_seed = map_seeds[0]"
   ]
  },
  {
   "cell_type": "markdown",
   "metadata": {},
   "source": [
    "# Нарабатываем данные, учимся и оцениваемся"
   ]
  },
  {
   "cell_type": "code",
   "execution_count": 10,
   "metadata": {
    "collapsed": true
   },
   "outputs": [],
   "source": [
    "log_list = []"
   ]
  },
  {
   "cell_type": "code",
   "execution_count": 11,
   "metadata": {
    "collapsed": true
   },
   "outputs": [],
   "source": [
    "from run_car import mine_data, norm_y"
   ]
  },
  {
   "cell_type": "code",
   "execution_count": 12,
   "metadata": {
    "collapsed": true
   },
   "outputs": [],
   "source": [
    "from learning_algorithms.forest import RandomForestWrapper\n",
    "from learning_algorithms.network import Network"
   ]
  },
  {
   "cell_type": "code",
   "execution_count": 13,
   "metadata": {
    "collapsed": true
   },
   "outputs": [],
   "source": [
    "kvparams = {\n",
    "    \"clear_history\": False,\n",
    "    \"map_seed\": map_seed,\n",
    "    \"epochs\": 200,\n",
    "    \"mini_batch_size\": 50,\n",
    "    \"eta\": 0.5,\n",
    "    \"reward_shift\": 3,\n",
    "    \"alpha\": 0.7\n",
    "}\n",
    "\n",
    "act_trainer = {\n",
    "    \"low\": 0.0,\n",
    "    \"high\": 0.0,\n",
    "    \"random_default\": 0.8,\n",
    "    \"random_bad\": 0.8,\n",
    "    \"random_good\": 0.8,\n",
    "    \"random_diff\": 0.8\n",
    "}\n",
    "\n",
    "random.seed(42)\n",
    "np.random.seed(42)\n",
    "agent1 = SimpleCarAgent(name=\"Ivan\", history_data=100000)\n",
    "# agent1.neural_net = Network([9, 18, 8, 1], output_function=lambda x: x, output_derivative=lambda x: 1)\n",
    "agent1.neural_net = RandomForestWrapper(n_estimators=50)"
   ]
  },
  {
   "cell_type": "code",
   "execution_count": 14,
   "metadata": {
    "scrolled": false
   },
   "outputs": [
    {
     "name": "stdout",
     "output_type": "stream",
     "text": [
      "\n",
      "----\n",
      "\n"
     ]
    },
    {
     "data": {
      "application/vnd.jupyter.widget-view+json": {
       "model_id": "86dadeb51e454c10944fbed2e810c376",
       "version_major": 2,
       "version_minor": 0
      },
      "text/plain": [
       "A Jupyter Widget"
      ]
     },
     "metadata": {},
     "output_type": "display_data"
    },
    {
     "data": {
      "application/vnd.jupyter.widget-view+json": {
       "model_id": "716f60d6df834db08fde8e4e9317ccdf",
       "version_major": 2,
       "version_minor": 0
      },
      "text/plain": [
       "A Jupyter Widget"
      ]
     },
     "metadata": {},
     "output_type": "display_data"
    },
    {
     "data": {
      "application/vnd.jupyter.widget-view+json": {
       "model_id": "e7bbff76484145f283ed4492c7430e11",
       "version_major": 2,
       "version_minor": 0
      },
      "text/plain": [
       "A Jupyter Widget"
      ]
     },
     "metadata": {},
     "output_type": "display_data"
    },
    {
     "data": {
      "application/vnd.jupyter.widget-view+json": {
       "model_id": "6748be4437b2447598a2e9940d21ef4c",
       "version_major": 2,
       "version_minor": 0
      },
      "text/plain": [
       "A Jupyter Widget"
      ]
     },
     "metadata": {},
     "output_type": "display_data"
    },
    {
     "name": "stdout",
     "output_type": "stream",
     "text": [
      "map_seed = 3\n",
      "train_rmse_before = 0.387033329, train_rmse_after = 0.045986702, \n",
      "mean_train_revard = -0.090, mean_test_reward  = -0.034,\n",
      "steps = total: 4000, bad: 0.0000, good: 1.0000, diff: 0.0000, other: 0.0000,\n",
      "collisions = 0.554250, circles = 0.586460\n",
      "\n"
     ]
    }
   ],
   "source": [
    "print(\"\\n\\n\".join(log_list) + \"\\n----\\n\")\n",
    "for _ in tqdm_notebook(range(1), desc=\"main\"):\n",
    "    mine_data(log_list, dyn_plot, agent1, act_trainer, steps=4000, **kvparams)"
   ]
  },
  {
   "cell_type": "code",
   "execution_count": 15,
   "metadata": {},
   "outputs": [
    {
     "name": "stdout",
     "output_type": "stream",
     "text": [
      "[-0.67741404 -0.31825664 -0.25803541 -0.16766315 -0.07817195 -0.00729\n",
      "  0.0236681   0.04483275  0.06353911  0.07548027  0.09613798]\n",
      "[-0.67741404 -0.60005884 -0.52270363 -0.44534843 -0.36799323 -0.29063803\n",
      " -0.21328283 -0.13592762 -0.05857242  0.01878278  0.09613798]\n"
     ]
    }
   ],
   "source": [
    "# Оценка парамтеров целевой функции\n",
    "agent_rew_hist = norm_y(np.array(agent1.reward_history))\n",
    "print(np.percentile(agent_rew_hist, np.linspace(0, 100, 11)))\n",
    "print(np.linspace(agent_rew_hist.min(), agent_rew_hist.max(), 11))"
   ]
  },
  {
   "cell_type": "code",
   "execution_count": 16,
   "metadata": {},
   "outputs": [
    {
     "data": {
      "application/javascript": [
       "/* Put everything inside the global mpl namespace */\n",
       "window.mpl = {};\n",
       "\n",
       "\n",
       "mpl.get_websocket_type = function() {\n",
       "    if (typeof(WebSocket) !== 'undefined') {\n",
       "        return WebSocket;\n",
       "    } else if (typeof(MozWebSocket) !== 'undefined') {\n",
       "        return MozWebSocket;\n",
       "    } else {\n",
       "        alert('Your browser does not have WebSocket support.' +\n",
       "              'Please try Chrome, Safari or Firefox ≥ 6. ' +\n",
       "              'Firefox 4 and 5 are also supported but you ' +\n",
       "              'have to enable WebSockets in about:config.');\n",
       "    };\n",
       "}\n",
       "\n",
       "mpl.figure = function(figure_id, websocket, ondownload, parent_element) {\n",
       "    this.id = figure_id;\n",
       "\n",
       "    this.ws = websocket;\n",
       "\n",
       "    this.supports_binary = (this.ws.binaryType != undefined);\n",
       "\n",
       "    if (!this.supports_binary) {\n",
       "        var warnings = document.getElementById(\"mpl-warnings\");\n",
       "        if (warnings) {\n",
       "            warnings.style.display = 'block';\n",
       "            warnings.textContent = (\n",
       "                \"This browser does not support binary websocket messages. \" +\n",
       "                    \"Performance may be slow.\");\n",
       "        }\n",
       "    }\n",
       "\n",
       "    this.imageObj = new Image();\n",
       "\n",
       "    this.context = undefined;\n",
       "    this.message = undefined;\n",
       "    this.canvas = undefined;\n",
       "    this.rubberband_canvas = undefined;\n",
       "    this.rubberband_context = undefined;\n",
       "    this.format_dropdown = undefined;\n",
       "\n",
       "    this.image_mode = 'full';\n",
       "\n",
       "    this.root = $('<div/>');\n",
       "    this._root_extra_style(this.root)\n",
       "    this.root.attr('style', 'display: inline-block');\n",
       "\n",
       "    $(parent_element).append(this.root);\n",
       "\n",
       "    this._init_header(this);\n",
       "    this._init_canvas(this);\n",
       "    this._init_toolbar(this);\n",
       "\n",
       "    var fig = this;\n",
       "\n",
       "    this.waiting = false;\n",
       "\n",
       "    this.ws.onopen =  function () {\n",
       "            fig.send_message(\"supports_binary\", {value: fig.supports_binary});\n",
       "            fig.send_message(\"send_image_mode\", {});\n",
       "            if (mpl.ratio != 1) {\n",
       "                fig.send_message(\"set_dpi_ratio\", {'dpi_ratio': mpl.ratio});\n",
       "            }\n",
       "            fig.send_message(\"refresh\", {});\n",
       "        }\n",
       "\n",
       "    this.imageObj.onload = function() {\n",
       "            if (fig.image_mode == 'full') {\n",
       "                // Full images could contain transparency (where diff images\n",
       "                // almost always do), so we need to clear the canvas so that\n",
       "                // there is no ghosting.\n",
       "                fig.context.clearRect(0, 0, fig.canvas.width, fig.canvas.height);\n",
       "            }\n",
       "            fig.context.drawImage(fig.imageObj, 0, 0);\n",
       "        };\n",
       "\n",
       "    this.imageObj.onunload = function() {\n",
       "        fig.ws.close();\n",
       "    }\n",
       "\n",
       "    this.ws.onmessage = this._make_on_message_function(this);\n",
       "\n",
       "    this.ondownload = ondownload;\n",
       "}\n",
       "\n",
       "mpl.figure.prototype._init_header = function() {\n",
       "    var titlebar = $(\n",
       "        '<div class=\"ui-dialog-titlebar ui-widget-header ui-corner-all ' +\n",
       "        'ui-helper-clearfix\"/>');\n",
       "    var titletext = $(\n",
       "        '<div class=\"ui-dialog-title\" style=\"width: 100%; ' +\n",
       "        'text-align: center; padding: 3px;\"/>');\n",
       "    titlebar.append(titletext)\n",
       "    this.root.append(titlebar);\n",
       "    this.header = titletext[0];\n",
       "}\n",
       "\n",
       "\n",
       "\n",
       "mpl.figure.prototype._canvas_extra_style = function(canvas_div) {\n",
       "\n",
       "}\n",
       "\n",
       "\n",
       "mpl.figure.prototype._root_extra_style = function(canvas_div) {\n",
       "\n",
       "}\n",
       "\n",
       "mpl.figure.prototype._init_canvas = function() {\n",
       "    var fig = this;\n",
       "\n",
       "    var canvas_div = $('<div/>');\n",
       "\n",
       "    canvas_div.attr('style', 'position: relative; clear: both; outline: 0');\n",
       "\n",
       "    function canvas_keyboard_event(event) {\n",
       "        return fig.key_event(event, event['data']);\n",
       "    }\n",
       "\n",
       "    canvas_div.keydown('key_press', canvas_keyboard_event);\n",
       "    canvas_div.keyup('key_release', canvas_keyboard_event);\n",
       "    this.canvas_div = canvas_div\n",
       "    this._canvas_extra_style(canvas_div)\n",
       "    this.root.append(canvas_div);\n",
       "\n",
       "    var canvas = $('<canvas/>');\n",
       "    canvas.addClass('mpl-canvas');\n",
       "    canvas.attr('style', \"left: 0; top: 0; z-index: 0; outline: 0\")\n",
       "\n",
       "    this.canvas = canvas[0];\n",
       "    this.context = canvas[0].getContext(\"2d\");\n",
       "\n",
       "    var backingStore = this.context.backingStorePixelRatio ||\n",
       "\tthis.context.webkitBackingStorePixelRatio ||\n",
       "\tthis.context.mozBackingStorePixelRatio ||\n",
       "\tthis.context.msBackingStorePixelRatio ||\n",
       "\tthis.context.oBackingStorePixelRatio ||\n",
       "\tthis.context.backingStorePixelRatio || 1;\n",
       "\n",
       "    mpl.ratio = (window.devicePixelRatio || 1) / backingStore;\n",
       "\n",
       "    var rubberband = $('<canvas/>');\n",
       "    rubberband.attr('style', \"position: absolute; left: 0; top: 0; z-index: 1;\")\n",
       "\n",
       "    var pass_mouse_events = true;\n",
       "\n",
       "    canvas_div.resizable({\n",
       "        start: function(event, ui) {\n",
       "            pass_mouse_events = false;\n",
       "        },\n",
       "        resize: function(event, ui) {\n",
       "            fig.request_resize(ui.size.width, ui.size.height);\n",
       "        },\n",
       "        stop: function(event, ui) {\n",
       "            pass_mouse_events = true;\n",
       "            fig.request_resize(ui.size.width, ui.size.height);\n",
       "        },\n",
       "    });\n",
       "\n",
       "    function mouse_event_fn(event) {\n",
       "        if (pass_mouse_events)\n",
       "            return fig.mouse_event(event, event['data']);\n",
       "    }\n",
       "\n",
       "    rubberband.mousedown('button_press', mouse_event_fn);\n",
       "    rubberband.mouseup('button_release', mouse_event_fn);\n",
       "    // Throttle sequential mouse events to 1 every 20ms.\n",
       "    rubberband.mousemove('motion_notify', mouse_event_fn);\n",
       "\n",
       "    rubberband.mouseenter('figure_enter', mouse_event_fn);\n",
       "    rubberband.mouseleave('figure_leave', mouse_event_fn);\n",
       "\n",
       "    canvas_div.on(\"wheel\", function (event) {\n",
       "        event = event.originalEvent;\n",
       "        event['data'] = 'scroll'\n",
       "        if (event.deltaY < 0) {\n",
       "            event.step = 1;\n",
       "        } else {\n",
       "            event.step = -1;\n",
       "        }\n",
       "        mouse_event_fn(event);\n",
       "    });\n",
       "\n",
       "    canvas_div.append(canvas);\n",
       "    canvas_div.append(rubberband);\n",
       "\n",
       "    this.rubberband = rubberband;\n",
       "    this.rubberband_canvas = rubberband[0];\n",
       "    this.rubberband_context = rubberband[0].getContext(\"2d\");\n",
       "    this.rubberband_context.strokeStyle = \"#000000\";\n",
       "\n",
       "    this._resize_canvas = function(width, height) {\n",
       "        // Keep the size of the canvas, canvas container, and rubber band\n",
       "        // canvas in synch.\n",
       "        canvas_div.css('width', width)\n",
       "        canvas_div.css('height', height)\n",
       "\n",
       "        canvas.attr('width', width * mpl.ratio);\n",
       "        canvas.attr('height', height * mpl.ratio);\n",
       "        canvas.attr('style', 'width: ' + width + 'px; height: ' + height + 'px;');\n",
       "\n",
       "        rubberband.attr('width', width);\n",
       "        rubberband.attr('height', height);\n",
       "    }\n",
       "\n",
       "    // Set the figure to an initial 600x600px, this will subsequently be updated\n",
       "    // upon first draw.\n",
       "    this._resize_canvas(600, 600);\n",
       "\n",
       "    // Disable right mouse context menu.\n",
       "    $(this.rubberband_canvas).bind(\"contextmenu\",function(e){\n",
       "        return false;\n",
       "    });\n",
       "\n",
       "    function set_focus () {\n",
       "        canvas.focus();\n",
       "        canvas_div.focus();\n",
       "    }\n",
       "\n",
       "    window.setTimeout(set_focus, 100);\n",
       "}\n",
       "\n",
       "mpl.figure.prototype._init_toolbar = function() {\n",
       "    var fig = this;\n",
       "\n",
       "    var nav_element = $('<div/>')\n",
       "    nav_element.attr('style', 'width: 100%');\n",
       "    this.root.append(nav_element);\n",
       "\n",
       "    // Define a callback function for later on.\n",
       "    function toolbar_event(event) {\n",
       "        return fig.toolbar_button_onclick(event['data']);\n",
       "    }\n",
       "    function toolbar_mouse_event(event) {\n",
       "        return fig.toolbar_button_onmouseover(event['data']);\n",
       "    }\n",
       "\n",
       "    for(var toolbar_ind in mpl.toolbar_items) {\n",
       "        var name = mpl.toolbar_items[toolbar_ind][0];\n",
       "        var tooltip = mpl.toolbar_items[toolbar_ind][1];\n",
       "        var image = mpl.toolbar_items[toolbar_ind][2];\n",
       "        var method_name = mpl.toolbar_items[toolbar_ind][3];\n",
       "\n",
       "        if (!name) {\n",
       "            // put a spacer in here.\n",
       "            continue;\n",
       "        }\n",
       "        var button = $('<button/>');\n",
       "        button.addClass('ui-button ui-widget ui-state-default ui-corner-all ' +\n",
       "                        'ui-button-icon-only');\n",
       "        button.attr('role', 'button');\n",
       "        button.attr('aria-disabled', 'false');\n",
       "        button.click(method_name, toolbar_event);\n",
       "        button.mouseover(tooltip, toolbar_mouse_event);\n",
       "\n",
       "        var icon_img = $('<span/>');\n",
       "        icon_img.addClass('ui-button-icon-primary ui-icon');\n",
       "        icon_img.addClass(image);\n",
       "        icon_img.addClass('ui-corner-all');\n",
       "\n",
       "        var tooltip_span = $('<span/>');\n",
       "        tooltip_span.addClass('ui-button-text');\n",
       "        tooltip_span.html(tooltip);\n",
       "\n",
       "        button.append(icon_img);\n",
       "        button.append(tooltip_span);\n",
       "\n",
       "        nav_element.append(button);\n",
       "    }\n",
       "\n",
       "    var fmt_picker_span = $('<span/>');\n",
       "\n",
       "    var fmt_picker = $('<select/>');\n",
       "    fmt_picker.addClass('mpl-toolbar-option ui-widget ui-widget-content');\n",
       "    fmt_picker_span.append(fmt_picker);\n",
       "    nav_element.append(fmt_picker_span);\n",
       "    this.format_dropdown = fmt_picker[0];\n",
       "\n",
       "    for (var ind in mpl.extensions) {\n",
       "        var fmt = mpl.extensions[ind];\n",
       "        var option = $(\n",
       "            '<option/>', {selected: fmt === mpl.default_extension}).html(fmt);\n",
       "        fmt_picker.append(option)\n",
       "    }\n",
       "\n",
       "    // Add hover states to the ui-buttons\n",
       "    $( \".ui-button\" ).hover(\n",
       "        function() { $(this).addClass(\"ui-state-hover\");},\n",
       "        function() { $(this).removeClass(\"ui-state-hover\");}\n",
       "    );\n",
       "\n",
       "    var status_bar = $('<span class=\"mpl-message\"/>');\n",
       "    nav_element.append(status_bar);\n",
       "    this.message = status_bar[0];\n",
       "}\n",
       "\n",
       "mpl.figure.prototype.request_resize = function(x_pixels, y_pixels) {\n",
       "    // Request matplotlib to resize the figure. Matplotlib will then trigger a resize in the client,\n",
       "    // which will in turn request a refresh of the image.\n",
       "    this.send_message('resize', {'width': x_pixels, 'height': y_pixels});\n",
       "}\n",
       "\n",
       "mpl.figure.prototype.send_message = function(type, properties) {\n",
       "    properties['type'] = type;\n",
       "    properties['figure_id'] = this.id;\n",
       "    this.ws.send(JSON.stringify(properties));\n",
       "}\n",
       "\n",
       "mpl.figure.prototype.send_draw_message = function() {\n",
       "    if (!this.waiting) {\n",
       "        this.waiting = true;\n",
       "        this.ws.send(JSON.stringify({type: \"draw\", figure_id: this.id}));\n",
       "    }\n",
       "}\n",
       "\n",
       "\n",
       "mpl.figure.prototype.handle_save = function(fig, msg) {\n",
       "    var format_dropdown = fig.format_dropdown;\n",
       "    var format = format_dropdown.options[format_dropdown.selectedIndex].value;\n",
       "    fig.ondownload(fig, format);\n",
       "}\n",
       "\n",
       "\n",
       "mpl.figure.prototype.handle_resize = function(fig, msg) {\n",
       "    var size = msg['size'];\n",
       "    if (size[0] != fig.canvas.width || size[1] != fig.canvas.height) {\n",
       "        fig._resize_canvas(size[0], size[1]);\n",
       "        fig.send_message(\"refresh\", {});\n",
       "    };\n",
       "}\n",
       "\n",
       "mpl.figure.prototype.handle_rubberband = function(fig, msg) {\n",
       "    var x0 = msg['x0'] / mpl.ratio;\n",
       "    var y0 = (fig.canvas.height - msg['y0']) / mpl.ratio;\n",
       "    var x1 = msg['x1'] / mpl.ratio;\n",
       "    var y1 = (fig.canvas.height - msg['y1']) / mpl.ratio;\n",
       "    x0 = Math.floor(x0) + 0.5;\n",
       "    y0 = Math.floor(y0) + 0.5;\n",
       "    x1 = Math.floor(x1) + 0.5;\n",
       "    y1 = Math.floor(y1) + 0.5;\n",
       "    var min_x = Math.min(x0, x1);\n",
       "    var min_y = Math.min(y0, y1);\n",
       "    var width = Math.abs(x1 - x0);\n",
       "    var height = Math.abs(y1 - y0);\n",
       "\n",
       "    fig.rubberband_context.clearRect(\n",
       "        0, 0, fig.canvas.width, fig.canvas.height);\n",
       "\n",
       "    fig.rubberband_context.strokeRect(min_x, min_y, width, height);\n",
       "}\n",
       "\n",
       "mpl.figure.prototype.handle_figure_label = function(fig, msg) {\n",
       "    // Updates the figure title.\n",
       "    fig.header.textContent = msg['label'];\n",
       "}\n",
       "\n",
       "mpl.figure.prototype.handle_cursor = function(fig, msg) {\n",
       "    var cursor = msg['cursor'];\n",
       "    switch(cursor)\n",
       "    {\n",
       "    case 0:\n",
       "        cursor = 'pointer';\n",
       "        break;\n",
       "    case 1:\n",
       "        cursor = 'default';\n",
       "        break;\n",
       "    case 2:\n",
       "        cursor = 'crosshair';\n",
       "        break;\n",
       "    case 3:\n",
       "        cursor = 'move';\n",
       "        break;\n",
       "    }\n",
       "    fig.rubberband_canvas.style.cursor = cursor;\n",
       "}\n",
       "\n",
       "mpl.figure.prototype.handle_message = function(fig, msg) {\n",
       "    fig.message.textContent = msg['message'];\n",
       "}\n",
       "\n",
       "mpl.figure.prototype.handle_draw = function(fig, msg) {\n",
       "    // Request the server to send over a new figure.\n",
       "    fig.send_draw_message();\n",
       "}\n",
       "\n",
       "mpl.figure.prototype.handle_image_mode = function(fig, msg) {\n",
       "    fig.image_mode = msg['mode'];\n",
       "}\n",
       "\n",
       "mpl.figure.prototype.updated_canvas_event = function() {\n",
       "    // Called whenever the canvas gets updated.\n",
       "    this.send_message(\"ack\", {});\n",
       "}\n",
       "\n",
       "// A function to construct a web socket function for onmessage handling.\n",
       "// Called in the figure constructor.\n",
       "mpl.figure.prototype._make_on_message_function = function(fig) {\n",
       "    return function socket_on_message(evt) {\n",
       "        if (evt.data instanceof Blob) {\n",
       "            /* FIXME: We get \"Resource interpreted as Image but\n",
       "             * transferred with MIME type text/plain:\" errors on\n",
       "             * Chrome.  But how to set the MIME type?  It doesn't seem\n",
       "             * to be part of the websocket stream */\n",
       "            evt.data.type = \"image/png\";\n",
       "\n",
       "            /* Free the memory for the previous frames */\n",
       "            if (fig.imageObj.src) {\n",
       "                (window.URL || window.webkitURL).revokeObjectURL(\n",
       "                    fig.imageObj.src);\n",
       "            }\n",
       "\n",
       "            fig.imageObj.src = (window.URL || window.webkitURL).createObjectURL(\n",
       "                evt.data);\n",
       "            fig.updated_canvas_event();\n",
       "            fig.waiting = false;\n",
       "            return;\n",
       "        }\n",
       "        else if (typeof evt.data === 'string' && evt.data.slice(0, 21) == \"data:image/png;base64\") {\n",
       "            fig.imageObj.src = evt.data;\n",
       "            fig.updated_canvas_event();\n",
       "            fig.waiting = false;\n",
       "            return;\n",
       "        }\n",
       "\n",
       "        var msg = JSON.parse(evt.data);\n",
       "        var msg_type = msg['type'];\n",
       "\n",
       "        // Call the  \"handle_{type}\" callback, which takes\n",
       "        // the figure and JSON message as its only arguments.\n",
       "        try {\n",
       "            var callback = fig[\"handle_\" + msg_type];\n",
       "        } catch (e) {\n",
       "            console.log(\"No handler for the '\" + msg_type + \"' message type: \", msg);\n",
       "            return;\n",
       "        }\n",
       "\n",
       "        if (callback) {\n",
       "            try {\n",
       "                // console.log(\"Handling '\" + msg_type + \"' message: \", msg);\n",
       "                callback(fig, msg);\n",
       "            } catch (e) {\n",
       "                console.log(\"Exception inside the 'handler_\" + msg_type + \"' callback:\", e, e.stack, msg);\n",
       "            }\n",
       "        }\n",
       "    };\n",
       "}\n",
       "\n",
       "// from http://stackoverflow.com/questions/1114465/getting-mouse-location-in-canvas\n",
       "mpl.findpos = function(e) {\n",
       "    //this section is from http://www.quirksmode.org/js/events_properties.html\n",
       "    var targ;\n",
       "    if (!e)\n",
       "        e = window.event;\n",
       "    if (e.target)\n",
       "        targ = e.target;\n",
       "    else if (e.srcElement)\n",
       "        targ = e.srcElement;\n",
       "    if (targ.nodeType == 3) // defeat Safari bug\n",
       "        targ = targ.parentNode;\n",
       "\n",
       "    // jQuery normalizes the pageX and pageY\n",
       "    // pageX,Y are the mouse positions relative to the document\n",
       "    // offset() returns the position of the element relative to the document\n",
       "    var x = e.pageX - $(targ).offset().left;\n",
       "    var y = e.pageY - $(targ).offset().top;\n",
       "\n",
       "    return {\"x\": x, \"y\": y};\n",
       "};\n",
       "\n",
       "/*\n",
       " * return a copy of an object with only non-object keys\n",
       " * we need this to avoid circular references\n",
       " * http://stackoverflow.com/a/24161582/3208463\n",
       " */\n",
       "function simpleKeys (original) {\n",
       "  return Object.keys(original).reduce(function (obj, key) {\n",
       "    if (typeof original[key] !== 'object')\n",
       "        obj[key] = original[key]\n",
       "    return obj;\n",
       "  }, {});\n",
       "}\n",
       "\n",
       "mpl.figure.prototype.mouse_event = function(event, name) {\n",
       "    var canvas_pos = mpl.findpos(event)\n",
       "\n",
       "    if (name === 'button_press')\n",
       "    {\n",
       "        this.canvas.focus();\n",
       "        this.canvas_div.focus();\n",
       "    }\n",
       "\n",
       "    var x = canvas_pos.x * mpl.ratio;\n",
       "    var y = canvas_pos.y * mpl.ratio;\n",
       "\n",
       "    this.send_message(name, {x: x, y: y, button: event.button,\n",
       "                             step: event.step,\n",
       "                             guiEvent: simpleKeys(event)});\n",
       "\n",
       "    /* This prevents the web browser from automatically changing to\n",
       "     * the text insertion cursor when the button is pressed.  We want\n",
       "     * to control all of the cursor setting manually through the\n",
       "     * 'cursor' event from matplotlib */\n",
       "    event.preventDefault();\n",
       "    return false;\n",
       "}\n",
       "\n",
       "mpl.figure.prototype._key_event_extra = function(event, name) {\n",
       "    // Handle any extra behaviour associated with a key event\n",
       "}\n",
       "\n",
       "mpl.figure.prototype.key_event = function(event, name) {\n",
       "\n",
       "    // Prevent repeat events\n",
       "    if (name == 'key_press')\n",
       "    {\n",
       "        if (event.which === this._key)\n",
       "            return;\n",
       "        else\n",
       "            this._key = event.which;\n",
       "    }\n",
       "    if (name == 'key_release')\n",
       "        this._key = null;\n",
       "\n",
       "    var value = '';\n",
       "    if (event.ctrlKey && event.which != 17)\n",
       "        value += \"ctrl+\";\n",
       "    if (event.altKey && event.which != 18)\n",
       "        value += \"alt+\";\n",
       "    if (event.shiftKey && event.which != 16)\n",
       "        value += \"shift+\";\n",
       "\n",
       "    value += 'k';\n",
       "    value += event.which.toString();\n",
       "\n",
       "    this._key_event_extra(event, name);\n",
       "\n",
       "    this.send_message(name, {key: value,\n",
       "                             guiEvent: simpleKeys(event)});\n",
       "    return false;\n",
       "}\n",
       "\n",
       "mpl.figure.prototype.toolbar_button_onclick = function(name) {\n",
       "    if (name == 'download') {\n",
       "        this.handle_save(this, null);\n",
       "    } else {\n",
       "        this.send_message(\"toolbar_button\", {name: name});\n",
       "    }\n",
       "};\n",
       "\n",
       "mpl.figure.prototype.toolbar_button_onmouseover = function(tooltip) {\n",
       "    this.message.textContent = tooltip;\n",
       "};\n",
       "mpl.toolbar_items = [[\"Home\", \"Reset original view\", \"fa fa-home icon-home\", \"home\"], [\"Back\", \"Back to  previous view\", \"fa fa-arrow-left icon-arrow-left\", \"back\"], [\"Forward\", \"Forward to next view\", \"fa fa-arrow-right icon-arrow-right\", \"forward\"], [\"\", \"\", \"\", \"\"], [\"Pan\", \"Pan axes with left mouse, zoom with right\", \"fa fa-arrows icon-move\", \"pan\"], [\"Zoom\", \"Zoom to rectangle\", \"fa fa-square-o icon-check-empty\", \"zoom\"], [\"\", \"\", \"\", \"\"], [\"Download\", \"Download plot\", \"fa fa-floppy-o icon-save\", \"download\"]];\n",
       "\n",
       "mpl.extensions = [\"eps\", \"jpeg\", \"pdf\", \"png\", \"ps\", \"raw\", \"svg\", \"tif\"];\n",
       "\n",
       "mpl.default_extension = \"png\";var comm_websocket_adapter = function(comm) {\n",
       "    // Create a \"websocket\"-like object which calls the given IPython comm\n",
       "    // object with the appropriate methods. Currently this is a non binary\n",
       "    // socket, so there is still some room for performance tuning.\n",
       "    var ws = {};\n",
       "\n",
       "    ws.close = function() {\n",
       "        comm.close()\n",
       "    };\n",
       "    ws.send = function(m) {\n",
       "        //console.log('sending', m);\n",
       "        comm.send(m);\n",
       "    };\n",
       "    // Register the callback with on_msg.\n",
       "    comm.on_msg(function(msg) {\n",
       "        //console.log('receiving', msg['content']['data'], msg);\n",
       "        // Pass the mpl event to the overriden (by mpl) onmessage function.\n",
       "        ws.onmessage(msg['content']['data'])\n",
       "    });\n",
       "    return ws;\n",
       "}\n",
       "\n",
       "mpl.mpl_figure_comm = function(comm, msg) {\n",
       "    // This is the function which gets called when the mpl process\n",
       "    // starts-up an IPython Comm through the \"matplotlib\" channel.\n",
       "\n",
       "    var id = msg.content.data.id;\n",
       "    // Get hold of the div created by the display call when the Comm\n",
       "    // socket was opened in Python.\n",
       "    var element = $(\"#\" + id);\n",
       "    var ws_proxy = comm_websocket_adapter(comm)\n",
       "\n",
       "    function ondownload(figure, format) {\n",
       "        window.open(figure.imageObj.src);\n",
       "    }\n",
       "\n",
       "    var fig = new mpl.figure(id, ws_proxy,\n",
       "                           ondownload,\n",
       "                           element.get(0));\n",
       "\n",
       "    // Call onopen now - mpl needs it, as it is assuming we've passed it a real\n",
       "    // web socket which is closed, not our websocket->open comm proxy.\n",
       "    ws_proxy.onopen();\n",
       "\n",
       "    fig.parent_element = element.get(0);\n",
       "    fig.cell_info = mpl.find_output_cell(\"<div id='\" + id + \"'></div>\");\n",
       "    if (!fig.cell_info) {\n",
       "        console.error(\"Failed to find cell for figure\", id, fig);\n",
       "        return;\n",
       "    }\n",
       "\n",
       "    var output_index = fig.cell_info[2]\n",
       "    var cell = fig.cell_info[0];\n",
       "\n",
       "};\n",
       "\n",
       "mpl.figure.prototype.handle_close = function(fig, msg) {\n",
       "    var width = fig.canvas.width/mpl.ratio\n",
       "    fig.root.unbind('remove')\n",
       "\n",
       "    // Update the output cell to use the data from the current canvas.\n",
       "    fig.push_to_output();\n",
       "    var dataURL = fig.canvas.toDataURL();\n",
       "    // Re-enable the keyboard manager in IPython - without this line, in FF,\n",
       "    // the notebook keyboard shortcuts fail.\n",
       "    IPython.keyboard_manager.enable()\n",
       "    $(fig.parent_element).html('<img src=\"' + dataURL + '\" width=\"' + width + '\">');\n",
       "    fig.close_ws(fig, msg);\n",
       "}\n",
       "\n",
       "mpl.figure.prototype.close_ws = function(fig, msg){\n",
       "    fig.send_message('closing', msg);\n",
       "    // fig.ws.close()\n",
       "}\n",
       "\n",
       "mpl.figure.prototype.push_to_output = function(remove_interactive) {\n",
       "    // Turn the data on the canvas into data in the output cell.\n",
       "    var width = this.canvas.width/mpl.ratio\n",
       "    var dataURL = this.canvas.toDataURL();\n",
       "    this.cell_info[1]['text/html'] = '<img src=\"' + dataURL + '\" width=\"' + width + '\">';\n",
       "}\n",
       "\n",
       "mpl.figure.prototype.updated_canvas_event = function() {\n",
       "    // Tell IPython that the notebook contents must change.\n",
       "    IPython.notebook.set_dirty(true);\n",
       "    this.send_message(\"ack\", {});\n",
       "    var fig = this;\n",
       "    // Wait a second, then push the new image to the DOM so\n",
       "    // that it is saved nicely (might be nice to debounce this).\n",
       "    setTimeout(function () { fig.push_to_output() }, 1000);\n",
       "}\n",
       "\n",
       "mpl.figure.prototype._init_toolbar = function() {\n",
       "    var fig = this;\n",
       "\n",
       "    var nav_element = $('<div/>')\n",
       "    nav_element.attr('style', 'width: 100%');\n",
       "    this.root.append(nav_element);\n",
       "\n",
       "    // Define a callback function for later on.\n",
       "    function toolbar_event(event) {\n",
       "        return fig.toolbar_button_onclick(event['data']);\n",
       "    }\n",
       "    function toolbar_mouse_event(event) {\n",
       "        return fig.toolbar_button_onmouseover(event['data']);\n",
       "    }\n",
       "\n",
       "    for(var toolbar_ind in mpl.toolbar_items){\n",
       "        var name = mpl.toolbar_items[toolbar_ind][0];\n",
       "        var tooltip = mpl.toolbar_items[toolbar_ind][1];\n",
       "        var image = mpl.toolbar_items[toolbar_ind][2];\n",
       "        var method_name = mpl.toolbar_items[toolbar_ind][3];\n",
       "\n",
       "        if (!name) { continue; };\n",
       "\n",
       "        var button = $('<button class=\"btn btn-default\" href=\"#\" title=\"' + name + '\"><i class=\"fa ' + image + ' fa-lg\"></i></button>');\n",
       "        button.click(method_name, toolbar_event);\n",
       "        button.mouseover(tooltip, toolbar_mouse_event);\n",
       "        nav_element.append(button);\n",
       "    }\n",
       "\n",
       "    // Add the status bar.\n",
       "    var status_bar = $('<span class=\"mpl-message\" style=\"text-align:right; float: right;\"/>');\n",
       "    nav_element.append(status_bar);\n",
       "    this.message = status_bar[0];\n",
       "\n",
       "    // Add the close button to the window.\n",
       "    var buttongrp = $('<div class=\"btn-group inline pull-right\"></div>');\n",
       "    var button = $('<button class=\"btn btn-mini btn-primary\" href=\"#\" title=\"Stop Interaction\"><i class=\"fa fa-power-off icon-remove icon-large\"></i></button>');\n",
       "    button.click(function (evt) { fig.handle_close(fig, {}); } );\n",
       "    button.mouseover('Stop Interaction', toolbar_mouse_event);\n",
       "    buttongrp.append(button);\n",
       "    var titlebar = this.root.find($('.ui-dialog-titlebar'));\n",
       "    titlebar.prepend(buttongrp);\n",
       "}\n",
       "\n",
       "mpl.figure.prototype._root_extra_style = function(el){\n",
       "    var fig = this\n",
       "    el.on(\"remove\", function(){\n",
       "\tfig.close_ws(fig, {});\n",
       "    });\n",
       "}\n",
       "\n",
       "mpl.figure.prototype._canvas_extra_style = function(el){\n",
       "    // this is important to make the div 'focusable\n",
       "    el.attr('tabindex', 0)\n",
       "    // reach out to IPython and tell the keyboard manager to turn it's self\n",
       "    // off when our div gets focus\n",
       "\n",
       "    // location in version 3\n",
       "    if (IPython.notebook.keyboard_manager) {\n",
       "        IPython.notebook.keyboard_manager.register_events(el);\n",
       "    }\n",
       "    else {\n",
       "        // location in version 2\n",
       "        IPython.keyboard_manager.register_events(el);\n",
       "    }\n",
       "\n",
       "}\n",
       "\n",
       "mpl.figure.prototype._key_event_extra = function(event, name) {\n",
       "    var manager = IPython.notebook.keyboard_manager;\n",
       "    if (!manager)\n",
       "        manager = IPython.keyboard_manager;\n",
       "\n",
       "    // Check for shift+enter\n",
       "    if (event.shiftKey && event.which == 13) {\n",
       "        this.canvas_div.blur();\n",
       "        event.shiftKey = false;\n",
       "        // Send a \"J\" for go to next cell\n",
       "        event.which = 74;\n",
       "        event.keyCode = 74;\n",
       "        manager.command_mode();\n",
       "        manager.handle_keydown(event);\n",
       "    }\n",
       "}\n",
       "\n",
       "mpl.figure.prototype.handle_save = function(fig, msg) {\n",
       "    fig.ondownload(fig, null);\n",
       "}\n",
       "\n",
       "\n",
       "mpl.find_output_cell = function(html_output) {\n",
       "    // Return the cell and output element which can be found *uniquely* in the notebook.\n",
       "    // Note - this is a bit hacky, but it is done because the \"notebook_saving.Notebook\"\n",
       "    // IPython event is triggered only after the cells have been serialised, which for\n",
       "    // our purposes (turning an active figure into a static one), is too late.\n",
       "    var cells = IPython.notebook.get_cells();\n",
       "    var ncells = cells.length;\n",
       "    for (var i=0; i<ncells; i++) {\n",
       "        var cell = cells[i];\n",
       "        if (cell.cell_type === 'code'){\n",
       "            for (var j=0; j<cell.output_area.outputs.length; j++) {\n",
       "                var data = cell.output_area.outputs[j];\n",
       "                if (data.data) {\n",
       "                    // IPython >= 3 moved mimebundle to data attribute of output\n",
       "                    data = data.data;\n",
       "                }\n",
       "                if (data['text/html'] == html_output) {\n",
       "                    return [cell, data, j];\n",
       "                }\n",
       "            }\n",
       "        }\n",
       "    }\n",
       "}\n",
       "\n",
       "// Register the function which deals with the matplotlib target/channel.\n",
       "// The kernel may be null if the page has been refreshed.\n",
       "if (IPython.notebook.kernel != null) {\n",
       "    IPython.notebook.kernel.comm_manager.register_target('matplotlib', mpl.mpl_figure_comm);\n",
       "}\n"
      ],
      "text/plain": [
       "<IPython.core.display.Javascript object>"
      ]
     },
     "metadata": {},
     "output_type": "display_data"
    },
    {
     "data": {
      "text/html": [
       "<img src=\"data:image/png;base64,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\" width=\"640\">"
      ],
      "text/plain": [
       "<IPython.core.display.HTML object>"
      ]
     },
     "metadata": {},
     "output_type": "display_data"
    },
    {
     "data": {
      "text/plain": [
       "(array([   31.,    10.,     8.,    24.,   595.,   461.,   342.,   341.,\n",
       "          646.,  1542.]),\n",
       " array([-0.67741404, -0.60005884, -0.52270363, -0.44534843, -0.36799323,\n",
       "        -0.29063803, -0.21328283, -0.13592762, -0.05857242,  0.01878278,\n",
       "         0.09613798]),\n",
       " <a list of 10 Patch objects>)"
      ]
     },
     "execution_count": 16,
     "metadata": {},
     "output_type": "execute_result"
    }
   ],
   "source": [
    "plt.hist(agent_rew_hist[:4000])"
   ]
  },
  {
   "cell_type": "code",
   "execution_count": 17,
   "metadata": {
    "collapsed": true
   },
   "outputs": [],
   "source": [
    "kvparams[\"eta\"] = 0.1\n",
    "\n",
    "act_trainer[\"low\"] = -0.15\n",
    "act_trainer[\"high\"] = 0.2\n",
    "\n",
    "act_trainer[\"random_default\"] = 0.10\n",
    "act_trainer[\"random_bad\"] = 0.80\n",
    "act_trainer[\"random_good\"] = 0.15\n",
    "act_trainer[\"random_diff\"] = 0.10"
   ]
  },
  {
   "cell_type": "code",
   "execution_count": 20,
   "metadata": {
    "scrolled": false
   },
   "outputs": [
    {
     "name": "stdout",
     "output_type": "stream",
     "text": [
      "map_seed = 3\n",
      "train_rmse_before = 0.387033329, train_rmse_after = 0.045986702, \n",
      "mean_train_revard = -0.090, mean_test_reward  = -0.034,\n",
      "steps = total: 4000, bad: 0.0000, good: 1.0000, diff: 0.0000, other: 0.0000,\n",
      "collisions = 0.554250, circles = 0.586460\n",
      "\n",
      "map_seed = 3\n",
      "train_rmse_before = 0.093635412, train_rmse_after = 0.042610028, \n",
      "mean_train_revard = -0.077, mean_test_reward  = -0.022,\n",
      "steps = total: 4000, bad: 0.4238, good: 0.0003, diff: 0.0000, other: 0.5760,\n",
      "collisions = 0.485500, circles = 1.707924\n",
      "\n",
      "map_seed = 13\n",
      "train_rmse_before = 0.081097572, train_rmse_after = 0.042009883, \n",
      "mean_train_revard = -0.072, mean_test_reward  = 0.005,\n",
      "steps = total: 4000, bad: 0.4385, good: 0.0020, diff: 0.0000, other: 0.5595,\n",
      "collisions = 0.511250, circles = 1.634792\n",
      "\n",
      "map_seed = 18\n",
      "train_rmse_before = 0.071153834, train_rmse_after = 0.040832713, \n",
      "mean_train_revard = -0.064, mean_test_reward  = 0.011,\n",
      "steps = total: 4000, bad: 0.3560, good: 0.0025, diff: 0.0000, other: 0.6415,\n",
      "collisions = 0.394000, circles = 1.743435\n",
      "\n",
      "map_seed = 23\n",
      "train_rmse_before = 0.069579643, train_rmse_after = 0.041196356, \n",
      "mean_train_revard = -0.064, mean_test_reward  = -0.050,\n",
      "steps = total: 4000, bad: 0.4698, good: 0.0008, diff: 0.0000, other: 0.5295,\n",
      "collisions = 0.535250, circles = 1.756586\n",
      "\n",
      "map_seed = 3\n",
      "train_rmse_before = 0.067985980, train_rmse_after = 0.041935679, \n",
      "mean_train_revard = -0.064, mean_test_reward  = 0.019,\n",
      "steps = total: 4000, bad: 0.3967, good: 0.0027, diff: 0.0000, other: 0.6005,\n",
      "collisions = 0.444500, circles = 2.154484\n",
      "\n",
      "map_seed = 13\n",
      "train_rmse_before = 0.062463559, train_rmse_after = 0.041961277, \n",
      "mean_train_revard = -0.063, mean_test_reward  = -0.359,\n",
      "steps = total: 4000, bad: 0.4480, good: 0.0030, diff: 0.0000, other: 0.5490,\n",
      "collisions = 0.503500, circles = 0.195774\n",
      "\n",
      "map_seed = 18\n",
      "train_rmse_before = 0.053238552, train_rmse_after = 0.041330256, \n",
      "mean_train_revard = -0.071, mean_test_reward  = -0.227,\n",
      "steps = total: 4000, bad: 0.3422, good: 0.0037, diff: 0.0000, other: 0.6540,\n",
      "collisions = 0.365250, circles = 0.987615\n",
      "\n",
      "map_seed = 23\n",
      "train_rmse_before = 0.054103884, train_rmse_after = 0.040835723, \n",
      "mean_train_revard = -0.074, mean_test_reward  = -0.010,\n",
      "steps = total: 4000, bad: 0.3745, good: 0.0040, diff: 0.0000, other: 0.6215,\n",
      "collisions = 0.422250, circles = 1.857214\n",
      "\n",
      "map_seed = 3\n",
      "train_rmse_before = 0.053210172, train_rmse_after = 0.040530639, \n",
      "mean_train_revard = -0.069, mean_test_reward  = 0.021,\n",
      "steps = total: 4000, bad: 0.2925, good: 0.0040, diff: 0.0000, other: 0.7035,\n",
      "collisions = 0.329250, circles = 2.284530\n",
      "\n",
      "map_seed = 13\n",
      "train_rmse_before = 0.051002219, train_rmse_after = 0.040251647, \n",
      "mean_train_revard = -0.067, mean_test_reward  = 0.034,\n",
      "steps = total: 4000, bad: 0.3830, good: 0.0037, diff: 0.0000, other: 0.6133,\n",
      "collisions = 0.418000, circles = 2.194644\n",
      "\n",
      "map_seed = 18\n",
      "train_rmse_before = 0.051351063, train_rmse_after = 0.040279761, \n",
      "mean_train_revard = -0.063, mean_test_reward  = 0.036,\n",
      "steps = total: 4000, bad: 0.3060, good: 0.0027, diff: 0.0000, other: 0.6912,\n",
      "collisions = 0.323000, circles = 2.497860\n",
      "\n",
      "map_seed = 23\n",
      "train_rmse_before = 0.050638130, train_rmse_after = 0.040156405, \n",
      "mean_train_revard = -0.061, mean_test_reward  = 0.023,\n",
      "steps = total: 4000, bad: 0.3965, good: 0.0040, diff: 0.0000, other: 0.5995,\n",
      "collisions = 0.465250, circles = 2.573654\n",
      "\n",
      "map_seed = 3\n",
      "train_rmse_before = 0.047765202, train_rmse_after = 0.039813436, \n",
      "mean_train_revard = -0.058, mean_test_reward  = 0.033,\n",
      "steps = total: 4000, bad: 0.3175, good: 0.0043, diff: 0.0000, other: 0.6783,\n",
      "collisions = 0.335000, circles = 2.352897\n",
      "\n",
      "map_seed = 13\n",
      "train_rmse_before = 0.047012354, train_rmse_after = 0.039538958, \n",
      "mean_train_revard = -0.055, mean_test_reward  = 0.043,\n",
      "steps = total: 4000, bad: 0.2665, good: 0.0055, diff: 0.0000, other: 0.7280,\n",
      "collisions = 0.307500, circles = 2.209609\n",
      "\n",
      "map_seed = 18\n",
      "train_rmse_before = 0.046937807, train_rmse_after = 0.039575906, \n",
      "mean_train_revard = -0.054, mean_test_reward  = 0.037,\n",
      "steps = total: 4000, bad: 0.3855, good: 0.0025, diff: 0.0000, other: 0.6120,\n",
      "collisions = 0.409000, circles = 2.275820\n",
      "\n",
      "map_seed = 23\n",
      "train_rmse_before = 0.047349087, train_rmse_after = 0.039490054, \n",
      "mean_train_revard = -0.054, mean_test_reward  = 0.029,\n",
      "steps = total: 4000, bad: 0.4365, good: 0.0045, diff: 0.0000, other: 0.5590,\n",
      "collisions = 0.538000, circles = 2.286314\n",
      "\n",
      "map_seed = 3\n",
      "train_rmse_before = 0.046492743, train_rmse_after = 0.039159997, \n",
      "mean_train_revard = -0.052, mean_test_reward  = 0.050,\n",
      "steps = total: 4000, bad: 0.3207, good: 0.0050, diff: 0.0000, other: 0.6743,\n",
      "collisions = 0.348750, circles = 2.777617\n",
      "\n",
      "map_seed = 13\n",
      "train_rmse_before = 0.045719781, train_rmse_after = 0.039385815, \n",
      "mean_train_revard = -0.051, mean_test_reward  = 0.034,\n",
      "steps = total: 4000, bad: 0.3130, good: 0.0032, diff: 0.0000, other: 0.6838,\n",
      "collisions = 0.330500, circles = 2.464004\n",
      "\n",
      "map_seed = 18\n",
      "train_rmse_before = 0.044389722, train_rmse_after = 0.038975439, \n",
      "mean_train_revard = -0.048, mean_test_reward  = 0.038,\n",
      "steps = total: 4000, bad: 0.3048, good: 0.0030, diff: 0.0000, other: 0.6923,\n",
      "collisions = 0.330000, circles = 2.577203\n",
      "\n",
      "map_seed = 23\n",
      "train_rmse_before = 0.044219126, train_rmse_after = 0.038990325, \n",
      "mean_train_revard = -0.046, mean_test_reward  = 0.013,\n",
      "steps = total: 4000, bad: 0.3407, good: 0.0010, diff: 0.0000, other: 0.6583,\n",
      "collisions = 0.386000, circles = 2.355748\n",
      "\n",
      "map_seed = 3\n",
      "train_rmse_before = 0.044344718, train_rmse_after = 0.038526619, \n",
      "mean_train_revard = -0.044, mean_test_reward  = 0.025,\n",
      "steps = total: 4000, bad: 0.2913, good: 0.0047, diff: 0.0000, other: 0.7040,\n",
      "collisions = 0.330000, circles = 2.858180\n",
      "\n",
      "map_seed = 13\n",
      "train_rmse_before = 0.043844604, train_rmse_after = 0.038715963, \n",
      "mean_train_revard = -0.044, mean_test_reward  = 0.048,\n",
      "steps = total: 4000, bad: 0.3755, good: 0.0123, diff: 0.0000, other: 0.6122,\n",
      "collisions = 0.402000, circles = 2.104204\n",
      "\n",
      "map_seed = 18\n",
      "train_rmse_before = 0.044882545, train_rmse_after = 0.038614851, \n",
      "mean_train_revard = -0.042, mean_test_reward  = 0.045,\n",
      "steps = total: 4000, bad: 0.3660, good: 0.0123, diff: 0.0000, other: 0.6218,\n",
      "collisions = 0.390250, circles = 2.673374\n",
      "\n",
      "map_seed = 23\n",
      "train_rmse_before = 0.045821477, train_rmse_after = 0.038616287, \n",
      "mean_train_revard = -0.041, mean_test_reward  = 0.016,\n",
      "steps = total: 4000, bad: 0.4055, good: 0.0107, diff: 0.0000, other: 0.5837,\n",
      "collisions = 0.503750, circles = 2.724851\n",
      "\n",
      "map_seed = 3\n",
      "train_rmse_before = 0.044357330, train_rmse_after = 0.038714782, \n",
      "mean_train_revard = -0.040, mean_test_reward  = 0.042,\n",
      "steps = total: 4000, bad: 0.3485, good: 0.0075, diff: 0.0000, other: 0.6440,\n",
      "collisions = 0.388250, circles = 3.008166\n",
      "\n",
      "map_seed = 13\n",
      "train_rmse_before = 0.045752802, train_rmse_after = 0.038627081, \n",
      "mean_train_revard = -0.035, mean_test_reward  = 0.035,\n",
      "steps = total: 4000, bad: 0.3603, good: 0.0065, diff: 0.0000, other: 0.6332,\n",
      "collisions = 0.397500, circles = 2.509032\n",
      "\n",
      "map_seed = 18\n",
      "train_rmse_before = 0.043405039, train_rmse_after = 0.038620909, \n",
      "mean_train_revard = -0.031, mean_test_reward  = 0.042,\n",
      "steps = total: 4000, bad: 0.3287, good: 0.0092, diff: 0.0000, other: 0.6620,\n",
      "collisions = 0.362000, circles = 2.624524\n",
      "\n",
      "map_seed = 23\n",
      "train_rmse_before = 0.044481168, train_rmse_after = 0.038345821, \n",
      "mean_train_revard = -0.031, mean_test_reward  = 0.019,\n",
      "steps = total: 4000, bad: 0.3937, good: 0.0047, diff: 0.0000, other: 0.6015,\n",
      "collisions = 0.480000, circles = 2.236991\n",
      "\n",
      "map_seed = 3\n",
      "train_rmse_before = 0.044161090, train_rmse_after = 0.038313144, \n",
      "mean_train_revard = -0.032, mean_test_reward  = 0.031,\n",
      "steps = total: 4000, bad: 0.3630, good: 0.0147, diff: 0.0000, other: 0.6222,\n",
      "collisions = 0.387500, circles = 2.614128\n",
      "\n",
      "map_seed = 13\n",
      "train_rmse_before = 0.043699658, train_rmse_after = 0.038206578, \n",
      "mean_train_revard = -0.032, mean_test_reward  = 0.039,\n",
      "steps = total: 4000, bad: 0.3620, good: 0.0192, diff: 0.0000, other: 0.6188,\n",
      "collisions = 0.410500, circles = 2.545812\n",
      "\n",
      "map_seed = 18\n",
      "train_rmse_before = 0.044262429, train_rmse_after = 0.038210805, \n",
      "mean_train_revard = -0.032, mean_test_reward  = 0.045,\n",
      "steps = total: 4000, bad: 0.3290, good: 0.0152, diff: 0.0000, other: 0.6558,\n",
      "collisions = 0.372250, circles = 2.894412\n",
      "\n",
      "map_seed = 23\n",
      "train_rmse_before = 0.045692836, train_rmse_after = 0.038477361, \n",
      "mean_train_revard = -0.033, mean_test_reward  = 0.021,\n",
      "steps = total: 4000, bad: 0.4228, good: 0.0095, diff: 0.0000, other: 0.5677,\n",
      "collisions = 0.549000, circles = 2.671833\n",
      "\n",
      "map_seed = 3\n",
      "train_rmse_before = 0.045667203, train_rmse_after = 0.038606326, \n",
      "mean_train_revard = -0.034, mean_test_reward  = 0.043,\n",
      "steps = total: 4000, bad: 0.3543, good: 0.0138, diff: 0.0000, other: 0.6320,\n",
      "collisions = 0.412250, circles = 2.895669\n",
      "\n",
      "map_seed = 13\n",
      "train_rmse_before = 0.045096387, train_rmse_after = 0.039130651, \n",
      "mean_train_revard = -0.034, mean_test_reward  = 0.046,\n",
      "steps = total: 4000, bad: 0.3498, good: 0.0165, diff: 0.0000, other: 0.6338,\n",
      "collisions = 0.365500, circles = 2.233033\n",
      "\n",
      "map_seed = 18\n",
      "train_rmse_before = 0.045730962, train_rmse_after = 0.038908733, \n",
      "mean_train_revard = -0.033, mean_test_reward  = 0.041,\n",
      "steps = total: 4000, bad: 0.3655, good: 0.0115, diff: 0.0000, other: 0.6230,\n",
      "collisions = 0.415500, circles = 2.728905\n",
      "\n",
      "map_seed = 23\n",
      "train_rmse_before = 0.046510804, train_rmse_after = 0.039222985, \n",
      "mean_train_revard = -0.034, mean_test_reward  = 0.014,\n",
      "steps = total: 4000, bad: 0.4057, good: 0.0125, diff: 0.0003, other: 0.5815,\n",
      "collisions = 0.464750, circles = 2.649247\n",
      "\n",
      "map_seed = 3\n",
      "train_rmse_before = 0.046235454, train_rmse_after = 0.039274492, \n",
      "mean_train_revard = -0.036, mean_test_reward  = 0.044,\n",
      "steps = total: 4000, bad: 0.4030, good: 0.0123, diff: 0.0000, other: 0.5847,\n",
      "collisions = 0.435250, circles = 3.001344\n",
      "\n",
      "map_seed = 13\n",
      "train_rmse_before = 0.045562607, train_rmse_after = 0.039854355, \n",
      "mean_train_revard = -0.038, mean_test_reward  = 0.032,\n",
      "steps = total: 4000, bad: 0.4525, good: 0.0180, diff: 0.0000, other: 0.5295,\n",
      "collisions = 0.503000, circles = 2.811922\n",
      "\n",
      "map_seed = 18\n",
      "train_rmse_before = 0.045970447, train_rmse_after = 0.039933113, \n",
      "mean_train_revard = -0.038, mean_test_reward  = 0.040,\n",
      "steps = total: 4000, bad: 0.3598, good: 0.0227, diff: 0.0000, other: 0.6175,\n",
      "collisions = 0.378500, circles = 2.796636\n",
      "\n",
      "map_seed = 23\n",
      "train_rmse_before = 0.046109152, train_rmse_after = 0.040089805, \n",
      "mean_train_revard = -0.039, mean_test_reward  = 0.022,\n",
      "steps = total: 4000, bad: 0.3615, good: 0.0130, diff: 0.0003, other: 0.6252,\n",
      "collisions = 0.419500, circles = 2.340287\n",
      "\n",
      "map_seed = 3\n",
      "train_rmse_before = 0.045405378, train_rmse_after = 0.040359343, \n",
      "mean_train_revard = -0.039, mean_test_reward  = 0.036,\n",
      "steps = total: 4000, bad: 0.3222, good: 0.0173, diff: 0.0000, other: 0.6605,\n",
      "collisions = 0.346750, circles = 2.910319\n",
      "\n",
      "map_seed = 13\n",
      "train_rmse_before = 0.046142248, train_rmse_after = 0.040221905, \n",
      "mean_train_revard = -0.039, mean_test_reward  = 0.044,\n",
      "steps = total: 4000, bad: 0.3603, good: 0.0225, diff: 0.0000, other: 0.6173,\n",
      "collisions = 0.403750, circles = 2.732395\n",
      "\n",
      "map_seed = 18\n",
      "train_rmse_before = 0.045386594, train_rmse_after = 0.040013287, \n",
      "mean_train_revard = -0.039, mean_test_reward  = 0.047,\n",
      "steps = total: 4000, bad: 0.3935, good: 0.0120, diff: 0.0000, other: 0.5945,\n",
      "collisions = 0.443250, circles = 2.922895\n",
      "\n",
      "map_seed = 23\n",
      "train_rmse_before = 0.045931844, train_rmse_after = 0.040137387, \n",
      "mean_train_revard = -0.038, mean_test_reward  = 0.023,\n",
      "steps = total: 4000, bad: 0.3738, good: 0.0123, diff: 0.0000, other: 0.6140,\n",
      "collisions = 0.445000, circles = 2.747720\n",
      "\n",
      "map_seed = 3\n",
      "train_rmse_before = 0.046015080, train_rmse_after = 0.039900254, \n",
      "mean_train_revard = -0.039, mean_test_reward  = 0.037,\n",
      "steps = total: 4000, bad: 0.3382, good: 0.0112, diff: 0.0000, other: 0.6505,\n",
      "collisions = 0.384500, circles = 3.169154\n",
      "\n",
      "map_seed = 13\n",
      "train_rmse_before = 0.047421643, train_rmse_after = 0.040450222, \n",
      "mean_train_revard = -0.039, mean_test_reward  = 0.029,\n",
      "steps = total: 4000, bad: 0.3690, good: 0.0180, diff: 0.0000, other: 0.6130,\n",
      "collisions = 0.407000, circles = 2.717819\n",
      "\n",
      "map_seed = 18\n",
      "train_rmse_before = 0.046703618, train_rmse_after = 0.040285586, \n",
      "mean_train_revard = -0.039, mean_test_reward  = 0.036,\n",
      "steps = total: 4000, bad: 0.3250, good: 0.0155, diff: 0.0000, other: 0.6595,\n",
      "collisions = 0.361250, circles = 2.517171\n",
      "\n",
      "map_seed = 23\n",
      "train_rmse_before = 0.047035916, train_rmse_after = 0.040248094, \n",
      "mean_train_revard = -0.039, mean_test_reward  = 0.017,\n",
      "steps = total: 4000, bad: 0.3700, good: 0.0115, diff: 0.0003, other: 0.6182,\n",
      "collisions = 0.442000, circles = 2.568907\n",
      "\n",
      "map_seed = 3\n",
      "train_rmse_before = 0.045821254, train_rmse_after = 0.040422612, \n",
      "mean_train_revard = -0.039, mean_test_reward  = 0.033,\n",
      "steps = total: 4000, bad: 0.3142, good: 0.0217, diff: 0.0000, other: 0.6640,\n",
      "collisions = 0.342500, circles = 3.046995\n",
      "\n",
      "map_seed = 13\n",
      "train_rmse_before = 0.045478515, train_rmse_after = 0.040244117, \n",
      "mean_train_revard = -0.039, mean_test_reward  = 0.024,\n",
      "steps = total: 4000, bad: 0.3967, good: 0.0200, diff: 0.0000, other: 0.5833,\n",
      "collisions = 0.440750, circles = 2.229086\n",
      "\n",
      "map_seed = 18\n",
      "train_rmse_before = 0.044859389, train_rmse_after = 0.040138351, \n",
      "mean_train_revard = -0.038, mean_test_reward  = 0.040,\n",
      "steps = total: 4000, bad: 0.3090, good: 0.0220, diff: 0.0000, other: 0.6690,\n",
      "collisions = 0.330250, circles = 2.942557\n",
      "\n",
      "map_seed = 23\n",
      "train_rmse_before = 0.047270290, train_rmse_after = 0.040026805, \n",
      "mean_train_revard = -0.038, mean_test_reward  = 0.021,\n",
      "steps = total: 4000, bad: 0.3937, good: 0.0088, diff: 0.0000, other: 0.5975,\n",
      "collisions = 0.486250, circles = 2.720193\n",
      "\n",
      "map_seed = 3\n",
      "train_rmse_before = 0.045004549, train_rmse_after = 0.040031937, \n",
      "mean_train_revard = -0.038, mean_test_reward  = 0.042,\n",
      "steps = total: 4000, bad: 0.3287, good: 0.0198, diff: 0.0000, other: 0.6515,\n",
      "collisions = 0.407500, circles = 3.008211\n",
      "\n",
      "map_seed = 13\n",
      "train_rmse_before = 0.045843393, train_rmse_after = 0.039626475, \n",
      "mean_train_revard = -0.039, mean_test_reward  = 0.036,\n",
      "steps = total: 4000, bad: 0.3837, good: 0.0138, diff: 0.0000, other: 0.6025,\n",
      "collisions = 0.420750, circles = 2.796820\n",
      "\n",
      "map_seed = 18\n",
      "train_rmse_before = 0.044458281, train_rmse_after = 0.039601358, \n",
      "mean_train_revard = -0.038, mean_test_reward  = 0.032,\n",
      "steps = total: 4000, bad: 0.3458, good: 0.0208, diff: 0.0000, other: 0.6335,\n",
      "collisions = 0.392000, circles = 2.746832\n",
      "\n",
      "map_seed = 23\n",
      "train_rmse_before = 0.045660285, train_rmse_after = 0.039755435, \n",
      "mean_train_revard = -0.038, mean_test_reward  = 0.007,\n",
      "steps = total: 4000, bad: 0.4042, good: 0.0168, diff: 0.0000, other: 0.5790,\n",
      "collisions = 0.496250, circles = 2.249962\n",
      "\n",
      "map_seed = 3\n",
      "train_rmse_before = 0.045677955, train_rmse_after = 0.039533208, \n",
      "mean_train_revard = -0.037, mean_test_reward  = 0.032,\n",
      "steps = total: 4000, bad: 0.3540, good: 0.0135, diff: 0.0000, other: 0.6325,\n",
      "collisions = 0.409750, circles = 3.104731\n",
      "\n",
      "map_seed = 13\n",
      "train_rmse_before = 0.045634186, train_rmse_after = 0.039389034, \n",
      "mean_train_revard = -0.037, mean_test_reward  = 0.030,\n",
      "steps = total: 4000, bad: 0.3325, good: 0.0165, diff: 0.0000, other: 0.6510,\n",
      "collisions = 0.381500, circles = 2.722857\n",
      "\n",
      "map_seed = 18\n",
      "train_rmse_before = 0.045024272, train_rmse_after = 0.039598147, \n",
      "mean_train_revard = -0.037, mean_test_reward  = 0.034,\n",
      "steps = total: 4000, bad: 0.3890, good: 0.0143, diff: 0.0000, other: 0.5968,\n",
      "collisions = 0.436750, circles = 2.986703\n",
      "\n",
      "map_seed = 23\n",
      "train_rmse_before = 0.046562465, train_rmse_after = 0.039491283, \n",
      "mean_train_revard = -0.038, mean_test_reward  = 0.016,\n",
      "steps = total: 4000, bad: 0.4042, good: 0.0200, diff: 0.0003, other: 0.5755,\n",
      "collisions = 0.497750, circles = 3.234575\n",
      "\n",
      "map_seed = 3\n",
      "train_rmse_before = 0.046492210, train_rmse_after = 0.039892320, \n",
      "mean_train_revard = -0.039, mean_test_reward  = 0.010,\n",
      "steps = total: 4000, bad: 0.4085, good: 0.0095, diff: 0.0000, other: 0.5820,\n",
      "collisions = 0.441250, circles = 3.037587\n",
      "\n",
      "map_seed = 13\n",
      "train_rmse_before = 0.045207666, train_rmse_after = 0.039475666, \n",
      "mean_train_revard = -0.039, mean_test_reward  = 0.026,\n",
      "steps = total: 4000, bad: 0.3570, good: 0.0110, diff: 0.0000, other: 0.6320,\n",
      "collisions = 0.382750, circles = 3.056893\n",
      "\n",
      "map_seed = 18\n",
      "train_rmse_before = 0.044258292, train_rmse_after = 0.039295184, \n",
      "mean_train_revard = -0.038, mean_test_reward  = 0.035,\n",
      "steps = total: 4000, bad: 0.3182, good: 0.0138, diff: 0.0000, other: 0.6680,\n",
      "collisions = 0.361000, circles = 2.734424\n",
      "\n",
      "map_seed = 23\n",
      "train_rmse_before = 0.046793851, train_rmse_after = 0.039164435, \n",
      "mean_train_revard = -0.039, mean_test_reward  = 0.017,\n",
      "steps = total: 4000, bad: 0.4480, good: 0.0123, diff: 0.0000, other: 0.5397,\n",
      "collisions = 0.513000, circles = 3.214370\n",
      "\n",
      "map_seed = 3\n",
      "train_rmse_before = 0.045310841, train_rmse_after = 0.039383998, \n",
      "mean_train_revard = -0.040, mean_test_reward  = 0.019,\n",
      "steps = total: 4000, bad: 0.3620, good: 0.0140, diff: 0.0000, other: 0.6240,\n",
      "collisions = 0.404000, circles = 3.267585\n",
      "\n",
      "map_seed = 13\n",
      "train_rmse_before = 0.047028327, train_rmse_after = 0.039537642, \n",
      "mean_train_revard = -0.040, mean_test_reward  = 0.034,\n",
      "steps = total: 4000, bad: 0.3575, good: 0.0227, diff: 0.0000, other: 0.6198,\n",
      "collisions = 0.395500, circles = 3.001113\n",
      "\n",
      "map_seed = 18\n",
      "train_rmse_before = 0.044171742, train_rmse_after = 0.039145072, \n",
      "mean_train_revard = -0.040, mean_test_reward  = 0.037,\n",
      "steps = total: 4000, bad: 0.3048, good: 0.0222, diff: 0.0000, other: 0.6730,\n",
      "collisions = 0.357500, circles = 3.092111\n",
      "\n",
      "map_seed = 23\n",
      "train_rmse_before = 0.046051651, train_rmse_after = 0.039125200, \n",
      "mean_train_revard = -0.040, mean_test_reward  = 0.019,\n",
      "steps = total: 4000, bad: 0.3957, good: 0.0077, diff: 0.0000, other: 0.5965,\n",
      "collisions = 0.549750, circles = 3.229400\n",
      "\n",
      "map_seed = 3\n",
      "train_rmse_before = 0.044290393, train_rmse_after = 0.038918012, \n",
      "mean_train_revard = -0.039, mean_test_reward  = 0.039,\n",
      "steps = total: 4000, bad: 0.2762, good: 0.0140, diff: 0.0000, other: 0.7097,\n",
      "collisions = 0.326000, circles = 3.361001\n",
      "\n",
      "map_seed = 13\n",
      "train_rmse_before = 0.044799987, train_rmse_after = 0.039088784, \n",
      "mean_train_revard = -0.039, mean_test_reward  = 0.040,\n",
      "steps = total: 4000, bad: 0.3132, good: 0.0245, diff: 0.0000, other: 0.6623,\n",
      "collisions = 0.352500, circles = 3.155640\n",
      "\n",
      "map_seed = 18\n",
      "train_rmse_before = 0.045212413, train_rmse_after = 0.039162407, \n",
      "mean_train_revard = -0.038, mean_test_reward  = 0.031,\n",
      "steps = total: 4000, bad: 0.3085, good: 0.0190, diff: 0.0000, other: 0.6725,\n",
      "collisions = 0.339000, circles = 3.000307\n",
      "\n",
      "map_seed = 23\n",
      "train_rmse_before = 0.046173838, train_rmse_after = 0.039434420, \n",
      "mean_train_revard = -0.039, mean_test_reward  = 0.011,\n",
      "steps = total: 4000, bad: 0.4030, good: 0.0063, diff: 0.0000, other: 0.5907,\n",
      "collisions = 0.485500, circles = 2.607946\n",
      "\n",
      "map_seed = 3\n",
      "train_rmse_before = 0.044525913, train_rmse_after = 0.039288870, \n",
      "mean_train_revard = -0.039, mean_test_reward  = 0.032,\n",
      "steps = total: 4000, bad: 0.3322, good: 0.0097, diff: 0.0000, other: 0.6580,\n",
      "collisions = 0.359250, circles = 3.694378\n",
      "\n",
      "map_seed = 13\n",
      "train_rmse_before = 0.045456292, train_rmse_after = 0.039231319, \n",
      "mean_train_revard = -0.039, mean_test_reward  = 0.029,\n",
      "steps = total: 4000, bad: 0.3775, good: 0.0225, diff: 0.0000, other: 0.6000,\n",
      "collisions = 0.429500, circles = 3.127898\n",
      "\n",
      "map_seed = 18\n",
      "train_rmse_before = 0.044609145, train_rmse_after = 0.039304193, \n",
      "mean_train_revard = -0.039, mean_test_reward  = 0.033,\n",
      "steps = total: 4000, bad: 0.3370, good: 0.0203, diff: 0.0000, other: 0.6427,\n",
      "collisions = 0.348250, circles = 3.469204\n",
      "\n",
      "map_seed = 23\n",
      "train_rmse_before = 0.046188515, train_rmse_after = 0.039444646, \n",
      "mean_train_revard = -0.039, mean_test_reward  = 0.014,\n",
      "steps = total: 4000, bad: 0.4173, good: 0.0075, diff: 0.0000, other: 0.5753,\n",
      "collisions = 0.564250, circles = 3.298845\n",
      "\n",
      "map_seed = 3\n",
      "train_rmse_before = 0.044562619, train_rmse_after = 0.039279714, \n",
      "mean_train_revard = -0.039, mean_test_reward  = 0.030,\n",
      "steps = total: 4000, bad: 0.3080, good: 0.0155, diff: 0.0000, other: 0.6765,\n",
      "collisions = 0.371250, circles = 3.913697\n",
      "\n",
      "map_seed = 13\n",
      "train_rmse_before = 0.045161059, train_rmse_after = 0.039259747, \n",
      "mean_train_revard = -0.039, mean_test_reward  = 0.031,\n",
      "steps = total: 4000, bad: 0.3927, good: 0.0115, diff: 0.0000, other: 0.5958,\n",
      "collisions = 0.417750, circles = 3.131211\n",
      "\n",
      "map_seed = 18\n",
      "train_rmse_before = 0.044082865, train_rmse_after = 0.039370244, \n",
      "mean_train_revard = -0.039, mean_test_reward  = 0.034,\n",
      "steps = total: 4000, bad: 0.3390, good: 0.0143, diff: 0.0000, other: 0.6467,\n",
      "collisions = 0.371250, circles = 2.944591\n",
      "\n",
      "map_seed = 23\n",
      "train_rmse_before = 0.044416079, train_rmse_after = 0.038889626, \n",
      "mean_train_revard = -0.038, mean_test_reward  = -0.319,\n",
      "steps = total: 4000, bad: 0.3553, good: 0.0187, diff: 0.0000, other: 0.6260,\n",
      "collisions = 0.421750, circles = 0.000000\n",
      "----\n"
     ]
    },
    {
     "name": "stdout",
     "output_type": "stream",
     "text": [
      "\n"
     ]
    },
    {
     "data": {
      "application/vnd.jupyter.widget-view+json": {
       "model_id": "59acc8b5bb304a6886bb138c6feac149",
       "version_major": 2,
       "version_minor": 0
      },
      "text/plain": [
       "A Jupyter Widget"
      ]
     },
     "metadata": {},
     "output_type": "display_data"
    },
    {
     "data": {
      "application/vnd.jupyter.widget-view+json": {
       "model_id": "cee28460240546718314c105a887cb4b",
       "version_major": 2,
       "version_minor": 0
      },
      "text/plain": [
       "A Jupyter Widget"
      ]
     },
     "metadata": {},
     "output_type": "display_data"
    },
    {
     "data": {
      "application/vnd.jupyter.widget-view+json": {
       "model_id": "08c80b5bb785442a9b68c4b72966d44e",
       "version_major": 2,
       "version_minor": 0
      },
      "text/plain": [
       "A Jupyter Widget"
      ]
     },
     "metadata": {},
     "output_type": "display_data"
    },
    {
     "data": {
      "application/vnd.jupyter.widget-view+json": {
       "model_id": "35211b6a8bc94a6f8a234871705a8b69",
       "version_major": 2,
       "version_minor": 0
      },
      "text/plain": [
       "A Jupyter Widget"
      ]
     },
     "metadata": {},
     "output_type": "display_data"
    },
    {
     "name": "stdout",
     "output_type": "stream",
     "text": [
      "map_seed = 3\n",
      "train_rmse_before = 0.058568327, train_rmse_after = 0.039080490, \n",
      "mean_train_revard = -0.042, mean_test_reward  = 0.030,\n",
      "steps = total: 4000, bad: 0.3785, good: 0.0130, diff: 0.0000, other: 0.6085,\n",
      "collisions = 0.394000, circles = 3.238052\n",
      "\n"
     ]
    },
    {
     "data": {
      "application/vnd.jupyter.widget-view+json": {
       "model_id": "3c54ec119ce042feb14c76bc10532024",
       "version_major": 2,
       "version_minor": 0
      },
      "text/plain": [
       "A Jupyter Widget"
      ]
     },
     "metadata": {},
     "output_type": "display_data"
    },
    {
     "data": {
      "application/vnd.jupyter.widget-view+json": {
       "model_id": "78c4adcfb6d146b2bb00af0ec92a7dab",
       "version_major": 2,
       "version_minor": 0
      },
      "text/plain": [
       "A Jupyter Widget"
      ]
     },
     "metadata": {},
     "output_type": "display_data"
    },
    {
     "data": {
      "application/vnd.jupyter.widget-view+json": {
       "model_id": "42d42b55e4184195b081383dde07a3fe",
       "version_major": 2,
       "version_minor": 0
      },
      "text/plain": [
       "A Jupyter Widget"
      ]
     },
     "metadata": {},
     "output_type": "display_data"
    },
    {
     "name": "stdout",
     "output_type": "stream",
     "text": [
      "map_seed = 13\n",
      "train_rmse_before = 0.044969149, train_rmse_after = 0.039115772, \n",
      "mean_train_revard = -0.042, mean_test_reward  = 0.032,\n",
      "steps = total: 4000, bad: 0.3463, good: 0.0163, diff: 0.0000, other: 0.6375,\n",
      "collisions = 0.403000, circles = 2.818419\n",
      "\n"
     ]
    },
    {
     "data": {
      "application/vnd.jupyter.widget-view+json": {
       "model_id": "6c4efdf59e0a48b0af4d0df963799a53",
       "version_major": 2,
       "version_minor": 0
      },
      "text/plain": [
       "A Jupyter Widget"
      ]
     },
     "metadata": {},
     "output_type": "display_data"
    },
    {
     "data": {
      "application/vnd.jupyter.widget-view+json": {
       "model_id": "1157ce3cc3e3484fafdd5c4d9517c095",
       "version_major": 2,
       "version_minor": 0
      },
      "text/plain": [
       "A Jupyter Widget"
      ]
     },
     "metadata": {},
     "output_type": "display_data"
    },
    {
     "data": {
      "application/vnd.jupyter.widget-view+json": {
       "model_id": "74570f657ffd42bbb7becb4321e41210",
       "version_major": 2,
       "version_minor": 0
      },
      "text/plain": [
       "A Jupyter Widget"
      ]
     },
     "metadata": {},
     "output_type": "display_data"
    },
    {
     "name": "stdout",
     "output_type": "stream",
     "text": [
      "map_seed = 18\n",
      "train_rmse_before = 0.044487308, train_rmse_after = 0.038727877, \n",
      "mean_train_revard = -0.041, mean_test_reward  = 0.046,\n",
      "steps = total: 4000, bad: 0.3407, good: 0.0355, diff: 0.0000, other: 0.6238,\n",
      "collisions = 0.373250, circles = 2.775231\n",
      "\n"
     ]
    },
    {
     "data": {
      "application/vnd.jupyter.widget-view+json": {
       "model_id": "388745087c104149ab8a8a1cb70bdaf6",
       "version_major": 2,
       "version_minor": 0
      },
      "text/plain": [
       "A Jupyter Widget"
      ]
     },
     "metadata": {},
     "output_type": "display_data"
    },
    {
     "data": {
      "application/vnd.jupyter.widget-view+json": {
       "model_id": "b85c0786e9a44faba0a8c3155b187071",
       "version_major": 2,
       "version_minor": 0
      },
      "text/plain": [
       "A Jupyter Widget"
      ]
     },
     "metadata": {},
     "output_type": "display_data"
    },
    {
     "data": {
      "application/vnd.jupyter.widget-view+json": {
       "model_id": "5db1d91a6f304bada9dda6d939a864fc",
       "version_major": 2,
       "version_minor": 0
      },
      "text/plain": [
       "A Jupyter Widget"
      ]
     },
     "metadata": {},
     "output_type": "display_data"
    },
    {
     "name": "stdout",
     "output_type": "stream",
     "text": [
      "map_seed = 23\n",
      "train_rmse_before = 0.045815082, train_rmse_after = 0.038937253, \n",
      "mean_train_revard = -0.042, mean_test_reward  = 0.021,\n",
      "steps = total: 4000, bad: 0.4255, good: 0.0130, diff: 0.0000, other: 0.5615,\n",
      "collisions = 0.540000, circles = 3.217781\n",
      "\n"
     ]
    },
    {
     "data": {
      "application/vnd.jupyter.widget-view+json": {
       "model_id": "44a37cef3f6c4c18b1e9bff3e905d989",
       "version_major": 2,
       "version_minor": 0
      },
      "text/plain": [
       "A Jupyter Widget"
      ]
     },
     "metadata": {},
     "output_type": "display_data"
    },
    {
     "data": {
      "application/vnd.jupyter.widget-view+json": {
       "model_id": "88ee3c3ebc5e488dae374b08301442d5",
       "version_major": 2,
       "version_minor": 0
      },
      "text/plain": [
       "A Jupyter Widget"
      ]
     },
     "metadata": {},
     "output_type": "display_data"
    },
    {
     "data": {
      "application/vnd.jupyter.widget-view+json": {
       "model_id": "43c79ddd3934452fb104e43cbbe54369",
       "version_major": 2,
       "version_minor": 0
      },
      "text/plain": [
       "A Jupyter Widget"
      ]
     },
     "metadata": {},
     "output_type": "display_data"
    },
    {
     "name": "stdout",
     "output_type": "stream",
     "text": [
      "map_seed = 3\n",
      "train_rmse_before = 0.044964147, train_rmse_after = 0.038930486, \n",
      "mean_train_revard = -0.042, mean_test_reward  = 0.028,\n",
      "steps = total: 4000, bad: 0.3628, good: 0.0138, diff: 0.0000, other: 0.6235,\n",
      "collisions = 0.408250, circles = 3.388438\n",
      "\n"
     ]
    },
    {
     "data": {
      "application/vnd.jupyter.widget-view+json": {
       "model_id": "98e8b4858fa4401090567dabaddc6737",
       "version_major": 2,
       "version_minor": 0
      },
      "text/plain": [
       "A Jupyter Widget"
      ]
     },
     "metadata": {},
     "output_type": "display_data"
    },
    {
     "data": {
      "application/vnd.jupyter.widget-view+json": {
       "model_id": "303c547fb68e4bc49dccd025e64ad5dd",
       "version_major": 2,
       "version_minor": 0
      },
      "text/plain": [
       "A Jupyter Widget"
      ]
     },
     "metadata": {},
     "output_type": "display_data"
    },
    {
     "data": {
      "application/vnd.jupyter.widget-view+json": {
       "model_id": "41d24c269b1f4e76b799dd10e5d678ce",
       "version_major": 2,
       "version_minor": 0
      },
      "text/plain": [
       "A Jupyter Widget"
      ]
     },
     "metadata": {},
     "output_type": "display_data"
    },
    {
     "name": "stdout",
     "output_type": "stream",
     "text": [
      "map_seed = 13\n",
      "train_rmse_before = 0.045229308, train_rmse_after = 0.039446660, \n",
      "mean_train_revard = -0.043, mean_test_reward  = 0.034,\n",
      "steps = total: 4000, bad: 0.3857, good: 0.0140, diff: 0.0000, other: 0.6002,\n",
      "collisions = 0.424000, circles = 2.957443\n",
      "\n"
     ]
    },
    {
     "data": {
      "application/vnd.jupyter.widget-view+json": {
       "model_id": "eea7e9fea21f407793da00395ba740d6",
       "version_major": 2,
       "version_minor": 0
      },
      "text/plain": [
       "A Jupyter Widget"
      ]
     },
     "metadata": {},
     "output_type": "display_data"
    },
    {
     "data": {
      "application/vnd.jupyter.widget-view+json": {
       "model_id": "a680cfea546240b8aea8ca4b996642f4",
       "version_major": 2,
       "version_minor": 0
      },
      "text/plain": [
       "A Jupyter Widget"
      ]
     },
     "metadata": {},
     "output_type": "display_data"
    },
    {
     "data": {
      "application/vnd.jupyter.widget-view+json": {
       "model_id": "629eb5034eb04928b744c1ed54701873",
       "version_major": 2,
       "version_minor": 0
      },
      "text/plain": [
       "A Jupyter Widget"
      ]
     },
     "metadata": {},
     "output_type": "display_data"
    },
    {
     "name": "stdout",
     "output_type": "stream",
     "text": [
      "map_seed = 18\n",
      "train_rmse_before = 0.046016059, train_rmse_after = 0.039424400, \n",
      "mean_train_revard = -0.042, mean_test_reward  = 0.037,\n",
      "steps = total: 4000, bad: 0.3330, good: 0.0150, diff: 0.0000, other: 0.6520,\n",
      "collisions = 0.367250, circles = 3.035209\n",
      "\n"
     ]
    },
    {
     "data": {
      "application/vnd.jupyter.widget-view+json": {
       "model_id": "eabc6caf77ab486193716ea068a4371a",
       "version_major": 2,
       "version_minor": 0
      },
      "text/plain": [
       "A Jupyter Widget"
      ]
     },
     "metadata": {},
     "output_type": "display_data"
    },
    {
     "data": {
      "application/vnd.jupyter.widget-view+json": {
       "model_id": "239c131711d84166ba6cd9efce707448",
       "version_major": 2,
       "version_minor": 0
      },
      "text/plain": [
       "A Jupyter Widget"
      ]
     },
     "metadata": {},
     "output_type": "display_data"
    },
    {
     "data": {
      "application/vnd.jupyter.widget-view+json": {
       "model_id": "15ba73f175f940ae9803802ccff85f4d",
       "version_major": 2,
       "version_minor": 0
      },
      "text/plain": [
       "A Jupyter Widget"
      ]
     },
     "metadata": {},
     "output_type": "display_data"
    },
    {
     "name": "stdout",
     "output_type": "stream",
     "text": [
      "map_seed = 23\n",
      "train_rmse_before = 0.046870657, train_rmse_after = 0.039441663, \n",
      "mean_train_revard = -0.044, mean_test_reward  = 0.005,\n",
      "steps = total: 4000, bad: 0.4125, good: 0.0160, diff: 0.0000, other: 0.5715,\n",
      "collisions = 0.514750, circles = 2.648328\n",
      "\n"
     ]
    },
    {
     "data": {
      "application/vnd.jupyter.widget-view+json": {
       "model_id": "c1513897ae6a4e3e82d12f0bfd71ea10",
       "version_major": 2,
       "version_minor": 0
      },
      "text/plain": [
       "A Jupyter Widget"
      ]
     },
     "metadata": {},
     "output_type": "display_data"
    },
    {
     "data": {
      "application/vnd.jupyter.widget-view+json": {
       "model_id": "7c9303ae1bcb436398a2f39b58abeb1b",
       "version_major": 2,
       "version_minor": 0
      },
      "text/plain": [
       "A Jupyter Widget"
      ]
     },
     "metadata": {},
     "output_type": "display_data"
    },
    {
     "data": {
      "application/vnd.jupyter.widget-view+json": {
       "model_id": "34229d8623594b76add4556a89da83aa",
       "version_major": 2,
       "version_minor": 0
      },
      "text/plain": [
       "A Jupyter Widget"
      ]
     },
     "metadata": {},
     "output_type": "display_data"
    },
    {
     "name": "stdout",
     "output_type": "stream",
     "text": [
      "map_seed = 3\n",
      "train_rmse_before = 0.045579040, train_rmse_after = 0.039345865, \n",
      "mean_train_revard = -0.044, mean_test_reward  = 0.034,\n",
      "steps = total: 4000, bad: 0.3370, good: 0.0152, diff: 0.0000, other: 0.6478,\n",
      "collisions = 0.404250, circles = 3.348996\n",
      "\n"
     ]
    },
    {
     "data": {
      "application/vnd.jupyter.widget-view+json": {
       "model_id": "1aa1bda395da4eccb5c8068b7ed231a0",
       "version_major": 2,
       "version_minor": 0
      },
      "text/plain": [
       "A Jupyter Widget"
      ]
     },
     "metadata": {},
     "output_type": "display_data"
    },
    {
     "data": {
      "application/vnd.jupyter.widget-view+json": {
       "model_id": "4f65df85a5c74544941d92be272ed6c7",
       "version_major": 2,
       "version_minor": 0
      },
      "text/plain": [
       "A Jupyter Widget"
      ]
     },
     "metadata": {},
     "output_type": "display_data"
    },
    {
     "data": {
      "application/vnd.jupyter.widget-view+json": {
       "model_id": "c322638becc9468f9e41223a84c25dfa",
       "version_major": 2,
       "version_minor": 0
      },
      "text/plain": [
       "A Jupyter Widget"
      ]
     },
     "metadata": {},
     "output_type": "display_data"
    },
    {
     "name": "stdout",
     "output_type": "stream",
     "text": [
      "map_seed = 13\n",
      "train_rmse_before = 0.045619498, train_rmse_after = 0.039497267, \n",
      "mean_train_revard = -0.045, mean_test_reward  = 0.024,\n",
      "steps = total: 4000, bad: 0.3847, good: 0.0143, diff: 0.0000, other: 0.6010,\n",
      "collisions = 0.429500, circles = 2.989388\n",
      "\n"
     ]
    },
    {
     "data": {
      "application/vnd.jupyter.widget-view+json": {
       "model_id": "629f85cc32e5419eb760fd0fbed603b6",
       "version_major": 2,
       "version_minor": 0
      },
      "text/plain": [
       "A Jupyter Widget"
      ]
     },
     "metadata": {},
     "output_type": "display_data"
    },
    {
     "data": {
      "application/vnd.jupyter.widget-view+json": {
       "model_id": "0a8fbc8a61e541c8a284c8e0147c362f",
       "version_major": 2,
       "version_minor": 0
      },
      "text/plain": [
       "A Jupyter Widget"
      ]
     },
     "metadata": {},
     "output_type": "display_data"
    },
    {
     "data": {
      "application/vnd.jupyter.widget-view+json": {
       "model_id": "55a0f9e93842452497f6cc534f8ff473",
       "version_major": 2,
       "version_minor": 0
      },
      "text/plain": [
       "A Jupyter Widget"
      ]
     },
     "metadata": {},
     "output_type": "display_data"
    },
    {
     "name": "stdout",
     "output_type": "stream",
     "text": [
      "map_seed = 18\n",
      "train_rmse_before = 0.044769695, train_rmse_after = 0.039660434, \n",
      "mean_train_revard = -0.044, mean_test_reward  = 0.032,\n",
      "steps = total: 4000, bad: 0.3202, good: 0.0198, diff: 0.0000, other: 0.6600,\n",
      "collisions = 0.370500, circles = 2.990614\n",
      "\n"
     ]
    },
    {
     "data": {
      "application/vnd.jupyter.widget-view+json": {
       "model_id": "60151fffa761436092bf619b4bac2095",
       "version_major": 2,
       "version_minor": 0
      },
      "text/plain": [
       "A Jupyter Widget"
      ]
     },
     "metadata": {},
     "output_type": "display_data"
    },
    {
     "data": {
      "application/vnd.jupyter.widget-view+json": {
       "model_id": "d4f262c8d5bd473b8ba9d023e86c22b4",
       "version_major": 2,
       "version_minor": 0
      },
      "text/plain": [
       "A Jupyter Widget"
      ]
     },
     "metadata": {},
     "output_type": "display_data"
    },
    {
     "data": {
      "application/vnd.jupyter.widget-view+json": {
       "model_id": "7c08071ea70c42f2b5afc9039ea3442b",
       "version_major": 2,
       "version_minor": 0
      },
      "text/plain": [
       "A Jupyter Widget"
      ]
     },
     "metadata": {},
     "output_type": "display_data"
    },
    {
     "name": "stdout",
     "output_type": "stream",
     "text": [
      "map_seed = 23\n",
      "train_rmse_before = 0.045283988, train_rmse_after = 0.039279251, \n",
      "mean_train_revard = -0.044, mean_test_reward  = 0.017,\n",
      "steps = total: 4000, bad: 0.3322, good: 0.0140, diff: 0.0003, other: 0.6535,\n",
      "collisions = 0.422500, circles = 3.141775\n",
      "\n"
     ]
    },
    {
     "data": {
      "application/vnd.jupyter.widget-view+json": {
       "model_id": "e526031f4b2346a38ec135a2e649c96e",
       "version_major": 2,
       "version_minor": 0
      },
      "text/plain": [
       "A Jupyter Widget"
      ]
     },
     "metadata": {},
     "output_type": "display_data"
    },
    {
     "data": {
      "application/vnd.jupyter.widget-view+json": {
       "model_id": "15b5adcacb624951866314614072af75",
       "version_major": 2,
       "version_minor": 0
      },
      "text/plain": [
       "A Jupyter Widget"
      ]
     },
     "metadata": {},
     "output_type": "display_data"
    },
    {
     "data": {
      "application/vnd.jupyter.widget-view+json": {
       "model_id": "1a9042f2336c4b5194f7197c7dae43c4",
       "version_major": 2,
       "version_minor": 0
      },
      "text/plain": [
       "A Jupyter Widget"
      ]
     },
     "metadata": {},
     "output_type": "display_data"
    },
    {
     "name": "stdout",
     "output_type": "stream",
     "text": [
      "map_seed = 3\n",
      "train_rmse_before = 0.044406224, train_rmse_after = 0.039335624, \n",
      "mean_train_revard = -0.044, mean_test_reward  = 0.030,\n",
      "steps = total: 4000, bad: 0.3167, good: 0.0143, diff: 0.0000, other: 0.6690,\n",
      "collisions = 0.363000, circles = 3.488424\n",
      "\n"
     ]
    },
    {
     "data": {
      "application/vnd.jupyter.widget-view+json": {
       "model_id": "83aa266e457643ce9dde6d4c07c344b3",
       "version_major": 2,
       "version_minor": 0
      },
      "text/plain": [
       "A Jupyter Widget"
      ]
     },
     "metadata": {},
     "output_type": "display_data"
    },
    {
     "data": {
      "application/vnd.jupyter.widget-view+json": {
       "model_id": "27fe7d45e5414a30bdd0afc30ce3f9b0",
       "version_major": 2,
       "version_minor": 0
      },
      "text/plain": [
       "A Jupyter Widget"
      ]
     },
     "metadata": {},
     "output_type": "display_data"
    },
    {
     "data": {
      "application/vnd.jupyter.widget-view+json": {
       "model_id": "cd3df58f418b40f6af24653ce3b01c7b",
       "version_major": 2,
       "version_minor": 0
      },
      "text/plain": [
       "A Jupyter Widget"
      ]
     },
     "metadata": {},
     "output_type": "display_data"
    },
    {
     "name": "stdout",
     "output_type": "stream",
     "text": [
      "map_seed = 13\n",
      "train_rmse_before = 0.044919166, train_rmse_after = 0.039403213, \n",
      "mean_train_revard = -0.044, mean_test_reward  = 0.034,\n",
      "steps = total: 4000, bad: 0.3553, good: 0.0138, diff: 0.0000, other: 0.6310,\n",
      "collisions = 0.397250, circles = 2.971126\n",
      "\n"
     ]
    },
    {
     "data": {
      "application/vnd.jupyter.widget-view+json": {
       "model_id": "6b4aefa0da0b4014a14b726c93e69b19",
       "version_major": 2,
       "version_minor": 0
      },
      "text/plain": [
       "A Jupyter Widget"
      ]
     },
     "metadata": {},
     "output_type": "display_data"
    },
    {
     "data": {
      "application/vnd.jupyter.widget-view+json": {
       "model_id": "c28a3f142dca492689d6493875416fee",
       "version_major": 2,
       "version_minor": 0
      },
      "text/plain": [
       "A Jupyter Widget"
      ]
     },
     "metadata": {},
     "output_type": "display_data"
    },
    {
     "data": {
      "application/vnd.jupyter.widget-view+json": {
       "model_id": "0de18b1ad6b649ca9461269f18530703",
       "version_major": 2,
       "version_minor": 0
      },
      "text/plain": [
       "A Jupyter Widget"
      ]
     },
     "metadata": {},
     "output_type": "display_data"
    },
    {
     "name": "stdout",
     "output_type": "stream",
     "text": [
      "map_seed = 18\n",
      "train_rmse_before = 0.044907367, train_rmse_after = 0.039151898, \n",
      "mean_train_revard = -0.043, mean_test_reward  = 0.030,\n",
      "steps = total: 4000, bad: 0.3535, good: 0.0208, diff: 0.0000, other: 0.6258,\n",
      "collisions = 0.390250, circles = 2.724467\n",
      "\n"
     ]
    },
    {
     "data": {
      "application/vnd.jupyter.widget-view+json": {
       "model_id": "fbb3a0ed4cd2402b8d4ce4bb628d666e",
       "version_major": 2,
       "version_minor": 0
      },
      "text/plain": [
       "A Jupyter Widget"
      ]
     },
     "metadata": {},
     "output_type": "display_data"
    },
    {
     "data": {
      "application/vnd.jupyter.widget-view+json": {
       "model_id": "947c3aa21595486e8c0cd57ab7428e21",
       "version_major": 2,
       "version_minor": 0
      },
      "text/plain": [
       "A Jupyter Widget"
      ]
     },
     "metadata": {},
     "output_type": "display_data"
    },
    {
     "data": {
      "application/vnd.jupyter.widget-view+json": {
       "model_id": "91603546c4ef40a7b975ee8241a0ce30",
       "version_major": 2,
       "version_minor": 0
      },
      "text/plain": [
       "A Jupyter Widget"
      ]
     },
     "metadata": {},
     "output_type": "display_data"
    },
    {
     "name": "stdout",
     "output_type": "stream",
     "text": [
      "map_seed = 23\n",
      "train_rmse_before = 0.045576077, train_rmse_after = 0.039270085, \n",
      "mean_train_revard = -0.043, mean_test_reward  = 0.024,\n",
      "steps = total: 4000, bad: 0.3648, good: 0.0120, diff: 0.0003, other: 0.6230,\n",
      "collisions = 0.508000, circles = 2.926419\n",
      "\n"
     ]
    },
    {
     "data": {
      "application/vnd.jupyter.widget-view+json": {
       "model_id": "df6322b4599243d28d74f07734a4c43e",
       "version_major": 2,
       "version_minor": 0
      },
      "text/plain": [
       "A Jupyter Widget"
      ]
     },
     "metadata": {},
     "output_type": "display_data"
    },
    {
     "data": {
      "application/vnd.jupyter.widget-view+json": {
       "model_id": "c19fad5d583c4b5db5927c12022e638e",
       "version_major": 2,
       "version_minor": 0
      },
      "text/plain": [
       "A Jupyter Widget"
      ]
     },
     "metadata": {},
     "output_type": "display_data"
    },
    {
     "data": {
      "application/vnd.jupyter.widget-view+json": {
       "model_id": "c37706bd43594c25848f2cdb0966530b",
       "version_major": 2,
       "version_minor": 0
      },
      "text/plain": [
       "A Jupyter Widget"
      ]
     },
     "metadata": {},
     "output_type": "display_data"
    },
    {
     "name": "stdout",
     "output_type": "stream",
     "text": [
      "map_seed = 3\n",
      "train_rmse_before = 0.044858289, train_rmse_after = 0.039228485, \n",
      "mean_train_revard = -0.043, mean_test_reward  = 0.017,\n",
      "steps = total: 4000, bad: 0.3310, good: 0.0125, diff: 0.0000, other: 0.6565,\n",
      "collisions = 0.384750, circles = 3.078563\n",
      "\n"
     ]
    },
    {
     "data": {
      "application/vnd.jupyter.widget-view+json": {
       "model_id": "909bcb7e3fd6442f83cefdddb4d92810",
       "version_major": 2,
       "version_minor": 0
      },
      "text/plain": [
       "A Jupyter Widget"
      ]
     },
     "metadata": {},
     "output_type": "display_data"
    },
    {
     "data": {
      "application/vnd.jupyter.widget-view+json": {
       "model_id": "f49baca8542f48feaed5798f43d55788",
       "version_major": 2,
       "version_minor": 0
      },
      "text/plain": [
       "A Jupyter Widget"
      ]
     },
     "metadata": {},
     "output_type": "display_data"
    },
    {
     "data": {
      "application/vnd.jupyter.widget-view+json": {
       "model_id": "2b7cd9ed832041d897a5d34b1d36ba11",
       "version_major": 2,
       "version_minor": 0
      },
      "text/plain": [
       "A Jupyter Widget"
      ]
     },
     "metadata": {},
     "output_type": "display_data"
    },
    {
     "name": "stdout",
     "output_type": "stream",
     "text": [
      "map_seed = 13\n",
      "train_rmse_before = 0.045419987, train_rmse_after = 0.039373068, \n",
      "mean_train_revard = -0.044, mean_test_reward  = 0.020,\n",
      "steps = total: 4000, bad: 0.3900, good: 0.0168, diff: 0.0000, other: 0.5933,\n",
      "collisions = 0.445500, circles = 3.067081\n",
      "\n"
     ]
    },
    {
     "data": {
      "application/vnd.jupyter.widget-view+json": {
       "model_id": "23936348c00b467d9d4557769e603b26",
       "version_major": 2,
       "version_minor": 0
      },
      "text/plain": [
       "A Jupyter Widget"
      ]
     },
     "metadata": {},
     "output_type": "display_data"
    },
    {
     "data": {
      "application/vnd.jupyter.widget-view+json": {
       "model_id": "49b4deaf87ee4c25ba3a744674b8d855",
       "version_major": 2,
       "version_minor": 0
      },
      "text/plain": [
       "A Jupyter Widget"
      ]
     },
     "metadata": {},
     "output_type": "display_data"
    },
    {
     "data": {
      "application/vnd.jupyter.widget-view+json": {
       "model_id": "3fe3880626d1493ba11bece2e262eb7b",
       "version_major": 2,
       "version_minor": 0
      },
      "text/plain": [
       "A Jupyter Widget"
      ]
     },
     "metadata": {},
     "output_type": "display_data"
    },
    {
     "name": "stdout",
     "output_type": "stream",
     "text": [
      "map_seed = 18\n",
      "train_rmse_before = 0.043793182, train_rmse_after = 0.039338806, \n",
      "mean_train_revard = -0.044, mean_test_reward  = 0.039,\n",
      "steps = total: 4000, bad: 0.3395, good: 0.0177, diff: 0.0000, other: 0.6427,\n",
      "collisions = 0.372000, circles = 3.277760\n",
      "\n"
     ]
    },
    {
     "data": {
      "application/vnd.jupyter.widget-view+json": {
       "model_id": "55e3816499d04a5f93404666e9028e57",
       "version_major": 2,
       "version_minor": 0
      },
      "text/plain": [
       "A Jupyter Widget"
      ]
     },
     "metadata": {},
     "output_type": "display_data"
    },
    {
     "data": {
      "application/vnd.jupyter.widget-view+json": {
       "model_id": "140dd56dbae44d42a45cb115cad724ed",
       "version_major": 2,
       "version_minor": 0
      },
      "text/plain": [
       "A Jupyter Widget"
      ]
     },
     "metadata": {},
     "output_type": "display_data"
    },
    {
     "data": {
      "application/vnd.jupyter.widget-view+json": {
       "model_id": "cb293c14bf9041b0aeb5a16cb4e21246",
       "version_major": 2,
       "version_minor": 0
      },
      "text/plain": [
       "A Jupyter Widget"
      ]
     },
     "metadata": {},
     "output_type": "display_data"
    },
    {
     "name": "stdout",
     "output_type": "stream",
     "text": [
      "map_seed = 23\n",
      "train_rmse_before = 0.046736024, train_rmse_after = 0.039534373, \n",
      "mean_train_revard = -0.040, mean_test_reward  = 0.018,\n",
      "steps = total: 4000, bad: 0.4180, good: 0.0118, diff: 0.0003, other: 0.5700,\n",
      "collisions = 0.469250, circles = 3.221642\n",
      "\n"
     ]
    },
    {
     "data": {
      "application/vnd.jupyter.widget-view+json": {
       "model_id": "90f14ca33c594c94a99884f716195766",
       "version_major": 2,
       "version_minor": 0
      },
      "text/plain": [
       "A Jupyter Widget"
      ]
     },
     "metadata": {},
     "output_type": "display_data"
    },
    {
     "data": {
      "application/vnd.jupyter.widget-view+json": {
       "model_id": "81f661d714f842f7ac47cb68c83e7919",
       "version_major": 2,
       "version_minor": 0
      },
      "text/plain": [
       "A Jupyter Widget"
      ]
     },
     "metadata": {},
     "output_type": "display_data"
    },
    {
     "data": {
      "application/vnd.jupyter.widget-view+json": {
       "model_id": "71c00bf034a6432783e3886739cc1e4f",
       "version_major": 2,
       "version_minor": 0
      },
      "text/plain": [
       "A Jupyter Widget"
      ]
     },
     "metadata": {},
     "output_type": "display_data"
    },
    {
     "name": "stdout",
     "output_type": "stream",
     "text": [
      "map_seed = 3\n",
      "train_rmse_before = 0.045940911, train_rmse_after = 0.039851892, \n",
      "mean_train_revard = -0.041, mean_test_reward  = 0.031,\n",
      "steps = total: 4000, bad: 0.3513, good: 0.0100, diff: 0.0000, other: 0.6387,\n",
      "collisions = 0.425000, circles = 3.852857\n",
      "\n"
     ]
    },
    {
     "data": {
      "application/vnd.jupyter.widget-view+json": {
       "model_id": "3823741b0d6b4279a153f65c0dc793a5",
       "version_major": 2,
       "version_minor": 0
      },
      "text/plain": [
       "A Jupyter Widget"
      ]
     },
     "metadata": {},
     "output_type": "display_data"
    },
    {
     "data": {
      "application/vnd.jupyter.widget-view+json": {
       "model_id": "e92565585e9c4c95a193a7607d5d4c25",
       "version_major": 2,
       "version_minor": 0
      },
      "text/plain": [
       "A Jupyter Widget"
      ]
     },
     "metadata": {},
     "output_type": "display_data"
    },
    {
     "data": {
      "application/vnd.jupyter.widget-view+json": {
       "model_id": "a28da22001dc4e8dbfbb49f7bd0db5ef",
       "version_major": 2,
       "version_minor": 0
      },
      "text/plain": [
       "A Jupyter Widget"
      ]
     },
     "metadata": {},
     "output_type": "display_data"
    },
    {
     "name": "stdout",
     "output_type": "stream",
     "text": [
      "map_seed = 13\n",
      "train_rmse_before = 0.045235110, train_rmse_after = 0.039832232, \n",
      "mean_train_revard = -0.041, mean_test_reward  = 0.033,\n",
      "steps = total: 4000, bad: 0.3980, good: 0.0192, diff: 0.0000, other: 0.5827,\n",
      "collisions = 0.439000, circles = 2.980254\n",
      "\n"
     ]
    },
    {
     "data": {
      "application/vnd.jupyter.widget-view+json": {
       "model_id": "8706db6cbfed49a289f4d717217619a4",
       "version_major": 2,
       "version_minor": 0
      },
      "text/plain": [
       "A Jupyter Widget"
      ]
     },
     "metadata": {},
     "output_type": "display_data"
    },
    {
     "data": {
      "application/vnd.jupyter.widget-view+json": {
       "model_id": "a0befbcc62714587aa610e4600affeba",
       "version_major": 2,
       "version_minor": 0
      },
      "text/plain": [
       "A Jupyter Widget"
      ]
     },
     "metadata": {},
     "output_type": "display_data"
    },
    {
     "data": {
      "application/vnd.jupyter.widget-view+json": {
       "model_id": "226286b601484664a681bdca2c694cf1",
       "version_major": 2,
       "version_minor": 0
      },
      "text/plain": [
       "A Jupyter Widget"
      ]
     },
     "metadata": {},
     "output_type": "display_data"
    },
    {
     "name": "stdout",
     "output_type": "stream",
     "text": [
      "map_seed = 18\n",
      "train_rmse_before = 0.044121172, train_rmse_after = 0.039455417, \n",
      "mean_train_revard = -0.040, mean_test_reward  = 0.029,\n",
      "steps = total: 4000, bad: 0.3125, good: 0.0240, diff: 0.0000, other: 0.6635,\n",
      "collisions = 0.371500, circles = 3.068449\n",
      "\n"
     ]
    },
    {
     "data": {
      "application/vnd.jupyter.widget-view+json": {
       "model_id": "477e04ef25524390b94b0396152ed20c",
       "version_major": 2,
       "version_minor": 0
      },
      "text/plain": [
       "A Jupyter Widget"
      ]
     },
     "metadata": {},
     "output_type": "display_data"
    },
    {
     "data": {
      "application/vnd.jupyter.widget-view+json": {
       "model_id": "faff5a71016a44a28e8f6471ebc0a4f5",
       "version_major": 2,
       "version_minor": 0
      },
      "text/plain": [
       "A Jupyter Widget"
      ]
     },
     "metadata": {},
     "output_type": "display_data"
    },
    {
     "data": {
      "application/vnd.jupyter.widget-view+json": {
       "model_id": "dba3b70295684d24ae3b7fe18f344452",
       "version_major": 2,
       "version_minor": 0
      },
      "text/plain": [
       "A Jupyter Widget"
      ]
     },
     "metadata": {},
     "output_type": "display_data"
    },
    {
     "name": "stdout",
     "output_type": "stream",
     "text": [
      "map_seed = 23\n",
      "train_rmse_before = 0.045850139, train_rmse_after = 0.039310850, \n",
      "mean_train_revard = -0.040, mean_test_reward  = 0.013,\n",
      "steps = total: 4000, bad: 0.3830, good: 0.0170, diff: 0.0003, other: 0.5998,\n",
      "collisions = 0.468000, circles = 2.906193\n",
      "\n"
     ]
    },
    {
     "data": {
      "application/vnd.jupyter.widget-view+json": {
       "model_id": "e7e8f8f01abb40b99bbfc7b165791afa",
       "version_major": 2,
       "version_minor": 0
      },
      "text/plain": [
       "A Jupyter Widget"
      ]
     },
     "metadata": {},
     "output_type": "display_data"
    },
    {
     "data": {
      "application/vnd.jupyter.widget-view+json": {
       "model_id": "5489e6a19648471ba01bad2349cef0e1",
       "version_major": 2,
       "version_minor": 0
      },
      "text/plain": [
       "A Jupyter Widget"
      ]
     },
     "metadata": {},
     "output_type": "display_data"
    },
    {
     "data": {
      "application/vnd.jupyter.widget-view+json": {
       "model_id": "19a520bceccb418a8ee7fb8dccd6c87d",
       "version_major": 2,
       "version_minor": 0
      },
      "text/plain": [
       "A Jupyter Widget"
      ]
     },
     "metadata": {},
     "output_type": "display_data"
    },
    {
     "name": "stdout",
     "output_type": "stream",
     "text": [
      "map_seed = 3\n",
      "train_rmse_before = 0.045352651, train_rmse_after = 0.039145138, \n",
      "mean_train_revard = -0.040, mean_test_reward  = 0.026,\n",
      "steps = total: 4000, bad: 0.3785, good: 0.0120, diff: 0.0000, other: 0.6095,\n",
      "collisions = 0.424500, circles = 3.544172\n",
      "\n"
     ]
    },
    {
     "data": {
      "application/vnd.jupyter.widget-view+json": {
       "model_id": "fcb574950df745749ba65be17cf63e00",
       "version_major": 2,
       "version_minor": 0
      },
      "text/plain": [
       "A Jupyter Widget"
      ]
     },
     "metadata": {},
     "output_type": "display_data"
    },
    {
     "data": {
      "application/vnd.jupyter.widget-view+json": {
       "model_id": "9f828be89ae54c4ab3a628ccb20977af",
       "version_major": 2,
       "version_minor": 0
      },
      "text/plain": [
       "A Jupyter Widget"
      ]
     },
     "metadata": {},
     "output_type": "display_data"
    },
    {
     "data": {
      "application/vnd.jupyter.widget-view+json": {
       "model_id": "045f21a61b57453e81531d4e1c54665c",
       "version_major": 2,
       "version_minor": 0
      },
      "text/plain": [
       "A Jupyter Widget"
      ]
     },
     "metadata": {},
     "output_type": "display_data"
    },
    {
     "name": "stdout",
     "output_type": "stream",
     "text": [
      "map_seed = 13\n",
      "train_rmse_before = 0.045599229, train_rmse_after = 0.039599704, \n",
      "mean_train_revard = -0.042, mean_test_reward  = 0.024,\n",
      "steps = total: 4000, bad: 0.4405, good: 0.0147, diff: 0.0000, other: 0.5448,\n",
      "collisions = 0.497250, circles = 2.975724\n",
      "\n"
     ]
    },
    {
     "data": {
      "application/vnd.jupyter.widget-view+json": {
       "model_id": "5a3058e77dbf4babad663ba467bd2983",
       "version_major": 2,
       "version_minor": 0
      },
      "text/plain": [
       "A Jupyter Widget"
      ]
     },
     "metadata": {},
     "output_type": "display_data"
    },
    {
     "data": {
      "application/vnd.jupyter.widget-view+json": {
       "model_id": "7cc4445aaaca4653a991b7d2f2fcadef",
       "version_major": 2,
       "version_minor": 0
      },
      "text/plain": [
       "A Jupyter Widget"
      ]
     },
     "metadata": {},
     "output_type": "display_data"
    },
    {
     "data": {
      "application/vnd.jupyter.widget-view+json": {
       "model_id": "d45448fc099d455abb42388883ef56f7",
       "version_major": 2,
       "version_minor": 0
      },
      "text/plain": [
       "A Jupyter Widget"
      ]
     },
     "metadata": {},
     "output_type": "display_data"
    },
    {
     "name": "stdout",
     "output_type": "stream",
     "text": [
      "map_seed = 18\n",
      "train_rmse_before = 0.043735422, train_rmse_after = 0.038840892, \n",
      "mean_train_revard = -0.041, mean_test_reward  = 0.023,\n",
      "steps = total: 4000, bad: 0.3435, good: 0.0165, diff: 0.0000, other: 0.6400,\n",
      "collisions = 0.379500, circles = 2.777540\n",
      "\n"
     ]
    },
    {
     "data": {
      "application/vnd.jupyter.widget-view+json": {
       "model_id": "67eb117caf554886a793c09134ef0a23",
       "version_major": 2,
       "version_minor": 0
      },
      "text/plain": [
       "A Jupyter Widget"
      ]
     },
     "metadata": {},
     "output_type": "display_data"
    },
    {
     "data": {
      "application/vnd.jupyter.widget-view+json": {
       "model_id": "25319a083d7a40b9a49946ef9e6e04fe",
       "version_major": 2,
       "version_minor": 0
      },
      "text/plain": [
       "A Jupyter Widget"
      ]
     },
     "metadata": {},
     "output_type": "display_data"
    },
    {
     "data": {
      "application/vnd.jupyter.widget-view+json": {
       "model_id": "75fc82bc19384412a0fca8584d7571fd",
       "version_major": 2,
       "version_minor": 0
      },
      "text/plain": [
       "A Jupyter Widget"
      ]
     },
     "metadata": {},
     "output_type": "display_data"
    },
    {
     "name": "stdout",
     "output_type": "stream",
     "text": [
      "map_seed = 23\n",
      "train_rmse_before = 0.047982407, train_rmse_after = 0.039155590, \n",
      "mean_train_revard = -0.042, mean_test_reward  = 0.012,\n",
      "steps = total: 4000, bad: 0.4363, good: 0.0067, diff: 0.0000, other: 0.5570,\n",
      "collisions = 0.589250, circles = 3.214895\n",
      "\n"
     ]
    },
    {
     "data": {
      "application/vnd.jupyter.widget-view+json": {
       "model_id": "88dace90c1264db79cecce42b974327a",
       "version_major": 2,
       "version_minor": 0
      },
      "text/plain": [
       "A Jupyter Widget"
      ]
     },
     "metadata": {},
     "output_type": "display_data"
    },
    {
     "data": {
      "application/vnd.jupyter.widget-view+json": {
       "model_id": "959f039234194893810e2065fc9814ca",
       "version_major": 2,
       "version_minor": 0
      },
      "text/plain": [
       "A Jupyter Widget"
      ]
     },
     "metadata": {},
     "output_type": "display_data"
    },
    {
     "data": {
      "application/vnd.jupyter.widget-view+json": {
       "model_id": "d8aabed8c2a744faa971de311f6f8f52",
       "version_major": 2,
       "version_minor": 0
      },
      "text/plain": [
       "A Jupyter Widget"
      ]
     },
     "metadata": {},
     "output_type": "display_data"
    },
    {
     "name": "stdout",
     "output_type": "stream",
     "text": [
      "map_seed = 3\n",
      "train_rmse_before = 0.045878795, train_rmse_after = 0.039329336, \n",
      "mean_train_revard = -0.043, mean_test_reward  = 0.024,\n",
      "steps = total: 4000, bad: 0.3920, good: 0.0097, diff: 0.0000, other: 0.5982,\n",
      "collisions = 0.420750, circles = 3.779760\n",
      "\n"
     ]
    },
    {
     "data": {
      "application/vnd.jupyter.widget-view+json": {
       "model_id": "0cea0d3eb29240aeb38aa65ca782f1b5",
       "version_major": 2,
       "version_minor": 0
      },
      "text/plain": [
       "A Jupyter Widget"
      ]
     },
     "metadata": {},
     "output_type": "display_data"
    },
    {
     "data": {
      "application/vnd.jupyter.widget-view+json": {
       "model_id": "595eb688d90a48a98bf14560c5e68099",
       "version_major": 2,
       "version_minor": 0
      },
      "text/plain": [
       "A Jupyter Widget"
      ]
     },
     "metadata": {},
     "output_type": "display_data"
    },
    {
     "data": {
      "application/vnd.jupyter.widget-view+json": {
       "model_id": "87852bcc2f53456a8f8f87d40aab98f4",
       "version_major": 2,
       "version_minor": 0
      },
      "text/plain": [
       "A Jupyter Widget"
      ]
     },
     "metadata": {},
     "output_type": "display_data"
    },
    {
     "name": "stdout",
     "output_type": "stream",
     "text": [
      "map_seed = 13\n",
      "train_rmse_before = 0.045998098, train_rmse_after = 0.039349306, \n",
      "mean_train_revard = -0.043, mean_test_reward  = 0.014,\n",
      "steps = total: 4000, bad: 0.3950, good: 0.0290, diff: 0.0000, other: 0.5760,\n",
      "collisions = 0.447250, circles = 2.722319\n",
      "\n"
     ]
    },
    {
     "data": {
      "application/vnd.jupyter.widget-view+json": {
       "model_id": "fd67e928ce2a4af9b31bbefa6200c7dc",
       "version_major": 2,
       "version_minor": 0
      },
      "text/plain": [
       "A Jupyter Widget"
      ]
     },
     "metadata": {},
     "output_type": "display_data"
    },
    {
     "data": {
      "application/vnd.jupyter.widget-view+json": {
       "model_id": "d588075bcfc4402c8fd6752dbca51a76",
       "version_major": 2,
       "version_minor": 0
      },
      "text/plain": [
       "A Jupyter Widget"
      ]
     },
     "metadata": {},
     "output_type": "display_data"
    },
    {
     "data": {
      "application/vnd.jupyter.widget-view+json": {
       "model_id": "f9e7ea8f15bd41adad21dd2ff5659dc0",
       "version_major": 2,
       "version_minor": 0
      },
      "text/plain": [
       "A Jupyter Widget"
      ]
     },
     "metadata": {},
     "output_type": "display_data"
    },
    {
     "name": "stdout",
     "output_type": "stream",
     "text": [
      "map_seed = 18\n",
      "train_rmse_before = 0.045109625, train_rmse_after = 0.039745226, \n",
      "mean_train_revard = -0.044, mean_test_reward  = 0.020,\n",
      "steps = total: 4000, bad: 0.3720, good: 0.0320, diff: 0.0000, other: 0.5960,\n",
      "collisions = 0.400250, circles = 3.033243\n",
      "\n"
     ]
    },
    {
     "data": {
      "application/vnd.jupyter.widget-view+json": {
       "model_id": "f0a5d61c7bc343629d78cc1a6ee5ee3b",
       "version_major": 2,
       "version_minor": 0
      },
      "text/plain": [
       "A Jupyter Widget"
      ]
     },
     "metadata": {},
     "output_type": "display_data"
    },
    {
     "data": {
      "application/vnd.jupyter.widget-view+json": {
       "model_id": "100173fdf9a54ff199ef7c7a821b998a",
       "version_major": 2,
       "version_minor": 0
      },
      "text/plain": [
       "A Jupyter Widget"
      ]
     },
     "metadata": {},
     "output_type": "display_data"
    },
    {
     "data": {
      "application/vnd.jupyter.widget-view+json": {
       "model_id": "41896c606b79485d9b1672fdb99d513d",
       "version_major": 2,
       "version_minor": 0
      },
      "text/plain": [
       "A Jupyter Widget"
      ]
     },
     "metadata": {},
     "output_type": "display_data"
    },
    {
     "name": "stdout",
     "output_type": "stream",
     "text": [
      "map_seed = 23\n",
      "train_rmse_before = 0.047238209, train_rmse_after = 0.039749338, \n",
      "mean_train_revard = -0.045, mean_test_reward  = 0.009,\n",
      "steps = total: 4000, bad: 0.4045, good: 0.0125, diff: 0.0000, other: 0.5830,\n",
      "collisions = 0.518500, circles = 2.902078\n",
      "\n"
     ]
    },
    {
     "data": {
      "application/vnd.jupyter.widget-view+json": {
       "model_id": "57460d188bd446cd88189e5f02314c34",
       "version_major": 2,
       "version_minor": 0
      },
      "text/plain": [
       "A Jupyter Widget"
      ]
     },
     "metadata": {},
     "output_type": "display_data"
    },
    {
     "data": {
      "application/vnd.jupyter.widget-view+json": {
       "model_id": "24a1617f322241baa9048300f1616295",
       "version_major": 2,
       "version_minor": 0
      },
      "text/plain": [
       "A Jupyter Widget"
      ]
     },
     "metadata": {},
     "output_type": "display_data"
    },
    {
     "data": {
      "application/vnd.jupyter.widget-view+json": {
       "model_id": "fc2a5b61a29c410ba74dea5ea3e0d089",
       "version_major": 2,
       "version_minor": 0
      },
      "text/plain": [
       "A Jupyter Widget"
      ]
     },
     "metadata": {},
     "output_type": "display_data"
    },
    {
     "name": "stdout",
     "output_type": "stream",
     "text": [
      "map_seed = 3\n",
      "train_rmse_before = 0.046905318, train_rmse_after = 0.039983044, \n",
      "mean_train_revard = -0.046, mean_test_reward  = 0.030,\n",
      "steps = total: 4000, bad: 0.3680, good: 0.0100, diff: 0.0000, other: 0.6220,\n",
      "collisions = 0.413750, circles = 3.763950\n",
      "\n"
     ]
    },
    {
     "data": {
      "application/vnd.jupyter.widget-view+json": {
       "model_id": "a93edba5d86a458ca59a2adf2ea7dab7",
       "version_major": 2,
       "version_minor": 0
      },
      "text/plain": [
       "A Jupyter Widget"
      ]
     },
     "metadata": {},
     "output_type": "display_data"
    },
    {
     "data": {
      "application/vnd.jupyter.widget-view+json": {
       "model_id": "25dfe8883c4849fea8f279e1b2f2c4d3",
       "version_major": 2,
       "version_minor": 0
      },
      "text/plain": [
       "A Jupyter Widget"
      ]
     },
     "metadata": {},
     "output_type": "display_data"
    },
    {
     "data": {
      "application/vnd.jupyter.widget-view+json": {
       "model_id": "5afdd920b0f246a8aa0db5e2e44c13f5",
       "version_major": 2,
       "version_minor": 0
      },
      "text/plain": [
       "A Jupyter Widget"
      ]
     },
     "metadata": {},
     "output_type": "display_data"
    },
    {
     "name": "stdout",
     "output_type": "stream",
     "text": [
      "map_seed = 13\n",
      "train_rmse_before = 0.046015557, train_rmse_after = 0.040117596, \n",
      "mean_train_revard = -0.045, mean_test_reward  = 0.024,\n",
      "steps = total: 4000, bad: 0.3450, good: 0.0232, diff: 0.0000, other: 0.6318,\n",
      "collisions = 0.397500, circles = 3.046504\n",
      "\n"
     ]
    },
    {
     "data": {
      "application/vnd.jupyter.widget-view+json": {
       "model_id": "7f6746b21c604d75a238b0df7ba0e8ca",
       "version_major": 2,
       "version_minor": 0
      },
      "text/plain": [
       "A Jupyter Widget"
      ]
     },
     "metadata": {},
     "output_type": "display_data"
    },
    {
     "data": {
      "application/vnd.jupyter.widget-view+json": {
       "model_id": "f6b87aa11e5340fab6a56b87bce32364",
       "version_major": 2,
       "version_minor": 0
      },
      "text/plain": [
       "A Jupyter Widget"
      ]
     },
     "metadata": {},
     "output_type": "display_data"
    },
    {
     "data": {
      "application/vnd.jupyter.widget-view+json": {
       "model_id": "58f49d38cce848c1b68872d39a980530",
       "version_major": 2,
       "version_minor": 0
      },
      "text/plain": [
       "A Jupyter Widget"
      ]
     },
     "metadata": {},
     "output_type": "display_data"
    },
    {
     "name": "stdout",
     "output_type": "stream",
     "text": [
      "map_seed = 18\n",
      "train_rmse_before = 0.045483300, train_rmse_after = 0.039962972, \n",
      "mean_train_revard = -0.045, mean_test_reward  = 0.023,\n",
      "steps = total: 4000, bad: 0.3395, good: 0.0127, diff: 0.0000, other: 0.6478,\n",
      "collisions = 0.382000, circles = 2.617249\n",
      "\n"
     ]
    },
    {
     "data": {
      "application/vnd.jupyter.widget-view+json": {
       "model_id": "bdd8b685368e4e16986fe1a8d545f6be",
       "version_major": 2,
       "version_minor": 0
      },
      "text/plain": [
       "A Jupyter Widget"
      ]
     },
     "metadata": {},
     "output_type": "display_data"
    },
    {
     "data": {
      "application/vnd.jupyter.widget-view+json": {
       "model_id": "37204d7962c44090834fbff113adca5f",
       "version_major": 2,
       "version_minor": 0
      },
      "text/plain": [
       "A Jupyter Widget"
      ]
     },
     "metadata": {},
     "output_type": "display_data"
    },
    {
     "data": {
      "application/vnd.jupyter.widget-view+json": {
       "model_id": "8b762a0327804beaa069fc82668531af",
       "version_major": 2,
       "version_minor": 0
      },
      "text/plain": [
       "A Jupyter Widget"
      ]
     },
     "metadata": {},
     "output_type": "display_data"
    },
    {
     "name": "stdout",
     "output_type": "stream",
     "text": [
      "map_seed = 23\n",
      "train_rmse_before = 0.046857983, train_rmse_after = 0.040077881, \n",
      "mean_train_revard = -0.046, mean_test_reward  = 0.011,\n",
      "steps = total: 4000, bad: 0.4093, good: 0.0123, diff: 0.0000, other: 0.5785,\n",
      "collisions = 0.488000, circles = 3.200101\n",
      "\n"
     ]
    },
    {
     "data": {
      "application/vnd.jupyter.widget-view+json": {
       "model_id": "9a590ad226ff4d25bbd5314842c5eabc",
       "version_major": 2,
       "version_minor": 0
      },
      "text/plain": [
       "A Jupyter Widget"
      ]
     },
     "metadata": {},
     "output_type": "display_data"
    },
    {
     "data": {
      "application/vnd.jupyter.widget-view+json": {
       "model_id": "0689542244fc4ee7a3761ccbdf82ddd8",
       "version_major": 2,
       "version_minor": 0
      },
      "text/plain": [
       "A Jupyter Widget"
      ]
     },
     "metadata": {},
     "output_type": "display_data"
    },
    {
     "data": {
      "application/vnd.jupyter.widget-view+json": {
       "model_id": "e3cd59ae59c143db95f13230930745b8",
       "version_major": 2,
       "version_minor": 0
      },
      "text/plain": [
       "A Jupyter Widget"
      ]
     },
     "metadata": {},
     "output_type": "display_data"
    },
    {
     "name": "stdout",
     "output_type": "stream",
     "text": [
      "map_seed = 3\n",
      "train_rmse_before = 0.046685407, train_rmse_after = 0.040196026, \n",
      "mean_train_revard = -0.046, mean_test_reward  = 0.018,\n",
      "steps = total: 4000, bad: 0.3745, good: 0.0107, diff: 0.0000, other: 0.6148,\n",
      "collisions = 0.424750, circles = 3.045714\n",
      "\n"
     ]
    },
    {
     "data": {
      "application/vnd.jupyter.widget-view+json": {
       "model_id": "0f5a229b6f7040d596af6ebf8caf5acf",
       "version_major": 2,
       "version_minor": 0
      },
      "text/plain": [
       "A Jupyter Widget"
      ]
     },
     "metadata": {},
     "output_type": "display_data"
    },
    {
     "data": {
      "application/vnd.jupyter.widget-view+json": {
       "model_id": "d09b3ad6289f421b8144ebb23e13a890",
       "version_major": 2,
       "version_minor": 0
      },
      "text/plain": [
       "A Jupyter Widget"
      ]
     },
     "metadata": {},
     "output_type": "display_data"
    },
    {
     "data": {
      "application/vnd.jupyter.widget-view+json": {
       "model_id": "11ba3567032c431488068555368e2500",
       "version_major": 2,
       "version_minor": 0
      },
      "text/plain": [
       "A Jupyter Widget"
      ]
     },
     "metadata": {},
     "output_type": "display_data"
    },
    {
     "name": "stdout",
     "output_type": "stream",
     "text": [
      "map_seed = 13\n",
      "train_rmse_before = 0.046450589, train_rmse_after = 0.040403168, \n",
      "mean_train_revard = -0.046, mean_test_reward  = 0.004,\n",
      "steps = total: 4000, bad: 0.3465, good: 0.0170, diff: 0.0000, other: 0.6365,\n",
      "collisions = 0.381250, circles = 2.721463\n",
      "\n"
     ]
    },
    {
     "data": {
      "application/vnd.jupyter.widget-view+json": {
       "model_id": "d4cc2d5cb42f440ea8a325cd1d77cc10",
       "version_major": 2,
       "version_minor": 0
      },
      "text/plain": [
       "A Jupyter Widget"
      ]
     },
     "metadata": {},
     "output_type": "display_data"
    },
    {
     "data": {
      "application/vnd.jupyter.widget-view+json": {
       "model_id": "f9b341be7682449b8498143c8eac421c",
       "version_major": 2,
       "version_minor": 0
      },
      "text/plain": [
       "A Jupyter Widget"
      ]
     },
     "metadata": {},
     "output_type": "display_data"
    },
    {
     "data": {
      "application/vnd.jupyter.widget-view+json": {
       "model_id": "473a63b37c974954a3d0ece5580c7247",
       "version_major": 2,
       "version_minor": 0
      },
      "text/plain": [
       "A Jupyter Widget"
      ]
     },
     "metadata": {},
     "output_type": "display_data"
    },
    {
     "name": "stdout",
     "output_type": "stream",
     "text": [
      "map_seed = 18\n",
      "train_rmse_before = 0.044510560, train_rmse_after = 0.040330810, \n",
      "mean_train_revard = -0.045, mean_test_reward  = 0.025,\n",
      "steps = total: 4000, bad: 0.3240, good: 0.0225, diff: 0.0000, other: 0.6535,\n",
      "collisions = 0.364750, circles = 3.272719\n",
      "\n"
     ]
    },
    {
     "data": {
      "application/vnd.jupyter.widget-view+json": {
       "model_id": "00ab77e7f21b4a51b677d948c76abfed",
       "version_major": 2,
       "version_minor": 0
      },
      "text/plain": [
       "A Jupyter Widget"
      ]
     },
     "metadata": {},
     "output_type": "display_data"
    },
    {
     "data": {
      "application/vnd.jupyter.widget-view+json": {
       "model_id": "f177fcd82d7e4954a570afbb446f12e4",
       "version_major": 2,
       "version_minor": 0
      },
      "text/plain": [
       "A Jupyter Widget"
      ]
     },
     "metadata": {},
     "output_type": "display_data"
    },
    {
     "data": {
      "application/vnd.jupyter.widget-view+json": {
       "model_id": "331521a741a44c93acc28f80423233cb",
       "version_major": 2,
       "version_minor": 0
      },
      "text/plain": [
       "A Jupyter Widget"
      ]
     },
     "metadata": {},
     "output_type": "display_data"
    },
    {
     "name": "stdout",
     "output_type": "stream",
     "text": [
      "map_seed = 23\n",
      "train_rmse_before = 0.047340521, train_rmse_after = 0.040101834, \n",
      "mean_train_revard = -0.046, mean_test_reward  = 0.019,\n",
      "steps = total: 4000, bad: 0.3947, good: 0.0080, diff: 0.0000, other: 0.5973,\n",
      "collisions = 0.485250, circles = 3.218706\n",
      "\n",
      "\n"
     ]
    }
   ],
   "source": [
    "print(\"\\n\\n\".join(log_list) + \"\\n----\\n\")\n",
    "res = 10\n",
    "for _ in tqdm_notebook(range(10), desc=\"main\"):\n",
    "    for map_seed in map_seeds:\n",
    "        kvparams[\"map_seed\"] = map_seed\n",
    "        res = mine_data(log_list, dyn_plot, agent1, act_trainer, steps=4000, **kvparams)\n",
    "        if res > 4:\n",
    "            break\n",
    "        print(\"\")\n",
    "    if res > 4:\n",
    "        break"
   ]
  },
  {
   "cell_type": "code",
   "execution_count": 19,
   "metadata": {
    "collapsed": true
   },
   "outputs": [],
   "source": [
    "agent1.to_file(\"nn_4с.txt\")"
   ]
  },
  {
   "cell_type": "code",
   "execution_count": null,
   "metadata": {
    "collapsed": true
   },
   "outputs": [],
   "source": []
  },
  {
   "cell_type": "code",
   "execution_count": null,
   "metadata": {
    "collapsed": true
   },
   "outputs": [],
   "source": []
  },
  {
   "cell_type": "code",
   "execution_count": null,
   "metadata": {
    "collapsed": true
   },
   "outputs": [],
   "source": []
  },
  {
   "cell_type": "code",
   "execution_count": null,
   "metadata": {
    "collapsed": true
   },
   "outputs": [],
   "source": []
  },
  {
   "cell_type": "code",
   "execution_count": null,
   "metadata": {
    "collapsed": true
   },
   "outputs": [],
   "source": [
    "import pickle"
   ]
  },
  {
   "cell_type": "code",
   "execution_count": null,
   "metadata": {
    "collapsed": true
   },
   "outputs": [],
   "source": [
    "agent1.to_file(\"nn_trained_on_50k.txt\")"
   ]
  },
  {
   "cell_type": "code",
   "execution_count": null,
   "metadata": {
    "collapsed": true
   },
   "outputs": [],
   "source": [
    "agent1.neural_net = None"
   ]
  },
  {
   "cell_type": "code",
   "execution_count": null,
   "metadata": {
    "collapsed": true
   },
   "outputs": [],
   "source": [
    "pickle.dump(agent1, open(\"agent1.pickle\", \"wb\"))"
   ]
  },
  {
   "cell_type": "code",
   "execution_count": null,
   "metadata": {
    "collapsed": true
   },
   "outputs": [],
   "source": [
    "agent1 = pickle.load(open(\"agent1.pickle\", \"rb\"))"
   ]
  },
  {
   "cell_type": "code",
   "execution_count": null,
   "metadata": {
    "collapsed": true
   },
   "outputs": [],
   "source": [
    "agent1.neural_net = agent1.from_file(\"nn_trained_on_50k.txt\").neural_net"
   ]
  },
  {
   "cell_type": "markdown",
   "metadata": {},
   "source": [
    "# Смотрим вживую"
   ]
  },
  {
   "cell_type": "code",
   "execution_count": 21,
   "metadata": {
    "collapsed": true
   },
   "outputs": [],
   "source": [
    "def visualize(agent, map_seed):\n",
    "    w = create_map(seed=map_seed, agent=agent)\n",
    "    eval_res = w.evaluate_agent(agent, steps=1200, visual=True)\n",
    "    eval_circle = w.circles[agent]\n",
    "    print(f\"visualize on map = {map_seed}, eval_res = {eval_res:4f}, eval_circle = {eval_circle:4f}\")"
   ]
  },
  {
   "cell_type": "code",
   "execution_count": 22,
   "metadata": {},
   "outputs": [
    {
     "name": "stdout",
     "output_type": "stream",
     "text": [
      "visualize on map = 3, eval_res = -0.014350, eval_circle = 3.725428\n",
      "visualize on map = 13, eval_res = -0.304386, eval_circle = 0.569680\n",
      "visualize on map = 18, eval_res = 0.022033, eval_circle = 0.924339\n",
      "visualize on map = 23, eval_res = -0.002193, eval_circle = 2.013241\n"
     ]
    }
   ],
   "source": [
    "for map_seed in map_seeds:\n",
    "    visualize(agent1, map_seed)"
   ]
  },
  {
   "cell_type": "markdown",
   "metadata": {},
   "source": [
    "# Отладка"
   ]
  },
  {
   "cell_type": "code",
   "execution_count": null,
   "metadata": {
    "collapsed": true
   },
   "outputs": [],
   "source": [
    "raise Exception(\"Здесь отладка\")"
   ]
  },
  {
   "cell_type": "raw",
   "metadata": {},
   "source": []
  },
  {
   "cell_type": "code",
   "execution_count": 21,
   "metadata": {
    "collapsed": true
   },
   "outputs": [],
   "source": [
    "agent_dbg = agent1"
   ]
  },
  {
   "cell_type": "markdown",
   "metadata": {
    "collapsed": true
   },
   "source": [
    "agent_dbg.clear_history()\n",
    "#mine data\n",
    "w = create_map(seed=map_seed, agent=agent_dbg)\n",
    "w.run(steps=tqdm_notebook(range(10000), desc=\"train\", leave=False), visual=False, save=False)"
   ]
  },
  {
   "cell_type": "code",
   "execution_count": 22,
   "metadata": {},
   "outputs": [
    {
     "data": {
      "text/plain": [
       "-0.12005822168687524"
      ]
     },
     "execution_count": 22,
     "metadata": {},
     "output_type": "execute_result"
    }
   ],
   "source": [
    "# prepare train data\n",
    "X_train = np.concatenate([agent_dbg.sensor_data_history, agent_dbg.chosen_actions_history], axis=1)\n",
    "y_train = np.array(agent_dbg.reward_history)\n",
    "mean_train_revard = y_train.mean()\n",
    "y_train = norm_y(y_train)\n",
    "y_clean = y_train.copy()\n",
    "\n",
    "mean_train_revard"
   ]
  },
  {
   "cell_type": "code",
   "execution_count": 23,
   "metadata": {
    "collapsed": true
   },
   "outputs": [],
   "source": [
    "reward_shift = kvparams[\"reward_shift\"]\n",
    "alpha = kvparams[\"alpha\"]"
   ]
  },
  {
   "cell_type": "code",
   "execution_count": 24,
   "metadata": {
    "collapsed": true
   },
   "outputs": [],
   "source": [
    "y_train = np.pad(y_train, (0, 2 * reward_shift), mode=\"constant\")\n",
    "y_train = reduce(lambda a, b: a + b, [y_train[i:(-2 * reward_shift + i)] * (alpha ** i)\n",
    "                                      for i in range(reward_shift)])"
   ]
  },
  {
   "cell_type": "code",
   "execution_count": 25,
   "metadata": {
    "collapsed": true
   },
   "outputs": [],
   "source": [
    "y_predict = agent_dbg.neural_net.feedforward(X_train.T)"
   ]
  },
  {
   "cell_type": "code",
   "execution_count": 26,
   "metadata": {
    "collapsed": true
   },
   "outputs": [],
   "source": [
    "pd_visual = pd.DataFrame(X_train,\n",
    "                         columns=[\"velocity\", \"angle\"] +\n",
    "                         [\"lid{}\".format(i) for i in range(agent_dbg.rays)] +\n",
    "                         [\"steering\", \"acceleration\"])\n",
    "pd_visual[\"y_clean\"] = y_clean\n",
    "pd_visual[\"y_train\"] = y_train\n",
    "pd_visual[\"y_predict\"] = y_predict.flatten()"
   ]
  },
  {
   "cell_type": "markdown",
   "metadata": {},
   "source": [
    "## Смотрим на входные данные"
   ]
  },
  {
   "cell_type": "code",
   "execution_count": null,
   "metadata": {
    "collapsed": true
   },
   "outputs": [],
   "source": [
    "from functools import reduce"
   ]
  },
  {
   "cell_type": "code",
   "execution_count": null,
   "metadata": {
    "collapsed": true,
    "scrolled": true
   },
   "outputs": [],
   "source": [
    "pd_visual.loc[:4000]"
   ]
  },
  {
   "cell_type": "code",
   "execution_count": null,
   "metadata": {
    "collapsed": true
   },
   "outputs": [],
   "source": [
    "pd_visual.steering.hist(bins=3)"
   ]
  },
  {
   "cell_type": "code",
   "execution_count": null,
   "metadata": {
    "collapsed": true
   },
   "outputs": [],
   "source": [
    "pd_visual.acceleration.hist(bins=3)"
   ]
  },
  {
   "cell_type": "code",
   "execution_count": null,
   "metadata": {
    "collapsed": true
   },
   "outputs": [],
   "source": []
  },
  {
   "cell_type": "code",
   "execution_count": null,
   "metadata": {
    "collapsed": true
   },
   "outputs": [],
   "source": []
  },
  {
   "cell_type": "code",
   "execution_count": null,
   "metadata": {
    "collapsed": true
   },
   "outputs": [],
   "source": []
  },
  {
   "cell_type": "code",
   "execution_count": null,
   "metadata": {
    "collapsed": true,
    "scrolled": true
   },
   "outputs": [],
   "source": [
    "pd_visual[reduce(lambda a, b: a | b, [(pd_visual.y_clean < 0).shift(-i) for i in range(reward_shift+2)])].iloc[4000:]"
   ]
  },
  {
   "cell_type": "code",
   "execution_count": null,
   "metadata": {
    "collapsed": true
   },
   "outputs": [],
   "source": [
    "plt.ion()"
   ]
  },
  {
   "cell_type": "code",
   "execution_count": null,
   "metadata": {
    "collapsed": true
   },
   "outputs": [],
   "source": [
    "pd_visual[\"lid2\"].hist(bins=np.arange(0,5,0.1))"
   ]
  },
  {
   "cell_type": "code",
   "execution_count": null,
   "metadata": {
    "collapsed": true
   },
   "outputs": [],
   "source": [
    "pd_visual[reduce(lambda a, b: a | b, [(pd_visual.y_clean < 0).shift(-i) for i in range(5, 10)])] \\\n",
    "    [\"lid2\"].hist(bins=np.arange(0,5,0.1))"
   ]
  },
  {
   "cell_type": "code",
   "execution_count": null,
   "metadata": {
    "collapsed": true
   },
   "outputs": [],
   "source": []
  },
  {
   "cell_type": "code",
   "execution_count": null,
   "metadata": {
    "collapsed": true
   },
   "outputs": [],
   "source": []
  },
  {
   "cell_type": "code",
   "execution_count": null,
   "metadata": {
    "collapsed": true
   },
   "outputs": [],
   "source": []
  },
  {
   "cell_type": "code",
   "execution_count": null,
   "metadata": {
    "collapsed": true
   },
   "outputs": [],
   "source": []
  },
  {
   "cell_type": "code",
   "execution_count": null,
   "metadata": {
    "collapsed": true
   },
   "outputs": [],
   "source": []
  },
  {
   "cell_type": "code",
   "execution_count": null,
   "metadata": {
    "collapsed": true
   },
   "outputs": [],
   "source": []
  },
  {
   "cell_type": "code",
   "execution_count": null,
   "metadata": {
    "collapsed": true
   },
   "outputs": [],
   "source": []
  },
  {
   "cell_type": "code",
   "execution_count": null,
   "metadata": {
    "collapsed": true
   },
   "outputs": [],
   "source": []
  },
  {
   "cell_type": "code",
   "execution_count": null,
   "metadata": {
    "collapsed": true
   },
   "outputs": [],
   "source": []
  },
  {
   "cell_type": "code",
   "execution_count": null,
   "metadata": {
    "collapsed": true
   },
   "outputs": [],
   "source": []
  },
  {
   "cell_type": "markdown",
   "metadata": {},
   "source": [
    "## Смотрим как сеть реагирует на входные данные"
   ]
  },
  {
   "cell_type": "code",
   "execution_count": null,
   "metadata": {
    "collapsed": true
   },
   "outputs": [],
   "source": [
    "(pd_visual.y_clean[200:] < 0).argmax()"
   ]
  },
  {
   "cell_type": "code",
   "execution_count": null,
   "metadata": {
    "collapsed": true
   },
   "outputs": [],
   "source": [
    "pd_visual.loc[265:285]"
   ]
  },
  {
   "cell_type": "code",
   "execution_count": null,
   "metadata": {
    "collapsed": true
   },
   "outputs": [],
   "source": [
    "from cars.utils import Action"
   ]
  },
  {
   "cell_type": "code",
   "execution_count": null,
   "metadata": {
    "collapsed": true
   },
   "outputs": [],
   "source": [
    "sensor_info = pd_visual.loc[273].values[:7]\n",
    "rewards_to_controls_map = []\n",
    "# дискретизируем множество значений, так как все возможные мы точно предсказать не сможем\n",
    "for steering in np.linspace(-1, 1, 3):  # выбирать можно и другую частоту дискретизации, но\n",
    "    for acceleration in np.linspace(-0.75, 0.75, 3):  # в наших тестах будет именно такая\n",
    "        action = Action(steering, acceleration)\n",
    "        agent_vector_representation = np.append(sensor_info, action)\n",
    "        agent_vector_representation = agent_vector_representation.flatten()[:, np.newaxis]\n",
    "        predicted_reward = float(agent_dbg.neural_net.feedforward(agent_vector_representation))\n",
    "        rewards_to_controls_map.append((predicted_reward, action))\n",
    "\n",
    "rewards_to_controls_map"
   ]
  },
  {
   "cell_type": "code",
   "execution_count": null,
   "metadata": {
    "collapsed": true
   },
   "outputs": [],
   "source": [
    "sorted(rewards_to_controls_map, key=lambda x: x[0])[-1]"
   ]
  },
  {
   "cell_type": "code",
   "execution_count": null,
   "metadata": {
    "collapsed": true
   },
   "outputs": [],
   "source": [
    "sensor_info = pd_visual.loc[275].values[:7]\n",
    "rewards_to_controls_map = []\n",
    "# дискретизируем множество значений, так как все возможные мы точно предсказать не сможем\n",
    "for steering in np.linspace(-1, 1, 3):  # выбирать можно и другую частоту дискретизации, но\n",
    "    for acceleration in np.linspace(-0.75, 0.75, 3):  # в наших тестах будет именно такая\n",
    "        action = Action(steering, acceleration)\n",
    "        agent_vector_representation = np.append(sensor_info, action)\n",
    "        agent_vector_representation = agent_vector_representation.flatten()[:, np.newaxis]\n",
    "        predicted_reward = float(agent_dbg.neural_net.feedforward(agent_vector_representation))\n",
    "        rewards_to_controls_map.append((predicted_reward, action))\n",
    "\n",
    "rewards_to_controls_map"
   ]
  },
  {
   "cell_type": "code",
   "execution_count": null,
   "metadata": {
    "collapsed": true
   },
   "outputs": [],
   "source": [
    "sorted(rewards_to_controls_map, key=lambda x: x[0])[-1]"
   ]
  },
  {
   "cell_type": "code",
   "execution_count": null,
   "metadata": {
    "collapsed": true,
    "scrolled": false
   },
   "outputs": [],
   "source": [
    "pd_visual[-8000:-6000].plot(y=[\"y_clean\", \"y_train\", \"y_predict\"], figsize=(64, 4))"
   ]
  },
  {
   "cell_type": "code",
   "execution_count": null,
   "metadata": {
    "collapsed": true
   },
   "outputs": [],
   "source": [
    "rmse_before = ((pd_visual.y_train - pd_visual.y_predict)**2).mean() ** 0.5\n",
    "rmse_before"
   ]
  },
  {
   "cell_type": "markdown",
   "metadata": {},
   "source": [
    "# Смотрим как сеть учится"
   ]
  },
  {
   "cell_type": "code",
   "execution_count": 31,
   "metadata": {},
   "outputs": [
    {
     "data": {
      "text/plain": [
       "{'alpha': 0.7,\n",
       " 'clear_history': False,\n",
       " 'epochs': 100,\n",
       " 'eta': 0.1,\n",
       " 'map_seed': 18,\n",
       " 'mini_batch_size': 50,\n",
       " 'reward_shift': 3}"
      ]
     },
     "execution_count": 31,
     "metadata": {},
     "output_type": "execute_result"
    }
   ],
   "source": [
    "kvparams"
   ]
  },
  {
   "cell_type": "code",
   "execution_count": 34,
   "metadata": {
    "collapsed": true
   },
   "outputs": [],
   "source": [
    "plt.ion()"
   ]
  },
  {
   "cell_type": "code",
   "execution_count": 28,
   "metadata": {
    "collapsed": true
   },
   "outputs": [],
   "source": [
    "train_data = [(x[:, np.newaxis], y) for x, y in zip(X_train, y_train)]"
   ]
  },
  {
   "cell_type": "code",
   "execution_count": 92,
   "metadata": {
    "collapsed": true
   },
   "outputs": [],
   "source": [
    "from learning_algorithms.network import Network\n",
    "agent_dbg.neural_net = Network([9, 36, 20, 20, 10, 1], output_function=lambda x: x, output_derivative=lambda x: 1)"
   ]
  },
  {
   "cell_type": "code",
   "execution_count": 93,
   "metadata": {
    "collapsed": true
   },
   "outputs": [],
   "source": [
    "epoch_num = 1\n",
    "dyp_x = []\n",
    "dyp_y = []"
   ]
  },
  {
   "cell_type": "code",
   "execution_count": 94,
   "metadata": {
    "scrolled": false
   },
   "outputs": [
    {
     "data": {
      "application/javascript": [
       "/* Put everything inside the global mpl namespace */\n",
       "window.mpl = {};\n",
       "\n",
       "\n",
       "mpl.get_websocket_type = function() {\n",
       "    if (typeof(WebSocket) !== 'undefined') {\n",
       "        return WebSocket;\n",
       "    } else if (typeof(MozWebSocket) !== 'undefined') {\n",
       "        return MozWebSocket;\n",
       "    } else {\n",
       "        alert('Your browser does not have WebSocket support.' +\n",
       "              'Please try Chrome, Safari or Firefox ≥ 6. ' +\n",
       "              'Firefox 4 and 5 are also supported but you ' +\n",
       "              'have to enable WebSockets in about:config.');\n",
       "    };\n",
       "}\n",
       "\n",
       "mpl.figure = function(figure_id, websocket, ondownload, parent_element) {\n",
       "    this.id = figure_id;\n",
       "\n",
       "    this.ws = websocket;\n",
       "\n",
       "    this.supports_binary = (this.ws.binaryType != undefined);\n",
       "\n",
       "    if (!this.supports_binary) {\n",
       "        var warnings = document.getElementById(\"mpl-warnings\");\n",
       "        if (warnings) {\n",
       "            warnings.style.display = 'block';\n",
       "            warnings.textContent = (\n",
       "                \"This browser does not support binary websocket messages. \" +\n",
       "                    \"Performance may be slow.\");\n",
       "        }\n",
       "    }\n",
       "\n",
       "    this.imageObj = new Image();\n",
       "\n",
       "    this.context = undefined;\n",
       "    this.message = undefined;\n",
       "    this.canvas = undefined;\n",
       "    this.rubberband_canvas = undefined;\n",
       "    this.rubberband_context = undefined;\n",
       "    this.format_dropdown = undefined;\n",
       "\n",
       "    this.image_mode = 'full';\n",
       "\n",
       "    this.root = $('<div/>');\n",
       "    this._root_extra_style(this.root)\n",
       "    this.root.attr('style', 'display: inline-block');\n",
       "\n",
       "    $(parent_element).append(this.root);\n",
       "\n",
       "    this._init_header(this);\n",
       "    this._init_canvas(this);\n",
       "    this._init_toolbar(this);\n",
       "\n",
       "    var fig = this;\n",
       "\n",
       "    this.waiting = false;\n",
       "\n",
       "    this.ws.onopen =  function () {\n",
       "            fig.send_message(\"supports_binary\", {value: fig.supports_binary});\n",
       "            fig.send_message(\"send_image_mode\", {});\n",
       "            if (mpl.ratio != 1) {\n",
       "                fig.send_message(\"set_dpi_ratio\", {'dpi_ratio': mpl.ratio});\n",
       "            }\n",
       "            fig.send_message(\"refresh\", {});\n",
       "        }\n",
       "\n",
       "    this.imageObj.onload = function() {\n",
       "            if (fig.image_mode == 'full') {\n",
       "                // Full images could contain transparency (where diff images\n",
       "                // almost always do), so we need to clear the canvas so that\n",
       "                // there is no ghosting.\n",
       "                fig.context.clearRect(0, 0, fig.canvas.width, fig.canvas.height);\n",
       "            }\n",
       "            fig.context.drawImage(fig.imageObj, 0, 0);\n",
       "        };\n",
       "\n",
       "    this.imageObj.onunload = function() {\n",
       "        fig.ws.close();\n",
       "    }\n",
       "\n",
       "    this.ws.onmessage = this._make_on_message_function(this);\n",
       "\n",
       "    this.ondownload = ondownload;\n",
       "}\n",
       "\n",
       "mpl.figure.prototype._init_header = function() {\n",
       "    var titlebar = $(\n",
       "        '<div class=\"ui-dialog-titlebar ui-widget-header ui-corner-all ' +\n",
       "        'ui-helper-clearfix\"/>');\n",
       "    var titletext = $(\n",
       "        '<div class=\"ui-dialog-title\" style=\"width: 100%; ' +\n",
       "        'text-align: center; padding: 3px;\"/>');\n",
       "    titlebar.append(titletext)\n",
       "    this.root.append(titlebar);\n",
       "    this.header = titletext[0];\n",
       "}\n",
       "\n",
       "\n",
       "\n",
       "mpl.figure.prototype._canvas_extra_style = function(canvas_div) {\n",
       "\n",
       "}\n",
       "\n",
       "\n",
       "mpl.figure.prototype._root_extra_style = function(canvas_div) {\n",
       "\n",
       "}\n",
       "\n",
       "mpl.figure.prototype._init_canvas = function() {\n",
       "    var fig = this;\n",
       "\n",
       "    var canvas_div = $('<div/>');\n",
       "\n",
       "    canvas_div.attr('style', 'position: relative; clear: both; outline: 0');\n",
       "\n",
       "    function canvas_keyboard_event(event) {\n",
       "        return fig.key_event(event, event['data']);\n",
       "    }\n",
       "\n",
       "    canvas_div.keydown('key_press', canvas_keyboard_event);\n",
       "    canvas_div.keyup('key_release', canvas_keyboard_event);\n",
       "    this.canvas_div = canvas_div\n",
       "    this._canvas_extra_style(canvas_div)\n",
       "    this.root.append(canvas_div);\n",
       "\n",
       "    var canvas = $('<canvas/>');\n",
       "    canvas.addClass('mpl-canvas');\n",
       "    canvas.attr('style', \"left: 0; top: 0; z-index: 0; outline: 0\")\n",
       "\n",
       "    this.canvas = canvas[0];\n",
       "    this.context = canvas[0].getContext(\"2d\");\n",
       "\n",
       "    var backingStore = this.context.backingStorePixelRatio ||\n",
       "\tthis.context.webkitBackingStorePixelRatio ||\n",
       "\tthis.context.mozBackingStorePixelRatio ||\n",
       "\tthis.context.msBackingStorePixelRatio ||\n",
       "\tthis.context.oBackingStorePixelRatio ||\n",
       "\tthis.context.backingStorePixelRatio || 1;\n",
       "\n",
       "    mpl.ratio = (window.devicePixelRatio || 1) / backingStore;\n",
       "\n",
       "    var rubberband = $('<canvas/>');\n",
       "    rubberband.attr('style', \"position: absolute; left: 0; top: 0; z-index: 1;\")\n",
       "\n",
       "    var pass_mouse_events = true;\n",
       "\n",
       "    canvas_div.resizable({\n",
       "        start: function(event, ui) {\n",
       "            pass_mouse_events = false;\n",
       "        },\n",
       "        resize: function(event, ui) {\n",
       "            fig.request_resize(ui.size.width, ui.size.height);\n",
       "        },\n",
       "        stop: function(event, ui) {\n",
       "            pass_mouse_events = true;\n",
       "            fig.request_resize(ui.size.width, ui.size.height);\n",
       "        },\n",
       "    });\n",
       "\n",
       "    function mouse_event_fn(event) {\n",
       "        if (pass_mouse_events)\n",
       "            return fig.mouse_event(event, event['data']);\n",
       "    }\n",
       "\n",
       "    rubberband.mousedown('button_press', mouse_event_fn);\n",
       "    rubberband.mouseup('button_release', mouse_event_fn);\n",
       "    // Throttle sequential mouse events to 1 every 20ms.\n",
       "    rubberband.mousemove('motion_notify', mouse_event_fn);\n",
       "\n",
       "    rubberband.mouseenter('figure_enter', mouse_event_fn);\n",
       "    rubberband.mouseleave('figure_leave', mouse_event_fn);\n",
       "\n",
       "    canvas_div.on(\"wheel\", function (event) {\n",
       "        event = event.originalEvent;\n",
       "        event['data'] = 'scroll'\n",
       "        if (event.deltaY < 0) {\n",
       "            event.step = 1;\n",
       "        } else {\n",
       "            event.step = -1;\n",
       "        }\n",
       "        mouse_event_fn(event);\n",
       "    });\n",
       "\n",
       "    canvas_div.append(canvas);\n",
       "    canvas_div.append(rubberband);\n",
       "\n",
       "    this.rubberband = rubberband;\n",
       "    this.rubberband_canvas = rubberband[0];\n",
       "    this.rubberband_context = rubberband[0].getContext(\"2d\");\n",
       "    this.rubberband_context.strokeStyle = \"#000000\";\n",
       "\n",
       "    this._resize_canvas = function(width, height) {\n",
       "        // Keep the size of the canvas, canvas container, and rubber band\n",
       "        // canvas in synch.\n",
       "        canvas_div.css('width', width)\n",
       "        canvas_div.css('height', height)\n",
       "\n",
       "        canvas.attr('width', width * mpl.ratio);\n",
       "        canvas.attr('height', height * mpl.ratio);\n",
       "        canvas.attr('style', 'width: ' + width + 'px; height: ' + height + 'px;');\n",
       "\n",
       "        rubberband.attr('width', width);\n",
       "        rubberband.attr('height', height);\n",
       "    }\n",
       "\n",
       "    // Set the figure to an initial 600x600px, this will subsequently be updated\n",
       "    // upon first draw.\n",
       "    this._resize_canvas(600, 600);\n",
       "\n",
       "    // Disable right mouse context menu.\n",
       "    $(this.rubberband_canvas).bind(\"contextmenu\",function(e){\n",
       "        return false;\n",
       "    });\n",
       "\n",
       "    function set_focus () {\n",
       "        canvas.focus();\n",
       "        canvas_div.focus();\n",
       "    }\n",
       "\n",
       "    window.setTimeout(set_focus, 100);\n",
       "}\n",
       "\n",
       "mpl.figure.prototype._init_toolbar = function() {\n",
       "    var fig = this;\n",
       "\n",
       "    var nav_element = $('<div/>')\n",
       "    nav_element.attr('style', 'width: 100%');\n",
       "    this.root.append(nav_element);\n",
       "\n",
       "    // Define a callback function for later on.\n",
       "    function toolbar_event(event) {\n",
       "        return fig.toolbar_button_onclick(event['data']);\n",
       "    }\n",
       "    function toolbar_mouse_event(event) {\n",
       "        return fig.toolbar_button_onmouseover(event['data']);\n",
       "    }\n",
       "\n",
       "    for(var toolbar_ind in mpl.toolbar_items) {\n",
       "        var name = mpl.toolbar_items[toolbar_ind][0];\n",
       "        var tooltip = mpl.toolbar_items[toolbar_ind][1];\n",
       "        var image = mpl.toolbar_items[toolbar_ind][2];\n",
       "        var method_name = mpl.toolbar_items[toolbar_ind][3];\n",
       "\n",
       "        if (!name) {\n",
       "            // put a spacer in here.\n",
       "            continue;\n",
       "        }\n",
       "        var button = $('<button/>');\n",
       "        button.addClass('ui-button ui-widget ui-state-default ui-corner-all ' +\n",
       "                        'ui-button-icon-only');\n",
       "        button.attr('role', 'button');\n",
       "        button.attr('aria-disabled', 'false');\n",
       "        button.click(method_name, toolbar_event);\n",
       "        button.mouseover(tooltip, toolbar_mouse_event);\n",
       "\n",
       "        var icon_img = $('<span/>');\n",
       "        icon_img.addClass('ui-button-icon-primary ui-icon');\n",
       "        icon_img.addClass(image);\n",
       "        icon_img.addClass('ui-corner-all');\n",
       "\n",
       "        var tooltip_span = $('<span/>');\n",
       "        tooltip_span.addClass('ui-button-text');\n",
       "        tooltip_span.html(tooltip);\n",
       "\n",
       "        button.append(icon_img);\n",
       "        button.append(tooltip_span);\n",
       "\n",
       "        nav_element.append(button);\n",
       "    }\n",
       "\n",
       "    var fmt_picker_span = $('<span/>');\n",
       "\n",
       "    var fmt_picker = $('<select/>');\n",
       "    fmt_picker.addClass('mpl-toolbar-option ui-widget ui-widget-content');\n",
       "    fmt_picker_span.append(fmt_picker);\n",
       "    nav_element.append(fmt_picker_span);\n",
       "    this.format_dropdown = fmt_picker[0];\n",
       "\n",
       "    for (var ind in mpl.extensions) {\n",
       "        var fmt = mpl.extensions[ind];\n",
       "        var option = $(\n",
       "            '<option/>', {selected: fmt === mpl.default_extension}).html(fmt);\n",
       "        fmt_picker.append(option)\n",
       "    }\n",
       "\n",
       "    // Add hover states to the ui-buttons\n",
       "    $( \".ui-button\" ).hover(\n",
       "        function() { $(this).addClass(\"ui-state-hover\");},\n",
       "        function() { $(this).removeClass(\"ui-state-hover\");}\n",
       "    );\n",
       "\n",
       "    var status_bar = $('<span class=\"mpl-message\"/>');\n",
       "    nav_element.append(status_bar);\n",
       "    this.message = status_bar[0];\n",
       "}\n",
       "\n",
       "mpl.figure.prototype.request_resize = function(x_pixels, y_pixels) {\n",
       "    // Request matplotlib to resize the figure. Matplotlib will then trigger a resize in the client,\n",
       "    // which will in turn request a refresh of the image.\n",
       "    this.send_message('resize', {'width': x_pixels, 'height': y_pixels});\n",
       "}\n",
       "\n",
       "mpl.figure.prototype.send_message = function(type, properties) {\n",
       "    properties['type'] = type;\n",
       "    properties['figure_id'] = this.id;\n",
       "    this.ws.send(JSON.stringify(properties));\n",
       "}\n",
       "\n",
       "mpl.figure.prototype.send_draw_message = function() {\n",
       "    if (!this.waiting) {\n",
       "        this.waiting = true;\n",
       "        this.ws.send(JSON.stringify({type: \"draw\", figure_id: this.id}));\n",
       "    }\n",
       "}\n",
       "\n",
       "\n",
       "mpl.figure.prototype.handle_save = function(fig, msg) {\n",
       "    var format_dropdown = fig.format_dropdown;\n",
       "    var format = format_dropdown.options[format_dropdown.selectedIndex].value;\n",
       "    fig.ondownload(fig, format);\n",
       "}\n",
       "\n",
       "\n",
       "mpl.figure.prototype.handle_resize = function(fig, msg) {\n",
       "    var size = msg['size'];\n",
       "    if (size[0] != fig.canvas.width || size[1] != fig.canvas.height) {\n",
       "        fig._resize_canvas(size[0], size[1]);\n",
       "        fig.send_message(\"refresh\", {});\n",
       "    };\n",
       "}\n",
       "\n",
       "mpl.figure.prototype.handle_rubberband = function(fig, msg) {\n",
       "    var x0 = msg['x0'] / mpl.ratio;\n",
       "    var y0 = (fig.canvas.height - msg['y0']) / mpl.ratio;\n",
       "    var x1 = msg['x1'] / mpl.ratio;\n",
       "    var y1 = (fig.canvas.height - msg['y1']) / mpl.ratio;\n",
       "    x0 = Math.floor(x0) + 0.5;\n",
       "    y0 = Math.floor(y0) + 0.5;\n",
       "    x1 = Math.floor(x1) + 0.5;\n",
       "    y1 = Math.floor(y1) + 0.5;\n",
       "    var min_x = Math.min(x0, x1);\n",
       "    var min_y = Math.min(y0, y1);\n",
       "    var width = Math.abs(x1 - x0);\n",
       "    var height = Math.abs(y1 - y0);\n",
       "\n",
       "    fig.rubberband_context.clearRect(\n",
       "        0, 0, fig.canvas.width, fig.canvas.height);\n",
       "\n",
       "    fig.rubberband_context.strokeRect(min_x, min_y, width, height);\n",
       "}\n",
       "\n",
       "mpl.figure.prototype.handle_figure_label = function(fig, msg) {\n",
       "    // Updates the figure title.\n",
       "    fig.header.textContent = msg['label'];\n",
       "}\n",
       "\n",
       "mpl.figure.prototype.handle_cursor = function(fig, msg) {\n",
       "    var cursor = msg['cursor'];\n",
       "    switch(cursor)\n",
       "    {\n",
       "    case 0:\n",
       "        cursor = 'pointer';\n",
       "        break;\n",
       "    case 1:\n",
       "        cursor = 'default';\n",
       "        break;\n",
       "    case 2:\n",
       "        cursor = 'crosshair';\n",
       "        break;\n",
       "    case 3:\n",
       "        cursor = 'move';\n",
       "        break;\n",
       "    }\n",
       "    fig.rubberband_canvas.style.cursor = cursor;\n",
       "}\n",
       "\n",
       "mpl.figure.prototype.handle_message = function(fig, msg) {\n",
       "    fig.message.textContent = msg['message'];\n",
       "}\n",
       "\n",
       "mpl.figure.prototype.handle_draw = function(fig, msg) {\n",
       "    // Request the server to send over a new figure.\n",
       "    fig.send_draw_message();\n",
       "}\n",
       "\n",
       "mpl.figure.prototype.handle_image_mode = function(fig, msg) {\n",
       "    fig.image_mode = msg['mode'];\n",
       "}\n",
       "\n",
       "mpl.figure.prototype.updated_canvas_event = function() {\n",
       "    // Called whenever the canvas gets updated.\n",
       "    this.send_message(\"ack\", {});\n",
       "}\n",
       "\n",
       "// A function to construct a web socket function for onmessage handling.\n",
       "// Called in the figure constructor.\n",
       "mpl.figure.prototype._make_on_message_function = function(fig) {\n",
       "    return function socket_on_message(evt) {\n",
       "        if (evt.data instanceof Blob) {\n",
       "            /* FIXME: We get \"Resource interpreted as Image but\n",
       "             * transferred with MIME type text/plain:\" errors on\n",
       "             * Chrome.  But how to set the MIME type?  It doesn't seem\n",
       "             * to be part of the websocket stream */\n",
       "            evt.data.type = \"image/png\";\n",
       "\n",
       "            /* Free the memory for the previous frames */\n",
       "            if (fig.imageObj.src) {\n",
       "                (window.URL || window.webkitURL).revokeObjectURL(\n",
       "                    fig.imageObj.src);\n",
       "            }\n",
       "\n",
       "            fig.imageObj.src = (window.URL || window.webkitURL).createObjectURL(\n",
       "                evt.data);\n",
       "            fig.updated_canvas_event();\n",
       "            fig.waiting = false;\n",
       "            return;\n",
       "        }\n",
       "        else if (typeof evt.data === 'string' && evt.data.slice(0, 21) == \"data:image/png;base64\") {\n",
       "            fig.imageObj.src = evt.data;\n",
       "            fig.updated_canvas_event();\n",
       "            fig.waiting = false;\n",
       "            return;\n",
       "        }\n",
       "\n",
       "        var msg = JSON.parse(evt.data);\n",
       "        var msg_type = msg['type'];\n",
       "\n",
       "        // Call the  \"handle_{type}\" callback, which takes\n",
       "        // the figure and JSON message as its only arguments.\n",
       "        try {\n",
       "            var callback = fig[\"handle_\" + msg_type];\n",
       "        } catch (e) {\n",
       "            console.log(\"No handler for the '\" + msg_type + \"' message type: \", msg);\n",
       "            return;\n",
       "        }\n",
       "\n",
       "        if (callback) {\n",
       "            try {\n",
       "                // console.log(\"Handling '\" + msg_type + \"' message: \", msg);\n",
       "                callback(fig, msg);\n",
       "            } catch (e) {\n",
       "                console.log(\"Exception inside the 'handler_\" + msg_type + \"' callback:\", e, e.stack, msg);\n",
       "            }\n",
       "        }\n",
       "    };\n",
       "}\n",
       "\n",
       "// from http://stackoverflow.com/questions/1114465/getting-mouse-location-in-canvas\n",
       "mpl.findpos = function(e) {\n",
       "    //this section is from http://www.quirksmode.org/js/events_properties.html\n",
       "    var targ;\n",
       "    if (!e)\n",
       "        e = window.event;\n",
       "    if (e.target)\n",
       "        targ = e.target;\n",
       "    else if (e.srcElement)\n",
       "        targ = e.srcElement;\n",
       "    if (targ.nodeType == 3) // defeat Safari bug\n",
       "        targ = targ.parentNode;\n",
       "\n",
       "    // jQuery normalizes the pageX and pageY\n",
       "    // pageX,Y are the mouse positions relative to the document\n",
       "    // offset() returns the position of the element relative to the document\n",
       "    var x = e.pageX - $(targ).offset().left;\n",
       "    var y = e.pageY - $(targ).offset().top;\n",
       "\n",
       "    return {\"x\": x, \"y\": y};\n",
       "};\n",
       "\n",
       "/*\n",
       " * return a copy of an object with only non-object keys\n",
       " * we need this to avoid circular references\n",
       " * http://stackoverflow.com/a/24161582/3208463\n",
       " */\n",
       "function simpleKeys (original) {\n",
       "  return Object.keys(original).reduce(function (obj, key) {\n",
       "    if (typeof original[key] !== 'object')\n",
       "        obj[key] = original[key]\n",
       "    return obj;\n",
       "  }, {});\n",
       "}\n",
       "\n",
       "mpl.figure.prototype.mouse_event = function(event, name) {\n",
       "    var canvas_pos = mpl.findpos(event)\n",
       "\n",
       "    if (name === 'button_press')\n",
       "    {\n",
       "        this.canvas.focus();\n",
       "        this.canvas_div.focus();\n",
       "    }\n",
       "\n",
       "    var x = canvas_pos.x * mpl.ratio;\n",
       "    var y = canvas_pos.y * mpl.ratio;\n",
       "\n",
       "    this.send_message(name, {x: x, y: y, button: event.button,\n",
       "                             step: event.step,\n",
       "                             guiEvent: simpleKeys(event)});\n",
       "\n",
       "    /* This prevents the web browser from automatically changing to\n",
       "     * the text insertion cursor when the button is pressed.  We want\n",
       "     * to control all of the cursor setting manually through the\n",
       "     * 'cursor' event from matplotlib */\n",
       "    event.preventDefault();\n",
       "    return false;\n",
       "}\n",
       "\n",
       "mpl.figure.prototype._key_event_extra = function(event, name) {\n",
       "    // Handle any extra behaviour associated with a key event\n",
       "}\n",
       "\n",
       "mpl.figure.prototype.key_event = function(event, name) {\n",
       "\n",
       "    // Prevent repeat events\n",
       "    if (name == 'key_press')\n",
       "    {\n",
       "        if (event.which === this._key)\n",
       "            return;\n",
       "        else\n",
       "            this._key = event.which;\n",
       "    }\n",
       "    if (name == 'key_release')\n",
       "        this._key = null;\n",
       "\n",
       "    var value = '';\n",
       "    if (event.ctrlKey && event.which != 17)\n",
       "        value += \"ctrl+\";\n",
       "    if (event.altKey && event.which != 18)\n",
       "        value += \"alt+\";\n",
       "    if (event.shiftKey && event.which != 16)\n",
       "        value += \"shift+\";\n",
       "\n",
       "    value += 'k';\n",
       "    value += event.which.toString();\n",
       "\n",
       "    this._key_event_extra(event, name);\n",
       "\n",
       "    this.send_message(name, {key: value,\n",
       "                             guiEvent: simpleKeys(event)});\n",
       "    return false;\n",
       "}\n",
       "\n",
       "mpl.figure.prototype.toolbar_button_onclick = function(name) {\n",
       "    if (name == 'download') {\n",
       "        this.handle_save(this, null);\n",
       "    } else {\n",
       "        this.send_message(\"toolbar_button\", {name: name});\n",
       "    }\n",
       "};\n",
       "\n",
       "mpl.figure.prototype.toolbar_button_onmouseover = function(tooltip) {\n",
       "    this.message.textContent = tooltip;\n",
       "};\n",
       "mpl.toolbar_items = [[\"Home\", \"Reset original view\", \"fa fa-home icon-home\", \"home\"], [\"Back\", \"Back to  previous view\", \"fa fa-arrow-left icon-arrow-left\", \"back\"], [\"Forward\", \"Forward to next view\", \"fa fa-arrow-right icon-arrow-right\", \"forward\"], [\"\", \"\", \"\", \"\"], [\"Pan\", \"Pan axes with left mouse, zoom with right\", \"fa fa-arrows icon-move\", \"pan\"], [\"Zoom\", \"Zoom to rectangle\", \"fa fa-square-o icon-check-empty\", \"zoom\"], [\"\", \"\", \"\", \"\"], [\"Download\", \"Download plot\", \"fa fa-floppy-o icon-save\", \"download\"]];\n",
       "\n",
       "mpl.extensions = [\"eps\", \"jpeg\", \"pdf\", \"png\", \"ps\", \"raw\", \"svg\", \"tif\"];\n",
       "\n",
       "mpl.default_extension = \"png\";var comm_websocket_adapter = function(comm) {\n",
       "    // Create a \"websocket\"-like object which calls the given IPython comm\n",
       "    // object with the appropriate methods. Currently this is a non binary\n",
       "    // socket, so there is still some room for performance tuning.\n",
       "    var ws = {};\n",
       "\n",
       "    ws.close = function() {\n",
       "        comm.close()\n",
       "    };\n",
       "    ws.send = function(m) {\n",
       "        //console.log('sending', m);\n",
       "        comm.send(m);\n",
       "    };\n",
       "    // Register the callback with on_msg.\n",
       "    comm.on_msg(function(msg) {\n",
       "        //console.log('receiving', msg['content']['data'], msg);\n",
       "        // Pass the mpl event to the overriden (by mpl) onmessage function.\n",
       "        ws.onmessage(msg['content']['data'])\n",
       "    });\n",
       "    return ws;\n",
       "}\n",
       "\n",
       "mpl.mpl_figure_comm = function(comm, msg) {\n",
       "    // This is the function which gets called when the mpl process\n",
       "    // starts-up an IPython Comm through the \"matplotlib\" channel.\n",
       "\n",
       "    var id = msg.content.data.id;\n",
       "    // Get hold of the div created by the display call when the Comm\n",
       "    // socket was opened in Python.\n",
       "    var element = $(\"#\" + id);\n",
       "    var ws_proxy = comm_websocket_adapter(comm)\n",
       "\n",
       "    function ondownload(figure, format) {\n",
       "        window.open(figure.imageObj.src);\n",
       "    }\n",
       "\n",
       "    var fig = new mpl.figure(id, ws_proxy,\n",
       "                           ondownload,\n",
       "                           element.get(0));\n",
       "\n",
       "    // Call onopen now - mpl needs it, as it is assuming we've passed it a real\n",
       "    // web socket which is closed, not our websocket->open comm proxy.\n",
       "    ws_proxy.onopen();\n",
       "\n",
       "    fig.parent_element = element.get(0);\n",
       "    fig.cell_info = mpl.find_output_cell(\"<div id='\" + id + \"'></div>\");\n",
       "    if (!fig.cell_info) {\n",
       "        console.error(\"Failed to find cell for figure\", id, fig);\n",
       "        return;\n",
       "    }\n",
       "\n",
       "    var output_index = fig.cell_info[2]\n",
       "    var cell = fig.cell_info[0];\n",
       "\n",
       "};\n",
       "\n",
       "mpl.figure.prototype.handle_close = function(fig, msg) {\n",
       "    var width = fig.canvas.width/mpl.ratio\n",
       "    fig.root.unbind('remove')\n",
       "\n",
       "    // Update the output cell to use the data from the current canvas.\n",
       "    fig.push_to_output();\n",
       "    var dataURL = fig.canvas.toDataURL();\n",
       "    // Re-enable the keyboard manager in IPython - without this line, in FF,\n",
       "    // the notebook keyboard shortcuts fail.\n",
       "    IPython.keyboard_manager.enable()\n",
       "    $(fig.parent_element).html('<img src=\"' + dataURL + '\" width=\"' + width + '\">');\n",
       "    fig.close_ws(fig, msg);\n",
       "}\n",
       "\n",
       "mpl.figure.prototype.close_ws = function(fig, msg){\n",
       "    fig.send_message('closing', msg);\n",
       "    // fig.ws.close()\n",
       "}\n",
       "\n",
       "mpl.figure.prototype.push_to_output = function(remove_interactive) {\n",
       "    // Turn the data on the canvas into data in the output cell.\n",
       "    var width = this.canvas.width/mpl.ratio\n",
       "    var dataURL = this.canvas.toDataURL();\n",
       "    this.cell_info[1]['text/html'] = '<img src=\"' + dataURL + '\" width=\"' + width + '\">';\n",
       "}\n",
       "\n",
       "mpl.figure.prototype.updated_canvas_event = function() {\n",
       "    // Tell IPython that the notebook contents must change.\n",
       "    IPython.notebook.set_dirty(true);\n",
       "    this.send_message(\"ack\", {});\n",
       "    var fig = this;\n",
       "    // Wait a second, then push the new image to the DOM so\n",
       "    // that it is saved nicely (might be nice to debounce this).\n",
       "    setTimeout(function () { fig.push_to_output() }, 1000);\n",
       "}\n",
       "\n",
       "mpl.figure.prototype._init_toolbar = function() {\n",
       "    var fig = this;\n",
       "\n",
       "    var nav_element = $('<div/>')\n",
       "    nav_element.attr('style', 'width: 100%');\n",
       "    this.root.append(nav_element);\n",
       "\n",
       "    // Define a callback function for later on.\n",
       "    function toolbar_event(event) {\n",
       "        return fig.toolbar_button_onclick(event['data']);\n",
       "    }\n",
       "    function toolbar_mouse_event(event) {\n",
       "        return fig.toolbar_button_onmouseover(event['data']);\n",
       "    }\n",
       "\n",
       "    for(var toolbar_ind in mpl.toolbar_items){\n",
       "        var name = mpl.toolbar_items[toolbar_ind][0];\n",
       "        var tooltip = mpl.toolbar_items[toolbar_ind][1];\n",
       "        var image = mpl.toolbar_items[toolbar_ind][2];\n",
       "        var method_name = mpl.toolbar_items[toolbar_ind][3];\n",
       "\n",
       "        if (!name) { continue; };\n",
       "\n",
       "        var button = $('<button class=\"btn btn-default\" href=\"#\" title=\"' + name + '\"><i class=\"fa ' + image + ' fa-lg\"></i></button>');\n",
       "        button.click(method_name, toolbar_event);\n",
       "        button.mouseover(tooltip, toolbar_mouse_event);\n",
       "        nav_element.append(button);\n",
       "    }\n",
       "\n",
       "    // Add the status bar.\n",
       "    var status_bar = $('<span class=\"mpl-message\" style=\"text-align:right; float: right;\"/>');\n",
       "    nav_element.append(status_bar);\n",
       "    this.message = status_bar[0];\n",
       "\n",
       "    // Add the close button to the window.\n",
       "    var buttongrp = $('<div class=\"btn-group inline pull-right\"></div>');\n",
       "    var button = $('<button class=\"btn btn-mini btn-primary\" href=\"#\" title=\"Stop Interaction\"><i class=\"fa fa-power-off icon-remove icon-large\"></i></button>');\n",
       "    button.click(function (evt) { fig.handle_close(fig, {}); } );\n",
       "    button.mouseover('Stop Interaction', toolbar_mouse_event);\n",
       "    buttongrp.append(button);\n",
       "    var titlebar = this.root.find($('.ui-dialog-titlebar'));\n",
       "    titlebar.prepend(buttongrp);\n",
       "}\n",
       "\n",
       "mpl.figure.prototype._root_extra_style = function(el){\n",
       "    var fig = this\n",
       "    el.on(\"remove\", function(){\n",
       "\tfig.close_ws(fig, {});\n",
       "    });\n",
       "}\n",
       "\n",
       "mpl.figure.prototype._canvas_extra_style = function(el){\n",
       "    // this is important to make the div 'focusable\n",
       "    el.attr('tabindex', 0)\n",
       "    // reach out to IPython and tell the keyboard manager to turn it's self\n",
       "    // off when our div gets focus\n",
       "\n",
       "    // location in version 3\n",
       "    if (IPython.notebook.keyboard_manager) {\n",
       "        IPython.notebook.keyboard_manager.register_events(el);\n",
       "    }\n",
       "    else {\n",
       "        // location in version 2\n",
       "        IPython.keyboard_manager.register_events(el);\n",
       "    }\n",
       "\n",
       "}\n",
       "\n",
       "mpl.figure.prototype._key_event_extra = function(event, name) {\n",
       "    var manager = IPython.notebook.keyboard_manager;\n",
       "    if (!manager)\n",
       "        manager = IPython.keyboard_manager;\n",
       "\n",
       "    // Check for shift+enter\n",
       "    if (event.shiftKey && event.which == 13) {\n",
       "        this.canvas_div.blur();\n",
       "        event.shiftKey = false;\n",
       "        // Send a \"J\" for go to next cell\n",
       "        event.which = 74;\n",
       "        event.keyCode = 74;\n",
       "        manager.command_mode();\n",
       "        manager.handle_keydown(event);\n",
       "    }\n",
       "}\n",
       "\n",
       "mpl.figure.prototype.handle_save = function(fig, msg) {\n",
       "    fig.ondownload(fig, null);\n",
       "}\n",
       "\n",
       "\n",
       "mpl.find_output_cell = function(html_output) {\n",
       "    // Return the cell and output element which can be found *uniquely* in the notebook.\n",
       "    // Note - this is a bit hacky, but it is done because the \"notebook_saving.Notebook\"\n",
       "    // IPython event is triggered only after the cells have been serialised, which for\n",
       "    // our purposes (turning an active figure into a static one), is too late.\n",
       "    var cells = IPython.notebook.get_cells();\n",
       "    var ncells = cells.length;\n",
       "    for (var i=0; i<ncells; i++) {\n",
       "        var cell = cells[i];\n",
       "        if (cell.cell_type === 'code'){\n",
       "            for (var j=0; j<cell.output_area.outputs.length; j++) {\n",
       "                var data = cell.output_area.outputs[j];\n",
       "                if (data.data) {\n",
       "                    // IPython >= 3 moved mimebundle to data attribute of output\n",
       "                    data = data.data;\n",
       "                }\n",
       "                if (data['text/html'] == html_output) {\n",
       "                    return [cell, data, j];\n",
       "                }\n",
       "            }\n",
       "        }\n",
       "    }\n",
       "}\n",
       "\n",
       "// Register the function which deals with the matplotlib target/channel.\n",
       "// The kernel may be null if the page has been refreshed.\n",
       "if (IPython.notebook.kernel != null) {\n",
       "    IPython.notebook.kernel.comm_manager.register_target('matplotlib', mpl.mpl_figure_comm);\n",
       "}\n"
      ],
      "text/plain": [
       "<IPython.core.display.Javascript object>"
      ]
     },
     "metadata": {},
     "output_type": "display_data"
    },
    {
     "data": {
      "text/html": [
       "<img src=\"data:image/png;base64,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\" width=\"640\">"
      ],
      "text/plain": [
       "<IPython.core.display.HTML object>"
      ]
     },
     "metadata": {},
     "output_type": "display_data"
    },
    {
     "name": "stdout",
     "output_type": "stream",
     "text": [
      "min rmse: 0.124154183800949\n"
     ]
    }
   ],
   "source": [
    "plt.ion()\n",
    "dyp = DynamicUpdate()\n",
    "dyp.on_launch()\n",
    "\n",
    "try:\n",
    "    for res in agent_dbg.neural_net.SGD(\n",
    "            training_data=train_data,\n",
    "            epochs=800, mini_batch_size=200, eta=0.4,\n",
    "            test_data=(X_train.T, y_train)):\n",
    "        dyp_x.append(epoch_num)\n",
    "        epoch_num += 1\n",
    "        dyp_y.append(res)\n",
    "        if epoch_num % 10 == 0:\n",
    "            dyp.on_running(dyp_x, dyp_y)\n",
    "except KeyboardInterrupt:\n",
    "    print(\"min rmse: {}\".format(min(dyp_y)))"
   ]
  },
  {
   "cell_type": "code",
   "execution_count": 88,
   "metadata": {},
   "outputs": [
    {
     "name": "stdout",
     "output_type": "stream",
     "text": [
      "- min rmse: 0.077144 for [9, 36, 20, 20, 10, 1]\n"
     ]
    }
   ],
   "source": [
    "print(\"- min rmse: {:4f} for {}\".format(min(dyp_y), agent_dbg.neural_net.sizes))"
   ]
  },
  {
   "cell_type": "markdown",
   "metadata": {},
   "source": [
    "- min rmse: 0.096779 for [9, 18, 8, 1], epochs=500, mini_batch_size=50, eta=0.5\n",
    "- min rmse: 0.097438 for [9, 18, 5, 5, 1], epochs=500, mini_batch_size=50, eta=0.5\n",
    "- min rmse: 0.095456 for [9, 18, 5, 5, 5, 1], epochs=500, mini_batch_size=50, eta=0.5\n",
    "- min rmse: 0.088339 for [9, 36, 10, 10, 10, 1], epochs=500, mini_batch_size=50, eta=0.5\n",
    "- min rmse: 0.089725 for [9, 36, 20, 20, 10, 1], epochs=800, mini_batch_size=80, eta=0.7\n",
    "- min rmse: 0.077144 for [9, 36, 20, 20, 10, 1], epochs=800, mini_batch_size=20, eta=1.4"
   ]
  },
  {
   "cell_type": "markdown",
   "metadata": {},
   "source": [
    "## Сравним"
   ]
  },
  {
   "cell_type": "code",
   "execution_count": 44,
   "metadata": {
    "collapsed": true
   },
   "outputs": [],
   "source": [
    "rfcls = RandomForestWrapper(n_jobs=50)"
   ]
  },
  {
   "cell_type": "code",
   "execution_count": 45,
   "metadata": {
    "collapsed": true
   },
   "outputs": [],
   "source": [
    "next(rfcls.SGD(\n",
    "    training_data=train_data,\n",
    "    epochs=500,\n",
    "    mini_batch_size=50,\n",
    "    eta=0.1))"
   ]
  },
  {
   "cell_type": "code",
   "execution_count": 46,
   "metadata": {},
   "outputs": [
    {
     "data": {
      "text/plain": [
       "0.039722006904538754"
      ]
     },
     "execution_count": 46,
     "metadata": {},
     "output_type": "execute_result"
    }
   ],
   "source": [
    "rfcls.evaluate(X_train.T, y_train)"
   ]
  },
  {
   "cell_type": "code",
   "execution_count": null,
   "metadata": {
    "collapsed": true
   },
   "outputs": [],
   "source": []
  }
 ],
 "metadata": {
  "kernelspec": {
   "display_name": "Python 3",
   "language": "python",
   "name": "python3"
  },
  "language_info": {
   "codemirror_mode": {
    "name": "ipython",
    "version": 3
   },
   "file_extension": ".py",
   "mimetype": "text/x-python",
   "name": "python",
   "nbconvert_exporter": "python",
   "pygments_lexer": "ipython3",
   "version": "3.6.3"
  },
  "widgets": {
   "state": {
    "49a8b45c8bbc486e8e4965bf0fcadc22": {
     "views": [
      {
       "cell_index": 22
      }
     ]
    },
    "69a994e8f5444e06871f554c0e5fa43e": {
     "views": [
      {
       "cell_index": 22
      }
     ]
    },
    "7343f9f4c68b4141a9e5f79120cbb2a4": {
     "views": [
      {
       "cell_index": 20
      }
     ]
    },
    "dc2fa55e44f0490bbe05ac4a649b3b55": {
     "views": [
      {
       "cell_index": 18
      }
     ]
    },
    "e63da820598e428ea7fc55a2dad3ca7f": {
     "views": [
      {
       "cell_index": 22
      }
     ]
    }
   },
   "version": "1.2.0"
  }
 },
 "nbformat": 4,
 "nbformat_minor": 2
}
