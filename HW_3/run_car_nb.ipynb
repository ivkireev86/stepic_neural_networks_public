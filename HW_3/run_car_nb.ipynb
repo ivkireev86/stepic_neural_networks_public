{
 "cells": [
  {
   "cell_type": "markdown",
   "metadata": {},
   "source": [
    "# run_car"
   ]
  },
  {
   "cell_type": "code",
   "execution_count": 1,
   "metadata": {
    "collapsed": true
   },
   "outputs": [],
   "source": [
    "%matplotlib notebook\n",
    "import matplotlib.pyplot as plt\n",
    "dyn_plot = True\n",
    "class DynamicUpdate():\n",
    "    def on_launch(self):\n",
    "        #Set up plot\n",
    "        self.figure, self.ax = plt.subplots()\n",
    "        self.lines, = self.ax.plot([],[])\n",
    "        #Autoscale on unknown axis and known lims on the other\n",
    "        self.ax.set_autoscaley_on(True)\n",
    "        self.ax.set_autoscalex_on(True)\n",
    "        #Other stuff\n",
    "        self.ax.grid()\n",
    "\n",
    "    def on_running(self, xdata, ydata):\n",
    "        #Update data (with the new _and_ the old points)\n",
    "        self.lines.set_xdata(xdata)\n",
    "        self.lines.set_ydata(ydata)\n",
    "        #Need both of these in order to rescale\n",
    "        self.ax.relim()\n",
    "        self.ax.autoscale_view()\n",
    "        #We need to draw *and* flush\n",
    "        self.figure.canvas.draw()\n",
    "        self.figure.canvas.flush_events()"
   ]
  },
  {
   "cell_type": "code",
   "execution_count": 2,
   "metadata": {
    "collapsed": true
   },
   "outputs": [],
   "source": [
    "import datetime\n",
    "import numpy as np\n",
    "import random"
   ]
  },
  {
   "cell_type": "code",
   "execution_count": 3,
   "metadata": {
    "collapsed": true
   },
   "outputs": [],
   "source": [
    "from cars.world import SimpleCarWorld\n",
    "from cars.agent import SimpleCarAgent\n",
    "from cars.physics import SimplePhysics\n",
    "from cars.track import generate_map"
   ]
  },
  {
   "cell_type": "code",
   "execution_count": 4,
   "metadata": {
    "collapsed": true
   },
   "outputs": [],
   "source": [
    "from tqdm import tqdm_notebook"
   ]
  },
  {
   "cell_type": "code",
   "execution_count": 5,
   "metadata": {
    "collapsed": true
   },
   "outputs": [],
   "source": [
    "from functools import reduce"
   ]
  },
  {
   "cell_type": "code",
   "execution_count": 6,
   "metadata": {
    "collapsed": true
   },
   "outputs": [],
   "source": [
    "import pandas as pd"
   ]
  },
  {
   "cell_type": "code",
   "execution_count": 7,
   "metadata": {
    "collapsed": true
   },
   "outputs": [],
   "source": [
    "def create_map(seed, agent):\n",
    "    np.random.seed(seed)\n",
    "    random.seed(seed)\n",
    "    m = generate_map(8, 5, 3, 3)\n",
    "    w = SimpleCarWorld([agent], m, SimplePhysics, None, timedelta=0.2)\n",
    "    return w"
   ]
  },
  {
   "cell_type": "code",
   "execution_count": 8,
   "metadata": {
    "collapsed": true
   },
   "outputs": [],
   "source": [
    "import seaborn as sns"
   ]
  },
  {
   "cell_type": "markdown",
   "metadata": {},
   "source": [
    "# Параметры"
   ]
  },
  {
   "cell_type": "code",
   "execution_count": 9,
   "metadata": {
    "collapsed": true
   },
   "outputs": [],
   "source": [
    "map_seeds = [3, 13, 23]"
   ]
  },
  {
   "cell_type": "code",
   "execution_count": 10,
   "metadata": {
    "collapsed": true
   },
   "outputs": [],
   "source": [
    "# За сколько шагов модель начинает учитывать вознаграждение\n",
    "map_seed = map_seeds[0]"
   ]
  },
  {
   "cell_type": "markdown",
   "metadata": {},
   "source": [
    "# Нарабатываем данные, учимся и оцениваемся"
   ]
  },
  {
   "cell_type": "code",
   "execution_count": 11,
   "metadata": {
    "collapsed": true
   },
   "outputs": [],
   "source": [
    "def norm_y(y):\n",
    "    return y / 15.0"
   ]
  },
  {
   "cell_type": "code",
   "execution_count": 15,
   "metadata": {},
   "outputs": [],
   "source": [
    "def mine_data(agent, action_trainer_params,\n",
    "              clear_history, map_seed, steps,\n",
    "              epochs, mini_batch_size, eta, reward_shift, alpha):\n",
    "    agent.action_trainer.set_params(**action_trainer_params)\n",
    "    if clear_history:\n",
    "        agent.clear_history()\n",
    "    \n",
    "    #mine data\n",
    "    w = create_map(seed=map_seed, agent=agent)\n",
    "    w.run(steps=tqdm_notebook(range(steps), desc=\"train\", leave=False), visual=False, save=False)\n",
    "\n",
    "    # prepare train data\n",
    "    X_train = np.concatenate([agent.sensor_data_history, agent.chosen_actions_history], axis=1)\n",
    "    y_train = np.array(agent.reward_history)\n",
    "    # сглаживаем пики, чтобы сеть небольшая сеть могла дать адекватное предсказание\n",
    "    mean_train_revard = y_train.mean()\n",
    "    y_train = norm_y(y_train)\n",
    "    \n",
    "    y_train = np.pad(y_train, (0, reward_shift + 1), mode=\"constant\")\n",
    "    y_train = reduce(lambda a, b: a + b, [y_train[i:(i - reward_shift - 1)] * (alpha ** (i - 1))\n",
    "                                          for i in range(1, reward_shift+1)])\n",
    "\n",
    "    #train NN\n",
    "    train_data = [(x[:, np.newaxis], y) for x, y in zip(X_train, y_train)]\n",
    "    train_rmse_before = agent.neural_net.evaluate(X_train.T, y_train)\n",
    "    next(agent.neural_net.SGD(training_data=train_data,\n",
    "                         epochs=epochs,\n",
    "                         mini_batch_size=mini_batch_size,\n",
    "                         eta=eta))\n",
    "    train_rmse_after = agent.neural_net.evaluate(X_train.T, y_train)\n",
    "\n",
    "    # evaluate\n",
    "    w = create_map(seed=map_seed, agent=agent)\n",
    "    mean_test_reward = w.evaluate_agent(agent, steps=tqdm_notebook(range(800), desc=\"test\", leave=False), visual=False)\n",
    "    log_message = f\"\"\"map_seed = {map_seed}\n",
    "train_rmse_before = {train_rmse_before:.9f}, train_rmse_after = {train_rmse_after:.9f}, \n",
    "mean_train_revard = {mean_train_revard:.3f}, mean_test_reward  = {mean_test_reward:.3f}\n",
    "\n",
    "\"\"\"\n",
    "\n",
    "    if not dyn_plot:\n",
    "        chart_count = agent.neural_net.num_layers\n",
    "        plt.figure(figsize=(5 * chart_count, 2))\n",
    "        for l in range(chart_count - 1):\n",
    "            plt.subplot(1, chart_count, l+1)\n",
    "            ax = sns.heatmap(agent.neural_net.weights[l])\n",
    "\n",
    "        plt.subplot(1, chart_count, chart_count)    \n",
    "        plt.text(0.05, 0.95, log_message, size=12, ha='left', va='top', family='monospace')\n",
    "\n",
    "        plt.show()\n",
    "    else:\n",
    "        print(log_message)"
   ]
  },
  {
   "cell_type": "code",
   "execution_count": 16,
   "metadata": {},
   "outputs": [
    {
     "name": "stdout",
     "output_type": "stream",
     "text": [
      "map_seed = 3\n",
      "train_rmse_before = 1.324194784, train_rmse_after = 0.150627117, \n",
      "mean_train_revard = -0.441, mean_test_reward  = -0.396\n",
      "\n",
      "\n",
      "map_seed = 3\n",
      "train_rmse_before = 0.173900840, train_rmse_after = 0.157271661, \n",
      "mean_train_revard = -0.430, mean_test_reward  = -0.255\n",
      "\n",
      "\n",
      "\n"
     ]
    },
    {
     "ename": "KeyboardInterrupt",
     "evalue": "",
     "output_type": "error",
     "traceback": [
      "\u001b[0;31m---------------------------------------------------------------------------\u001b[0m",
      "\u001b[0;31mKeyboardInterrupt\u001b[0m                         Traceback (most recent call last)",
      "\u001b[0;32m<ipython-input-16-3a0f0b14e0d5>\u001b[0m in \u001b[0;36m<module>\u001b[0;34m()\u001b[0m\n\u001b[1;32m     23\u001b[0m \u001b[1;33m\u001b[0m\u001b[0m\n\u001b[1;32m     24\u001b[0m \u001b[1;32mfor\u001b[0m \u001b[0m_\u001b[0m \u001b[1;32min\u001b[0m \u001b[0mtqdm_notebook\u001b[0m\u001b[1;33m(\u001b[0m\u001b[0mrange\u001b[0m\u001b[1;33m(\u001b[0m\u001b[1;36m5\u001b[0m\u001b[1;33m)\u001b[0m\u001b[1;33m,\u001b[0m \u001b[0mdesc\u001b[0m\u001b[1;33m=\u001b[0m\u001b[1;34m\"main\"\u001b[0m\u001b[1;33m)\u001b[0m\u001b[1;33m:\u001b[0m\u001b[1;33m\u001b[0m\u001b[0m\n\u001b[0;32m---> 25\u001b[0;31m     \u001b[0mmine_data\u001b[0m\u001b[1;33m(\u001b[0m\u001b[0magent1\u001b[0m\u001b[1;33m,\u001b[0m \u001b[0mact_trainer\u001b[0m\u001b[1;33m,\u001b[0m \u001b[0msteps\u001b[0m\u001b[1;33m=\u001b[0m\u001b[1;36m4000\u001b[0m\u001b[1;33m,\u001b[0m \u001b[1;33m**\u001b[0m\u001b[0mkvparams\u001b[0m\u001b[1;33m)\u001b[0m\u001b[1;33m\u001b[0m\u001b[0m\n\u001b[0m",
      "\u001b[0;32m<ipython-input-15-88df70d8b088>\u001b[0m in \u001b[0;36mmine_data\u001b[0;34m(agent, action_trainer_params, clear_history, map_seed, steps, epochs, mini_batch_size, eta, reward_shift, alpha)\u001b[0m\n\u001b[1;32m      8\u001b[0m     \u001b[1;31m#mine data\u001b[0m\u001b[1;33m\u001b[0m\u001b[1;33m\u001b[0m\u001b[0m\n\u001b[1;32m      9\u001b[0m     \u001b[0mw\u001b[0m \u001b[1;33m=\u001b[0m \u001b[0mcreate_map\u001b[0m\u001b[1;33m(\u001b[0m\u001b[0mseed\u001b[0m\u001b[1;33m=\u001b[0m\u001b[0mmap_seed\u001b[0m\u001b[1;33m,\u001b[0m \u001b[0magent\u001b[0m\u001b[1;33m=\u001b[0m\u001b[0magent\u001b[0m\u001b[1;33m)\u001b[0m\u001b[1;33m\u001b[0m\u001b[0m\n\u001b[0;32m---> 10\u001b[0;31m     \u001b[0mw\u001b[0m\u001b[1;33m.\u001b[0m\u001b[0mrun\u001b[0m\u001b[1;33m(\u001b[0m\u001b[0msteps\u001b[0m\u001b[1;33m=\u001b[0m\u001b[0mtqdm_notebook\u001b[0m\u001b[1;33m(\u001b[0m\u001b[0mrange\u001b[0m\u001b[1;33m(\u001b[0m\u001b[0msteps\u001b[0m\u001b[1;33m)\u001b[0m\u001b[1;33m,\u001b[0m \u001b[0mdesc\u001b[0m\u001b[1;33m=\u001b[0m\u001b[1;34m\"train\"\u001b[0m\u001b[1;33m,\u001b[0m \u001b[0mleave\u001b[0m\u001b[1;33m=\u001b[0m\u001b[1;32mFalse\u001b[0m\u001b[1;33m)\u001b[0m\u001b[1;33m,\u001b[0m \u001b[0mvisual\u001b[0m\u001b[1;33m=\u001b[0m\u001b[1;32mFalse\u001b[0m\u001b[1;33m,\u001b[0m \u001b[0msave\u001b[0m\u001b[1;33m=\u001b[0m\u001b[1;32mFalse\u001b[0m\u001b[1;33m)\u001b[0m\u001b[1;33m\u001b[0m\u001b[0m\n\u001b[0m\u001b[1;32m     11\u001b[0m \u001b[1;33m\u001b[0m\u001b[0m\n\u001b[1;32m     12\u001b[0m     \u001b[1;31m# prepare train data\u001b[0m\u001b[1;33m\u001b[0m\u001b[1;33m\u001b[0m\u001b[0m\n",
      "\u001b[0;32mC:\\Users\\ivkir\\nb_python\\stepic_neural_networks_public\\HW_3\\cars\\world.py\u001b[0m in \u001b[0;36mrun\u001b[0;34m(self, steps, visual, save)\u001b[0m\n\u001b[1;32m    156\u001b[0m \u001b[1;33m\u001b[0m\u001b[0m\n\u001b[1;32m    157\u001b[0m         \u001b[1;32mfor\u001b[0m \u001b[0m_\u001b[0m \u001b[1;32min\u001b[0m \u001b[0msteps\u001b[0m\u001b[1;33m:\u001b[0m\u001b[1;33m\u001b[0m\u001b[0m\n\u001b[0;32m--> 158\u001b[0;31m             \u001b[0mself\u001b[0m\u001b[1;33m.\u001b[0m\u001b[0mtransition\u001b[0m\u001b[1;33m(\u001b[0m\u001b[1;33m)\u001b[0m\u001b[1;33m\u001b[0m\u001b[0m\n\u001b[0m\u001b[1;32m    159\u001b[0m \u001b[1;33m\u001b[0m\u001b[0m\n\u001b[1;32m    160\u001b[0m             \u001b[1;32mif\u001b[0m \u001b[0mvisual\u001b[0m\u001b[1;33m:\u001b[0m\u001b[1;33m\u001b[0m\u001b[0m\n",
      "\u001b[0;32mC:\\Users\\ivkir\\nb_python\\stepic_neural_networks_public\\HW_3\\cars\\world.py\u001b[0m in \u001b[0;36mtransition\u001b[0;34m(self)\u001b[0m\n\u001b[1;32m     90\u001b[0m         \"\"\"\n\u001b[1;32m     91\u001b[0m         \u001b[1;32mfor\u001b[0m \u001b[0ma\u001b[0m \u001b[1;32min\u001b[0m \u001b[0mself\u001b[0m\u001b[1;33m.\u001b[0m\u001b[0magents\u001b[0m\u001b[1;33m:\u001b[0m\u001b[1;33m\u001b[0m\u001b[0m\n\u001b[0;32m---> 92\u001b[0;31m             \u001b[0mvision\u001b[0m \u001b[1;33m=\u001b[0m \u001b[0mself\u001b[0m\u001b[1;33m.\u001b[0m\u001b[0mvision_for\u001b[0m\u001b[1;33m(\u001b[0m\u001b[0ma\u001b[0m\u001b[1;33m)\u001b[0m\u001b[1;33m\u001b[0m\u001b[0m\n\u001b[0m\u001b[1;32m     93\u001b[0m             \u001b[0maction\u001b[0m \u001b[1;33m=\u001b[0m \u001b[0ma\u001b[0m\u001b[1;33m.\u001b[0m\u001b[0mchoose_action\u001b[0m\u001b[1;33m(\u001b[0m\u001b[0mvision\u001b[0m\u001b[1;33m)\u001b[0m\u001b[1;33m\u001b[0m\u001b[0m\n\u001b[1;32m     94\u001b[0m             next_agent_state, collision = self.physics.move(\n",
      "\u001b[0;32mC:\\Users\\ivkir\\nb_python\\stepic_neural_networks_public\\HW_3\\cars\\world.py\u001b[0m in \u001b[0;36mvision_for\u001b[0;34m(self, agent)\u001b[0m\n\u001b[1;32m    237\u001b[0m                 \u001b[0mouter_wall\u001b[0m \u001b[1;33m=\u001b[0m \u001b[0mself\u001b[0m\u001b[1;33m.\u001b[0m\u001b[0mmap\u001b[0m\u001b[1;33m[\u001b[0m\u001b[0mj\u001b[0m \u001b[1;33m-\u001b[0m \u001b[1;36m1\u001b[0m\u001b[1;33m]\u001b[0m\u001b[1;33m[\u001b[0m\u001b[1;36m1\u001b[0m\u001b[1;33m]\u001b[0m\u001b[1;33m,\u001b[0m \u001b[0mself\u001b[0m\u001b[1;33m.\u001b[0m\u001b[0mmap\u001b[0m\u001b[1;33m[\u001b[0m\u001b[0mj\u001b[0m\u001b[1;33m]\u001b[0m\u001b[1;33m[\u001b[0m\u001b[1;36m1\u001b[0m\u001b[1;33m]\u001b[0m\u001b[1;33m\u001b[0m\u001b[0m\n\u001b[1;32m    238\u001b[0m \u001b[1;33m\u001b[0m\u001b[0m\n\u001b[0;32m--> 239\u001b[0;31m                 \u001b[0mintersect\u001b[0m \u001b[1;33m=\u001b[0m \u001b[0mintersect_ray_with_segment\u001b[0m\u001b[1;33m(\u001b[0m\u001b[1;33m(\u001b[0m\u001b[0mstate\u001b[0m\u001b[1;33m.\u001b[0m\u001b[0mposition\u001b[0m\u001b[1;33m,\u001b[0m \u001b[0mray\u001b[0m\u001b[1;33m)\u001b[0m\u001b[1;33m,\u001b[0m \u001b[0minner_wall\u001b[0m\u001b[1;33m)\u001b[0m\u001b[1;33m\u001b[0m\u001b[0m\n\u001b[0m\u001b[1;32m    240\u001b[0m                 \u001b[0mintersect\u001b[0m \u001b[1;33m=\u001b[0m \u001b[0mabs\u001b[0m\u001b[1;33m(\u001b[0m\u001b[0mintersect\u001b[0m \u001b[1;33m-\u001b[0m \u001b[0mstate\u001b[0m\u001b[1;33m.\u001b[0m\u001b[0mposition\u001b[0m\u001b[1;33m)\u001b[0m \u001b[1;32mif\u001b[0m \u001b[0mintersect\u001b[0m \u001b[1;32mis\u001b[0m \u001b[1;32mnot\u001b[0m \u001b[1;32mNone\u001b[0m \u001b[1;32melse\u001b[0m \u001b[0mnp\u001b[0m\u001b[1;33m.\u001b[0m\u001b[0minfty\u001b[0m\u001b[1;33m\u001b[0m\u001b[0m\n\u001b[1;32m    241\u001b[0m                 \u001b[1;32mif\u001b[0m \u001b[0mintersect\u001b[0m \u001b[1;33m<\u001b[0m \u001b[0mvision\u001b[0m\u001b[1;33m[\u001b[0m\u001b[1;33m-\u001b[0m\u001b[1;36m1\u001b[0m\u001b[1;33m]\u001b[0m\u001b[1;33m:\u001b[0m\u001b[1;33m\u001b[0m\u001b[0m\n",
      "\u001b[0;32mC:\\Users\\ivkir\\nb_python\\stepic_neural_networks_public\\HW_3\\cars\\utils.py\u001b[0m in \u001b[0;36mintersect_ray_with_segment\u001b[0;34m(ray, segment)\u001b[0m\n\u001b[1;32m    121\u001b[0m     \u001b[0mr_start\u001b[0m\u001b[1;33m,\u001b[0m \u001b[0mr_dir\u001b[0m \u001b[1;33m=\u001b[0m \u001b[0mray\u001b[0m\u001b[1;33m\u001b[0m\u001b[0m\n\u001b[1;32m    122\u001b[0m     \u001b[0ms_start\u001b[0m\u001b[1;33m,\u001b[0m \u001b[0ms_end\u001b[0m \u001b[1;33m=\u001b[0m \u001b[0msegment\u001b[0m\u001b[1;33m\u001b[0m\u001b[0m\n\u001b[0;32m--> 123\u001b[0;31m     \u001b[0mr_line\u001b[0m \u001b[1;33m=\u001b[0m \u001b[0mget_line_coefs\u001b[0m\u001b[1;33m(\u001b[0m\u001b[0mr_start\u001b[0m\u001b[1;33m,\u001b[0m \u001b[0mr_start\u001b[0m \u001b[1;33m+\u001b[0m \u001b[0mr_dir\u001b[0m\u001b[1;33m)\u001b[0m\u001b[1;33m\u001b[0m\u001b[0m\n\u001b[0m\u001b[1;32m    124\u001b[0m     \u001b[0ms_line\u001b[0m \u001b[1;33m=\u001b[0m \u001b[0mget_line_coefs\u001b[0m\u001b[1;33m(\u001b[0m\u001b[0ms_start\u001b[0m\u001b[1;33m,\u001b[0m \u001b[0ms_end\u001b[0m\u001b[1;33m)\u001b[0m\u001b[1;33m\u001b[0m\u001b[0m\n\u001b[1;32m    125\u001b[0m     \u001b[0mintsct\u001b[0m \u001b[1;33m=\u001b[0m \u001b[0mintersect\u001b[0m\u001b[1;33m(\u001b[0m\u001b[0mr_line\u001b[0m\u001b[1;33m,\u001b[0m \u001b[0ms_line\u001b[0m\u001b[1;33m)\u001b[0m\u001b[1;33m\u001b[0m\u001b[0m\n",
      "\u001b[0;32mC:\\Users\\ivkir\\nb_python\\stepic_neural_networks_public\\HW_3\\cars\\utils.py\u001b[0m in \u001b[0;36mget_line_coefs\u001b[0;34m(p1, p2)\u001b[0m\n\u001b[1;32m     80\u001b[0m             \u001b[0ma\u001b[0m \u001b[1;33m=\u001b[0m \u001b[0mnp\u001b[0m\u001b[1;33m.\u001b[0m\u001b[0marray\u001b[0m\u001b[1;33m(\u001b[0m\u001b[1;33m[\u001b[0m\u001b[1;33m[\u001b[0m\u001b[0mp1\u001b[0m\u001b[1;33m.\u001b[0m\u001b[0mreal\u001b[0m\u001b[1;33m,\u001b[0m \u001b[0mp1\u001b[0m\u001b[1;33m.\u001b[0m\u001b[0mimag\u001b[0m\u001b[1;33m,\u001b[0m \u001b[1;36m1\u001b[0m\u001b[1;33m]\u001b[0m\u001b[1;33m,\u001b[0m \u001b[1;33m[\u001b[0m\u001b[0mp2\u001b[0m\u001b[1;33m.\u001b[0m\u001b[0mreal\u001b[0m\u001b[1;33m,\u001b[0m \u001b[0mp2\u001b[0m\u001b[1;33m.\u001b[0m\u001b[0mimag\u001b[0m\u001b[1;33m,\u001b[0m \u001b[1;36m1\u001b[0m\u001b[1;33m]\u001b[0m\u001b[1;33m,\u001b[0m \u001b[1;33m[\u001b[0m\u001b[1;36m1\u001b[0m\u001b[1;33m,\u001b[0m \u001b[1;36m1\u001b[0m\u001b[1;33m,\u001b[0m \u001b[1;36m1\u001b[0m\u001b[1;33m]\u001b[0m\u001b[1;33m]\u001b[0m\u001b[1;33m)\u001b[0m\u001b[1;33m\u001b[0m\u001b[0m\n\u001b[1;32m     81\u001b[0m             \u001b[0mb\u001b[0m \u001b[1;33m=\u001b[0m \u001b[1;33m[\u001b[0m\u001b[1;36m0\u001b[0m\u001b[1;33m,\u001b[0m \u001b[1;36m0\u001b[0m\u001b[1;33m,\u001b[0m \u001b[1;36m1\u001b[0m\u001b[1;33m]\u001b[0m\u001b[1;33m\u001b[0m\u001b[0m\n\u001b[0;32m---> 82\u001b[0;31m             \u001b[1;32mreturn\u001b[0m \u001b[0mnp\u001b[0m\u001b[1;33m.\u001b[0m\u001b[0mlinalg\u001b[0m\u001b[1;33m.\u001b[0m\u001b[0msolve\u001b[0m\u001b[1;33m(\u001b[0m\u001b[0ma\u001b[0m\u001b[1;33m,\u001b[0m \u001b[0mb\u001b[0m\u001b[1;33m)\u001b[0m\u001b[1;33m\u001b[0m\u001b[0m\n\u001b[0m\u001b[1;32m     83\u001b[0m         \u001b[1;32mexcept\u001b[0m \u001b[0mnp\u001b[0m\u001b[1;33m.\u001b[0m\u001b[0mlinalg\u001b[0m\u001b[1;33m.\u001b[0m\u001b[0mLinAlgError\u001b[0m\u001b[1;33m:\u001b[0m\u001b[1;33m\u001b[0m\u001b[0m\n\u001b[1;32m     84\u001b[0m             \u001b[0mp1\u001b[0m \u001b[1;33m+=\u001b[0m \u001b[0mp1\u001b[0m \u001b[1;33m-\u001b[0m \u001b[0mp2\u001b[0m\u001b[1;33m\u001b[0m\u001b[0m\n",
      "\u001b[0;32mC:\\Users\\ivkir\\Anaconda3\\lib\\site-packages\\numpy\\linalg\\linalg.py\u001b[0m in \u001b[0;36msolve\u001b[0;34m(a, b)\u001b[0m\n\u001b[1;32m    382\u001b[0m     \u001b[0msignature\u001b[0m \u001b[1;33m=\u001b[0m \u001b[1;34m'DD->D'\u001b[0m \u001b[1;32mif\u001b[0m \u001b[0misComplexType\u001b[0m\u001b[1;33m(\u001b[0m\u001b[0mt\u001b[0m\u001b[1;33m)\u001b[0m \u001b[1;32melse\u001b[0m \u001b[1;34m'dd->d'\u001b[0m\u001b[1;33m\u001b[0m\u001b[0m\n\u001b[1;32m    383\u001b[0m     \u001b[0mextobj\u001b[0m \u001b[1;33m=\u001b[0m \u001b[0mget_linalg_error_extobj\u001b[0m\u001b[1;33m(\u001b[0m\u001b[0m_raise_linalgerror_singular\u001b[0m\u001b[1;33m)\u001b[0m\u001b[1;33m\u001b[0m\u001b[0m\n\u001b[0;32m--> 384\u001b[0;31m     \u001b[0mr\u001b[0m \u001b[1;33m=\u001b[0m \u001b[0mgufunc\u001b[0m\u001b[1;33m(\u001b[0m\u001b[0ma\u001b[0m\u001b[1;33m,\u001b[0m \u001b[0mb\u001b[0m\u001b[1;33m,\u001b[0m \u001b[0msignature\u001b[0m\u001b[1;33m=\u001b[0m\u001b[0msignature\u001b[0m\u001b[1;33m,\u001b[0m \u001b[0mextobj\u001b[0m\u001b[1;33m=\u001b[0m\u001b[0mextobj\u001b[0m\u001b[1;33m)\u001b[0m\u001b[1;33m\u001b[0m\u001b[0m\n\u001b[0m\u001b[1;32m    385\u001b[0m \u001b[1;33m\u001b[0m\u001b[0m\n\u001b[1;32m    386\u001b[0m     \u001b[1;32mreturn\u001b[0m \u001b[0mwrap\u001b[0m\u001b[1;33m(\u001b[0m\u001b[0mr\u001b[0m\u001b[1;33m.\u001b[0m\u001b[0mastype\u001b[0m\u001b[1;33m(\u001b[0m\u001b[0mresult_t\u001b[0m\u001b[1;33m,\u001b[0m \u001b[0mcopy\u001b[0m\u001b[1;33m=\u001b[0m\u001b[1;32mFalse\u001b[0m\u001b[1;33m)\u001b[0m\u001b[1;33m)\u001b[0m\u001b[1;33m\u001b[0m\u001b[0m\n",
      "\u001b[0;31mKeyboardInterrupt\u001b[0m: "
     ]
    },
    {
     "name": "stdout",
     "output_type": "stream",
     "text": [
      "446/|/ 11%|| 446/4000 [00:21<02:54, 20.40it/s]                                                                         "
     ]
    }
   ],
   "source": [
    "kvparams = {\n",
    "    \"clear_history\": False,\n",
    "    \"map_seed\": map_seed,\n",
    "    \"epochs\": 100,\n",
    "    \"mini_batch_size\": 50,\n",
    "    \"eta\": 0.5,\n",
    "    \"reward_shift\": 6,\n",
    "    \"alpha\": 0.8\n",
    "}\n",
    "\n",
    "act_trainer = {\n",
    "    \"low\": 0.0,\n",
    "    \"high\": 0.0,\n",
    "    \"random_default\": 0.8,\n",
    "    \"random_bad\": 0.8,\n",
    "    \"random_good\": 0.8,\n",
    "    \"random_diff\": 0.8\n",
    "}\n",
    "\n",
    "random.seed(42)\n",
    "np.random.seed(42)\n",
    "agent1 = SimpleCarAgent(name=\"Ivan\", history_data=10000)\n",
    "\n",
    "for _ in tqdm_notebook(range(1), desc=\"main\"):\n",
    "    mine_data(agent1, act_trainer, steps=4000, **kvparams)"
   ]
  },
  {
   "cell_type": "code",
   "execution_count": 21,
   "metadata": {
    "collapsed": true
   },
   "outputs": [],
   "source": [
    "y_train_setting = norm_y(np.array(agent1.reward_history))\n",
    "\n",
    "mn = y_train_setting.min()\n",
    "mx = y_train_setting.max()\n",
    "act_trainer[\"low\"] = mn + (mx - mn) * 0.30\n",
    "act_trainer[\"high\"] = mn + (mx - mn) * 0.70\n",
    "\n",
    "act_trainer[\"random_default\"] = 0.05\n",
    "act_trainer[\"random_bad\"] = 0.80\n",
    "act_trainer[\"random_good\"] = 0.05\n",
    "act_trainer[\"random_diff\"] = 0.05"
   ]
  },
  {
   "cell_type": "code",
   "execution_count": null,
   "metadata": {
    "collapsed": true
   },
   "outputs": [],
   "source": [
    "for _ in tqdm_notebook(range(2), desc=\"main\"):\n",
    "    mine_data(agent1, act_trainer, steps=4000, **kvparams)"
   ]
  },
  {
   "cell_type": "code",
   "execution_count": null,
   "metadata": {
    "collapsed": true
   },
   "outputs": [],
   "source": [
    "# Хочу смотреть статистику по ситуациям good, bad, train"
   ]
  },
  {
   "cell_type": "code",
   "execution_count": null,
   "metadata": {
    "collapsed": true
   },
   "outputs": [],
   "source": []
  },
  {
   "cell_type": "markdown",
   "metadata": {},
   "source": [
    "# Смотрим вживую"
   ]
  },
  {
   "cell_type": "code",
   "execution_count": null,
   "metadata": {
    "collapsed": true
   },
   "outputs": [],
   "source": [
    "def visualize(agent, map_seed):\n",
    "    agent.evaluate_mode=True\n",
    "    print(\"visualize on map = {}\".format(map_seed))\n",
    "    agent.clear_history()\n",
    "    w = create_map(seed=map_seed, agent=agent)\n",
    "    w.run(steps=None, visual=True, save=False)"
   ]
  },
  {
   "cell_type": "code",
   "execution_count": null,
   "metadata": {
    "collapsed": true
   },
   "outputs": [],
   "source": [
    "visualize(agent1, map_seed)"
   ]
  },
  {
   "cell_type": "markdown",
   "metadata": {},
   "source": [
    "# Отладка"
   ]
  },
  {
   "cell_type": "code",
   "execution_count": null,
   "metadata": {
    "collapsed": true
   },
   "outputs": [],
   "source": [
    "raise Exception(\"Здесь отладка\")"
   ]
  },
  {
   "cell_type": "raw",
   "metadata": {},
   "source": []
  },
  {
   "cell_type": "code",
   "execution_count": null,
   "metadata": {
    "collapsed": true
   },
   "outputs": [],
   "source": [
    "agent_dbg = agent1"
   ]
  },
  {
   "cell_type": "code",
   "execution_count": null,
   "metadata": {
    "collapsed": true
   },
   "outputs": [],
   "source": [
    "agent_dbg.clear_history()\n",
    "#mine data\n",
    "w = create_map(seed=map_seed, agent=agent_dbg)\n",
    "w.run(steps=tqdm_notebook(range(10000), desc=\"train\", leave=False), visual=False, save=False)"
   ]
  },
  {
   "cell_type": "code",
   "execution_count": null,
   "metadata": {
    "collapsed": true
   },
   "outputs": [],
   "source": [
    "# prepare train data\n",
    "X_train = np.concatenate([agent_dbg.sensor_data_history, agent_dbg.chosen_actions_history], axis=1)\n",
    "y_train = np.array(agent_dbg.reward_history)\n",
    "mean_train_revard = y_train.mean()\n",
    "y_train = norm_y(y_train)\n",
    "y_clean = y_train.copy()\n",
    "\n",
    "mean_train_revard"
   ]
  },
  {
   "cell_type": "code",
   "execution_count": null,
   "metadata": {
    "collapsed": true
   },
   "outputs": [],
   "source": [
    "reward_shift = 6\n",
    "alpha = 0.8"
   ]
  },
  {
   "cell_type": "code",
   "execution_count": null,
   "metadata": {
    "collapsed": true
   },
   "outputs": [],
   "source": [
    "y_train = np.pad(y_train, (0, 2 * reward_shift), mode=\"constant\")\n",
    "y_train = reduce(lambda a, b: a + b, [y_train[i:(-2 * reward_shift + i)] * (alpha ** (i - 1))\n",
    "                                      for i in range(1, reward_shift+1)])"
   ]
  },
  {
   "cell_type": "code",
   "execution_count": null,
   "metadata": {
    "collapsed": true
   },
   "outputs": [],
   "source": [
    "y_predict = agent_dbg.neural_net.feedforward(X_train.T)"
   ]
  },
  {
   "cell_type": "code",
   "execution_count": null,
   "metadata": {
    "collapsed": true
   },
   "outputs": [],
   "source": [
    "pd_visual = pd.DataFrame(X_train,\n",
    "                         columns=[\"velocity\", \"angle\"] +\n",
    "                         [\"lid{}\".format(i) for i in range(agent_dbg.rays)] +\n",
    "                         [\"steering\", \"acceleration\"])\n",
    "pd_visual[\"y_clean\"] = y_clean\n",
    "pd_visual[\"y_train\"] = y_train\n",
    "pd_visual[\"y_predict\"] = y_predict.flatten()"
   ]
  },
  {
   "cell_type": "code",
   "execution_count": null,
   "metadata": {
    "collapsed": true
   },
   "outputs": [],
   "source": [
    "(pd_visual.y_clean[200:] < 0).argmax()"
   ]
  },
  {
   "cell_type": "code",
   "execution_count": null,
   "metadata": {
    "collapsed": true
   },
   "outputs": [],
   "source": [
    "pd_visual.loc[215:235]"
   ]
  },
  {
   "cell_type": "code",
   "execution_count": null,
   "metadata": {
    "collapsed": true
   },
   "outputs": [],
   "source": [
    "from cars.utils import Action"
   ]
  },
  {
   "cell_type": "code",
   "execution_count": null,
   "metadata": {
    "collapsed": true
   },
   "outputs": [],
   "source": [
    "sensor_info = pd_visual.loc[225].values[:7]\n",
    "rewards_to_controls_map = []\n",
    "# дискретизируем множество значений, так как все возможные мы точно предсказать не сможем\n",
    "for steering in np.linspace(-1, 1, 3):  # выбирать можно и другую частоту дискретизации, но\n",
    "    for acceleration in np.linspace(-0.75, 0.75, 3):  # в наших тестах будет именно такая\n",
    "        action = Action(steering, acceleration)\n",
    "        agent_vector_representation = np.append(sensor_info, action)\n",
    "        agent_vector_representation = agent_vector_representation.flatten()[:, np.newaxis]\n",
    "        predicted_reward = float(agent_dbg.neural_net.feedforward(agent_vector_representation))\n",
    "        rewards_to_controls_map.append((predicted_reward, action))\n",
    "\n",
    "rewards_to_controls_map"
   ]
  },
  {
   "cell_type": "code",
   "execution_count": null,
   "metadata": {
    "collapsed": true
   },
   "outputs": [],
   "source": [
    "sensor_info = pd_visual.loc[217].values[:7]\n",
    "rewards_to_controls_map = []\n",
    "# дискретизируем множество значений, так как все возможные мы точно предсказать не сможем\n",
    "for steering in np.linspace(-1, 1, 3):  # выбирать можно и другую частоту дискретизации, но\n",
    "    for acceleration in np.linspace(-0.75, 0.75, 3):  # в наших тестах будет именно такая\n",
    "        action = Action(steering, acceleration)\n",
    "        agent_vector_representation = np.append(sensor_info, action)\n",
    "        agent_vector_representation = agent_vector_representation.flatten()[:, np.newaxis]\n",
    "        predicted_reward = float(agent_dbg.neural_net.feedforward(agent_vector_representation))\n",
    "        rewards_to_controls_map.append((predicted_reward, action))\n",
    "\n",
    "rewards_to_controls_map"
   ]
  },
  {
   "cell_type": "code",
   "execution_count": null,
   "metadata": {
    "collapsed": true
   },
   "outputs": [],
   "source": [
    "plt.ion()"
   ]
  },
  {
   "cell_type": "code",
   "execution_count": null,
   "metadata": {
    "collapsed": true,
    "scrolled": false
   },
   "outputs": [],
   "source": [
    "pd_visual[:2000].plot(y=[\"y_clean\", \"y_train\", \"y_predict\"], figsize=(64, 4))"
   ]
  },
  {
   "cell_type": "code",
   "execution_count": null,
   "metadata": {
    "collapsed": true
   },
   "outputs": [],
   "source": [
    "rmse_before = ((pd_visual.y_train - pd_visual.y_predict)**2).mean() ** 0.5\n",
    "rmse_before"
   ]
  },
  {
   "cell_type": "code",
   "execution_count": null,
   "metadata": {
    "collapsed": true
   },
   "outputs": [],
   "source": [
    "train_data = [(x[:, np.newaxis], y) for x, y in zip(X_train, y_train)]"
   ]
  },
  {
   "cell_type": "code",
   "execution_count": null,
   "metadata": {
    "collapsed": true
   },
   "outputs": [],
   "source": [
    "from learning_algorithms.network import Network\n",
    "agent_dbg.neural_net = Network([9, 12, 1], output_function=lambda x: x, output_derivative=lambda x: 1)"
   ]
  },
  {
   "cell_type": "code",
   "execution_count": null,
   "metadata": {
    "collapsed": true
   },
   "outputs": [],
   "source": [
    "epoch_num = 1\n",
    "dyp_x = []\n",
    "dyp_y = []"
   ]
  },
  {
   "cell_type": "code",
   "execution_count": null,
   "metadata": {
    "collapsed": true,
    "scrolled": false
   },
   "outputs": [],
   "source": [
    "plt.ion()\n",
    "dyp = DynamicUpdate()\n",
    "dyp.on_launch()\n",
    "\n",
    "try:\n",
    "    for res in agent_dbg.neural_net.SGD(\n",
    "            training_data=train_data,\n",
    "            epochs=100,\n",
    "            mini_batch_size=50,\n",
    "            eta=0.5,\n",
    "            test_data=(X_train.T, y_train)):\n",
    "        dyp_x.append(epoch_num)\n",
    "        epoch_num += 1\n",
    "        dyp_y.append(res)\n",
    "        if epoch_num % 10 == 0:\n",
    "            dyp.on_running(dyp_x, dyp_y)\n",
    "except KeyboardInterrupt:\n",
    "    print(\"min rmse: {}\".format(min(dyp_y)))"
   ]
  },
  {
   "cell_type": "code",
   "execution_count": null,
   "metadata": {
    "collapsed": true
   },
   "outputs": [],
   "source": []
  },
  {
   "cell_type": "code",
   "execution_count": null,
   "metadata": {
    "collapsed": true
   },
   "outputs": [],
   "source": [
    "\n",
    "              epochs, mini_batch_size, eta, reward_shift, alpha):\n",
    "\n",
    "    \n",
    "\n",
    "\n",
    "\n",
    "\n",
    "    # evaluate\n",
    "    w = create_map(seed=map_seed, agent=agent)\n",
    "    mean_test_reward = w.evaluate_agent(agent, steps=tqdm_notebook(range(800), desc=\"test\", leave=False), visual=False)\n",
    "    log_message = f\"\"\"map_seed = {map_seed}\n",
    "agent_random_action = {agent_random_action:.2f}\n",
    "train_rmse = {train_rmse:.9f}\n",
    "mean_train_revard = {mean_train_revard:.3f}\n",
    "mean_test_reward  = {mean_test_reward:.3f}\"\"\"\n",
    "\n",
    "    chart_count = agent.neural_net.num_layers\n",
    "    plt.figure(figsize=(5 * chart_count, 2))\n",
    "    for l in range(chart_count - 1):\n",
    "        plt.subplot(1, chart_count, l+1)\n",
    "        ax = sns.heatmap(agent.neural_net.weights[l])\n",
    "        \n",
    "    plt.subplot(1, chart_count, chart_count)    \n",
    "    plt.text(0.05, 0.95, log_message, size=12, ha='left', va='top', family='monospace')\n",
    "    \n",
    "    plt.show()"
   ]
  }
 ],
 "metadata": {
  "kernelspec": {
   "display_name": "Python 3",
   "language": "python",
   "name": "python3"
  },
  "language_info": {
   "codemirror_mode": {
    "name": "ipython",
    "version": 3
   },
   "file_extension": ".py",
   "mimetype": "text/x-python",
   "name": "python",
   "nbconvert_exporter": "python",
   "pygments_lexer": "ipython3",
   "version": "3.6.0"
  },
  "widgets": {
   "state": {
    "306ed2483d6d4b48974f321e7455865f": {
     "views": [
      {
       "cell_index": 15
      }
     ]
    },
    "618169102d154dc3b86c6c8d15b26a23": {
     "views": [
      {
       "cell_index": 15
      }
     ]
    },
    "b313e1597e234516be364ff8043061c7": {
     "views": [
      {
       "cell_index": 17
      }
     ]
    }
   },
   "version": "1.2.0"
  }
 },
 "nbformat": 4,
 "nbformat_minor": 2
}
