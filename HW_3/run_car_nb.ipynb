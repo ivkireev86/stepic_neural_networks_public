{
 "cells": [
  {
   "cell_type": "markdown",
   "metadata": {},
   "source": [
    "# run_car"
   ]
  },
  {
   "cell_type": "code",
   "execution_count": 2,
   "metadata": {
    "collapsed": true
   },
   "outputs": [],
   "source": [
    "import datetime\n",
    "import numpy as np\n",
    "import random"
   ]
  },
  {
   "cell_type": "code",
   "execution_count": 3,
   "metadata": {
    "collapsed": true
   },
   "outputs": [],
   "source": [
    "from cars.world import SimpleCarWorld\n",
    "from cars.agent import SimpleCarAgent\n",
    "from cars.physics import SimplePhysics\n",
    "from cars.track import generate_map"
   ]
  },
  {
   "cell_type": "code",
   "execution_count": 4,
   "metadata": {
    "collapsed": false
   },
   "outputs": [],
   "source": [
    "%matplotlib inline\n",
    "\n",
    "import matplotlib\n",
    "import matplotlib.pyplot as plt\n",
    "import seaborn as sns"
   ]
  },
  {
   "cell_type": "code",
   "execution_count": 5,
   "metadata": {
    "collapsed": true
   },
   "outputs": [],
   "source": [
    "from tqdm import tqdm_notebook"
   ]
  },
  {
   "cell_type": "code",
   "execution_count": 6,
   "metadata": {
    "collapsed": true
   },
   "outputs": [],
   "source": [
    "from functools import reduce"
   ]
  },
  {
   "cell_type": "markdown",
   "metadata": {},
   "source": [
    "# базовый пример кода\n",
    "```\n",
    "if filename:\n",
    "    agent = SimpleCarAgent.from_file(filename)\n",
    "    w = SimpleCarWorld(1, m, SimplePhysics, SimpleCarAgent, timedelta=0.2)\n",
    "    if evaluate:\n",
    "        print(w.evaluate_agent(agent, steps))\n",
    "    else:\n",
    "        w.set_agents([agent])\n",
    "        w.run(steps)\n",
    "else:\n",
    "    w = SimpleCarWorld(1, m, SimplePhysics, SimpleCarAgent, timedelta=0.2)\n",
    "    w.run(steps)\n",
    "```"
   ]
  },
  {
   "cell_type": "code",
   "execution_count": 7,
   "metadata": {
    "collapsed": true
   },
   "outputs": [],
   "source": [
    "def create_map(seed, agent):\n",
    "    np.random.seed(seed)\n",
    "    random.seed(seed)\n",
    "    m = generate_map(8, 5, 3, 3)\n",
    "    w = SimpleCarWorld([agent], m, SimplePhysics, None, timedelta=0.2)\n",
    "    return w"
   ]
  },
  {
   "cell_type": "markdown",
   "metadata": {},
   "source": [
    "# Агент"
   ]
  },
  {
   "cell_type": "markdown",
   "metadata": {},
   "source": [
    "Пример `agent = SimpleCarAgent.from_file('network_config_agent_0_layers_9_6_1.txt')`"
   ]
  },
  {
   "cell_type": "markdown",
   "metadata": {},
   "source": [
    "# Параметры"
   ]
  },
  {
   "cell_type": "code",
   "execution_count": 8,
   "metadata": {
    "collapsed": true
   },
   "outputs": [],
   "source": [
    "map_seeds = [3, 13, 23]"
   ]
  },
  {
   "cell_type": "code",
   "execution_count": 9,
   "metadata": {
    "collapsed": true
   },
   "outputs": [],
   "source": [
    "# За сколько шагов модель начинает учитывать вознаграждение\n",
    "map_seed = map_seeds[0]"
   ]
  },
  {
   "cell_type": "markdown",
   "metadata": {},
   "source": [
    "# Нарабатываем данные, учимся и оцениваемся"
   ]
  },
  {
   "cell_type": "code",
   "execution_count": 10,
   "metadata": {
    "collapsed": true
   },
   "outputs": [],
   "source": [
    "def mine_data(agent, agent_random_action,\n",
    "              clear_history, map_seed, steps,\n",
    "              epochs, mini_batch_size, eta, reward_shift, clip):\n",
    "    agent.RANDOM_ACTION_P = agent_random_action\n",
    "    if clear_history:\n",
    "        agent.clear_history()\n",
    "    \n",
    "    #mine data\n",
    "    w = create_map(seed=map_seed, agent=agent)\n",
    "    w.run(steps=tqdm_notebook(range(steps), desc=\"train\", leave=False), visual=False, save=False)\n",
    "\n",
    "    # prepare train data\n",
    "    X_train = np.concatenate([agent.sensor_data_history, agent.chosen_actions_history], axis=1)\n",
    "    y_train = np.array(agent.reward_history)\n",
    "    mean_train_revard = y_train.mean()\n",
    "\n",
    "    y_train = np.pad(y_train, (0, 2 * reward_shift), mode=\"constant\")\n",
    "    norm_reward_size = reward_shift * (reward_shift - 1) / 2\n",
    "    y_train = reduce(lambda a, b: a + b, [y_train[i:(-2 * reward_shift + i)] * i / norm_reward_size\n",
    "                                          for i in range(1, reward_shift+1)])\n",
    "\n",
    "    #train NN\n",
    "    train_data = [(x[:, np.newaxis], y) for x, y in zip(X_train, y_train)]\n",
    "    agent.neural_net.SGD(training_data=train_data,\n",
    "                         epochs=epochs,\n",
    "                         mini_batch_size=mini_batch_size,\n",
    "                         eta=eta)\n",
    "    if clip:\n",
    "        for i, w in enumerate(agent.neural_net.weights):\n",
    "            agent.neural_net.weights[i] = np.clip(w, -clip, clip)\n",
    "        for i, b in enumerate(agent.neural_net.biases):\n",
    "            agent.neural_net.biases[i] = np.clip(b, -clip, clip)   \n",
    "\n",
    "    # evaluate\n",
    "    w = create_map(seed=map_seed, agent=agent)\n",
    "    mean_test_reward = w.evaluate_agent(agent, steps=tqdm_notebook(range(800), desc=\"test\", leave=False), visual=False)\n",
    "    log_message = f\"{map_seed}, {agent_random_action:.2f}, {mean_train_revard:.10f}, {mean_test_reward:.10f}\"\n",
    "    print(log_message)\n",
    "    plt.figure(figsize=(6 * (agent.neural_net.num_layers - 1), 2))\n",
    "    for l in range(agent.neural_net.num_layers - 1):\n",
    "        plt.subplot(1, agent.neural_net.num_layers - 1, l+1)\n",
    "        ax = sns.heatmap(agent.neural_net.weights[l])\n",
    "    plt.show()"
   ]
  },
  {
   "cell_type": "code",
   "execution_count": 12,
   "metadata": {
    "collapsed": false,
    "scrolled": false
   },
   "outputs": [
    {
     "name": "stdout",
     "output_type": "stream",
     "text": [
      "\n",
      "3, 1.00, -0.4629636019, -3.3428897772\n"
     ]
    },
    {
     "data": {
      "image/png": "[encoded data removed]",
      "text/plain": [
       "<matplotlib.figure.Figure at 0x1e45a913898>"
      ]
     },
     "metadata": {},
     "output_type": "display_data"
    },
    {
     "name": "stdout",
     "output_type": "stream",
     "text": [
      "3, 0.81, -0.4802768683, -0.4847084152\n"
     ]
    },
    {
     "data": {
      "image/png": "[encoded data removed]",
      "text/plain": [
       "<matplotlib.figure.Figure at 0x1e45a913cc0>"
      ]
     },
     "metadata": {},
     "output_type": "display_data"
    },
    {
     "name": "stdout",
     "output_type": "stream",
     "text": [
      "3, 0.62, -0.4291415988, -0.2057281469\n"
     ]
    },
    {
     "data": {
      "image/png": "[encoded data removed]",
      "text/plain": [
       "<matplotlib.figure.Figure at 0x1e45afdf400>"
      ]
     },
     "metadata": {},
     "output_type": "display_data"
    },
    {
     "name": "stdout",
     "output_type": "stream",
     "text": [
      "3, 0.43, -0.2738384064, -3.4776310864\n"
     ]
    },
    {
     "data": {
      "image/png": "[encoded data removed]",
      "text/plain": [
       "<matplotlib.figure.Figure at 0x1e45abe77f0>"
      ]
     },
     "metadata": {},
     "output_type": "display_data"
    },
    {
     "name": "stdout",
     "output_type": "stream",
     "text": [
      "3, 0.24, -0.3630192092, -0.3859258008\n"
     ]
    },
    {
     "data": {
      "image/png": "[encoded data removed]",
      "text/plain": [
       "<matplotlib.figure.Figure at 0x1e45c071358>"
      ]
     },
     "metadata": {},
     "output_type": "display_data"
    },
    {
     "name": "stdout",
     "output_type": "stream",
     "text": [
      "3, 0.05, -0.4490937542, -0.4134117344\n"
     ]
    },
    {
     "data": {
      "image/png": "[encoded data removed]",
      "text/plain": [
       "<matplotlib.figure.Figure at 0x1e45ab4dc18>"
      ]
     },
     "metadata": {},
     "output_type": "display_data"
    },
    {
     "name": "stdout",
     "output_type": "stream",
     "text": [
      "\n"
     ]
    }
   ],
   "source": [
    "kvparams = {\n",
    "    \"clear_history\": True,\n",
    "    \"map_seed\": map_seed,\n",
    "    \"steps\": 1000,\n",
    "    \"epochs\": 40,\n",
    "    \"mini_batch_size\": 50,\n",
    "    \"eta\": 0.05,\n",
    "    \"reward_shift\": 4,\n",
    "    \"clip\": False\n",
    "}\n",
    "\n",
    "random.seed(42)\n",
    "np.random.seed(42)\n",
    "agent1 = SimpleCarAgent(name=\"Ivan\")\n",
    "\n",
    "for agent_random_action in tqdm_notebook(np.arange(1, 0, -.19), desc=\"main_1\"):\n",
    "    mine_data(agent1, agent_random_action, **kvparams)"
   ]
  },
  {
   "cell_type": "code",
   "execution_count": 14,
   "metadata": {
    "collapsed": false
   },
   "outputs": [
    {
     "name": "stdout",
     "output_type": "stream",
     "text": [
      "3, 0.10, -0.2535421566, -0.3529261361\n"
     ]
    },
    {
     "data": {
      "image/png": "[encoded data removed]",
      "text/plain": [
       "<matplotlib.figure.Figure at 0x1e45abbe2b0>"
      ]
     },
     "metadata": {},
     "output_type": "display_data"
    },
    {
     "name": "stdout",
     "output_type": "stream",
     "text": [
      "3, 0.10, -0.4027828875, -0.4110780367\n"
     ]
    },
    {
     "data": {
      "image/png": "[encoded data removed]",
      "text/plain": [
       "<matplotlib.figure.Figure at 0x1e45c6dc7b8>"
      ]
     },
     "metadata": {},
     "output_type": "display_data"
    },
    {
     "name": "stdout",
     "output_type": "stream",
     "text": [
      "3, 0.10, -0.4508268570, -0.4186569213\n"
     ]
    },
    {
     "data": {
      "image/png": "[encoded data removed]",
      "text/plain": [
       "<matplotlib.figure.Figure at 0x1e45c207748>"
      ]
     },
     "metadata": {},
     "output_type": "display_data"
    },
    {
     "name": "stdout",
     "output_type": "stream",
     "text": [
      "3, 0.10, -0.4367134983, -0.6163917042\n"
     ]
    },
    {
     "data": {
      "image/png": "[encoded data removed]",
      "text/plain": [
       "<matplotlib.figure.Figure at 0x1e45c19d1d0>"
      ]
     },
     "metadata": {},
     "output_type": "display_data"
    },
    {
     "name": "stdout",
     "output_type": "stream",
     "text": [
      "3, 0.10, -0.1310252292, -0.3087123782\n"
     ]
    },
    {
     "data": {
      "image/png": "[encoded data removed]",
      "text/plain": [
       "<matplotlib.figure.Figure at 0x1e45abae550>"
      ]
     },
     "metadata": {},
     "output_type": "display_data"
    },
    {
     "name": "stdout",
     "output_type": "stream",
     "text": [
      "\n"
     ]
    }
   ],
   "source": [
    "for _ in tqdm_notebook(range(10), desc=\"main_2\"):\n",
    "    mine_data(agent1, agent_random_action=0.1, **kvparams)"
   ]
  },
  {
   "cell_type": "markdown",
   "metadata": {
    "collapsed": true
   },
   "source": [
    "На первом слое: скорость, направление, лидары, руль, ускорение "
   ]
  },
  {
   "cell_type": "markdown",
   "metadata": {},
   "source": [
    "# Смотрим вживую"
   ]
  },
  {
   "cell_type": "code",
   "execution_count": 15,
   "metadata": {
    "collapsed": false
   },
   "outputs": [],
   "source": [
    "def visualize(agent, map_seed):\n",
    "    agent.evaluate_mode=True\n",
    "    print(\"visualize on map = {}\".format(map_seed))\n",
    "    agent.clear_history()\n",
    "    w = create_map(seed=map_seed, agent=agent)\n",
    "    w.run(steps=None, visual=True, save=False)"
   ]
  },
  {
   "cell_type": "code",
   "execution_count": 16,
   "metadata": {
    "collapsed": false
   },
   "outputs": [
    {
     "name": "stdout",
     "output_type": "stream",
     "text": [
      "visualize on map = 3\n"
     ]
    }
   ],
   "source": [
    "visualize(agent1, map_seed)"
   ]
  },
  {
   "cell_type": "markdown",
   "metadata": {},
   "source": [
    "# Отладка"
   ]
  },
  {
   "cell_type": "code",
   "execution_count": null,
   "metadata": {
    "collapsed": true
   },
   "outputs": [],
   "source": [
    "raise Exception(\"Здесь отладка\")"
   ]
  },
  {
   "cell_type": "raw",
   "metadata": {},
   "source": []
  },
  {
   "cell_type": "code",
   "execution_count": null,
   "metadata": {
    "collapsed": true
   },
   "outputs": [],
   "source": [
    "agent_dbg = agent2"
   ]
  },
  {
   "cell_type": "code",
   "execution_count": null,
   "metadata": {
    "collapsed": false
   },
   "outputs": [],
   "source": [
    "# prepare train data\n",
    "X_train = np.concatenate([agent_dbg.sensor_data_history, agent_dbg.chosen_actions_history], axis=1)\n",
    "y_train = np.array(agent_dbg.reward_history)\n",
    "mean_train_revard = y_train.mean()\n",
    "mean_train_revard"
   ]
  },
  {
   "cell_type": "code",
   "execution_count": null,
   "metadata": {
    "collapsed": false
   },
   "outputs": [],
   "source": [
    "len(y_train)"
   ]
  },
  {
   "cell_type": "code",
   "execution_count": null,
   "metadata": {
    "collapsed": false
   },
   "outputs": [],
   "source": [
    "- X_train.dot(np.diag([2.0, 1.0, 0.4] + [0.2] * (agent2.rays - 2) + [0.4, 1.0, 1.0])).mean(axis=0)"
   ]
  },
  {
   "cell_type": "code",
   "execution_count": null,
   "metadata": {
    "collapsed": true
   },
   "outputs": [],
   "source": []
  },
  {
   "cell_type": "code",
   "execution_count": null,
   "metadata": {
    "collapsed": false
   },
   "outputs": [],
   "source": [
    "agent2.neural_net.weights[0] = norm_weights\n",
    "agent2.neural_net.biases[0] = norm_biases"
   ]
  },
  {
   "cell_type": "code",
   "execution_count": null,
   "metadata": {
    "collapsed": true
   },
   "outputs": [],
   "source": []
  },
  {
   "cell_type": "code",
   "execution_count": null,
   "metadata": {
    "collapsed": true
   },
   "outputs": [],
   "source": [
    "\n",
    "\n",
    "    y_train = np.pad(y_train, (0, 2 * REWARD_SHIFT), mode=\"constant\")\n",
    "    norm_reward_size = REWARD_SHIFT * (REWARD_SHIFT - 1) / 2\n",
    "    y_train = reduce(lambda a, b: a + b, [y_train[i:(-2 * REWARD_SHIFT + i)] * i / norm_reward_size for i in range(1, REWARD_SHIFT+1)])\n",
    "\n",
    "    #train NN\n",
    "    train_data = [(x[:, np.newaxis], y) for x, y in zip(X_train, y_train)]\n",
    "    agent.neural_net.SGD(training_data=train_data,\n",
    "                         epochs=40,\n",
    "                         mini_batch_size=MINI_BATCH_SIZE,\n",
    "                         eta=0.05)\n",
    "\n",
    "    # evaluate\n",
    "    w = create_map(seed=map_seed, agent=agent)\n",
    "    mean_test_reward = w.evaluate_agent(agent, steps=tqdm_notebook(range(800), desc=\"test\", leave=False), visual=False)\n",
    "    log_message = f\"{map_seed}, {agent_random_action:.2f}, {mean_train_revard:.10f}, {mean_test_reward:.10f}\"\n",
    "    print(log_message)\n",
    "    plt.figure(figsize=(12,2))\n",
    "    plt.subplot(1, 2, 1)\n",
    "    ax = sns.heatmap(agent.neural_net.weights[0])\n",
    "    plt.subplot(1, 2, 2)\n",
    "    ax = sns.heatmap(agent.neural_net.weights[1])\n",
    "    plt.show()"
   ]
  }
 ],
 "metadata": {
  "kernelspec": {
   "display_name": "Python 3",
   "language": "python",
   "name": "python3"
  },
  "language_info": {
   "codemirror_mode": {
    "name": "ipython",
    "version": 3
   },
   "file_extension": ".py",
   "mimetype": "text/x-python",
   "name": "python",
   "nbconvert_exporter": "python",
   "pygments_lexer": "ipython3",
   "version": "3.6.0"
  },
  "widgets": {
   "state": {
    "41635851bd0d433a83ed726627412819": {
     "views": [
      {
       "cell_index": 17
      }
     ]
    },
    "7dc7ff34a56c4ccbac993e40e7ace213": {
     "views": [
      {
       "cell_index": null
      }
     ]
    },
    "83493c6693294524a1d4e46dec42fde3": {
     "views": [
      {
       "cell_index": 16
      }
     ]
    },
    "98029b919c5546c483960d08a8b313ab": {
     "views": [
      {
       "cell_index": 15
      }
     ]
    },
    "9ffb1e51ec3e410baad1f9abd55ea840": {
     "views": [
      {
       "cell_index": 15
      }
     ]
    },
    "a0e6897b79654874877c157ae51d8342": {
     "views": [
      {
       "cell_index": 20
      }
     ]
    },
    "c2cfb8cd1a754528b89d85dc99397311": {
     "views": [
      {
       "cell_index": 15
      }
     ]
    },
    "c4be96c6e50646d2848f543aa494fd69": {
     "views": [
      {
       "cell_index": 15
      }
     ]
    },
    "c8deaa17cbd341fca11a4846eee95900": {
     "views": [
      {
       "cell_index": 15
      }
     ]
    },
    "ec4336dce8ac4642b2cf204ad56995aa": {
     "views": [
      {
       "cell_index": 15
      }
     ]
    }
   },
   "version": "1.2.0"
  }
 },
 "nbformat": 4,
 "nbformat_minor": 2
}
