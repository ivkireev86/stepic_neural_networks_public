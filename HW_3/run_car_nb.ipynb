{
 "cells": [
  {
   "cell_type": "markdown",
   "metadata": {},
   "source": [
    "# run_car"
   ]
  },
  {
   "cell_type": "code",
   "execution_count": 1,
   "metadata": {
    "collapsed": true
   },
   "outputs": [],
   "source": [
    "%matplotlib notebook\n",
    "import matplotlib.pyplot as plt\n",
    "dyn_plot = True\n",
    "class DynamicUpdate():\n",
    "    def on_launch(self):\n",
    "        #Set up plot\n",
    "        self.figure, self.ax = plt.subplots()\n",
    "        self.lines, = self.ax.plot([],[])\n",
    "        #Autoscale on unknown axis and known lims on the other\n",
    "        self.ax.set_autoscaley_on(True)\n",
    "        self.ax.set_autoscalex_on(True)\n",
    "        #Other stuff\n",
    "        self.ax.grid()\n",
    "\n",
    "    def on_running(self, xdata, ydata):\n",
    "        #Update data (with the new _and_ the old points)\n",
    "        self.lines.set_xdata(xdata)\n",
    "        self.lines.set_ydata(ydata)\n",
    "        #Need both of these in order to rescale\n",
    "        self.ax.relim()\n",
    "        self.ax.autoscale_view()\n",
    "        #We need to draw *and* flush\n",
    "        self.figure.canvas.draw()\n",
    "        self.figure.canvas.flush_events()"
   ]
  },
  {
   "cell_type": "code",
   "execution_count": 2,
   "metadata": {
    "collapsed": true
   },
   "outputs": [],
   "source": [
    "import datetime\n",
    "import numpy as np\n",
    "import random"
   ]
  },
  {
   "cell_type": "code",
   "execution_count": 3,
   "metadata": {
    "collapsed": true
   },
   "outputs": [],
   "source": [
    "from cars.world import SimpleCarWorld\n",
    "from cars.agent import SimpleCarAgent\n",
    "from cars.physics import SimplePhysics\n",
    "from cars.track import generate_map"
   ]
  },
  {
   "cell_type": "code",
   "execution_count": 4,
   "metadata": {
    "collapsed": true
   },
   "outputs": [],
   "source": [
    "from tqdm import tqdm_notebook"
   ]
  },
  {
   "cell_type": "code",
   "execution_count": 5,
   "metadata": {
    "collapsed": true
   },
   "outputs": [],
   "source": [
    "from functools import reduce"
   ]
  },
  {
   "cell_type": "code",
   "execution_count": 6,
   "metadata": {
    "collapsed": true
   },
   "outputs": [],
   "source": [
    "import pandas as pd"
   ]
  },
  {
   "cell_type": "code",
   "execution_count": 7,
   "metadata": {
    "collapsed": true
   },
   "outputs": [],
   "source": [
    "import seaborn as sns"
   ]
  },
  {
   "cell_type": "code",
   "execution_count": 8,
   "metadata": {},
   "outputs": [],
   "source": [
    "from run_car import create_map"
   ]
  },
  {
   "cell_type": "markdown",
   "metadata": {},
   "source": [
    "# Параметры"
   ]
  },
  {
   "cell_type": "code",
   "execution_count": 9,
   "metadata": {
    "collapsed": true
   },
   "outputs": [],
   "source": [
    "map_seeds = [3, 13, 18, 23]\n",
    "map_seed = map_seeds[0]"
   ]
  },
  {
   "cell_type": "markdown",
   "metadata": {},
   "source": [
    "# Нарабатываем данные, учимся и оцениваемся"
   ]
  },
  {
   "cell_type": "code",
   "execution_count": 10,
   "metadata": {
    "collapsed": true
   },
   "outputs": [],
   "source": [
    "log_list = []"
   ]
  },
  {
   "cell_type": "code",
   "execution_count": 11,
   "metadata": {},
   "outputs": [],
   "source": [
    "from run_car import mine_data, norm_y"
   ]
  },
  {
   "cell_type": "code",
   "execution_count": 12,
   "metadata": {},
   "outputs": [],
   "source": [
    "from learning_algorithms.forest import RandomForestWrapper\n",
    "from learning_algorithms.network import Network"
   ]
  },
  {
   "cell_type": "code",
   "execution_count": 13,
   "metadata": {},
   "outputs": [],
   "source": [
    "kvparams = {\n",
    "    \"clear_history\": False,\n",
    "    \"map_seed\": map_seed,\n",
    "    \"epochs\": 100,\n",
    "    \"mini_batch_size\": 50,\n",
    "    \"eta\": 0.5,\n",
    "    \"reward_shift\": 3,\n",
    "    \"alpha\": 0.7\n",
    "}\n",
    "\n",
    "act_trainer = {\n",
    "    \"low\": 0.0,\n",
    "    \"high\": 0.0,\n",
    "    \"random_default\": 0.8,\n",
    "    \"random_bad\": 0.8,\n",
    "    \"random_good\": 0.8,\n",
    "    \"random_diff\": 0.8\n",
    "}\n",
    "\n",
    "random.seed(42)\n",
    "np.random.seed(42)\n",
    "agent1 = SimpleCarAgent(name=\"Ivan\", history_data=70000)\n",
    "agent1.neural_net = Network([9, 18, 8, 1], output_function=lambda x: x, output_derivative=lambda x: 1)\n",
    "# agent1.neural_net = RandomForestWrapper(n_estimators=50)"
   ]
  },
  {
   "cell_type": "code",
   "execution_count": 14,
   "metadata": {
    "scrolled": false
   },
   "outputs": [
    {
     "name": "stdout",
     "output_type": "stream",
     "text": [
      "\n",
      "----\n",
      "\n"
     ]
    },
    {
     "data": {
      "application/vnd.jupyter.widget-view+json": {
       "model_id": "e8c317d177a44abeb5b4e424bed7b6a5",
       "version_major": 2,
       "version_minor": 0
      },
      "text/plain": [
       "A Jupyter Widget"
      ]
     },
     "metadata": {},
     "output_type": "display_data"
    },
    {
     "data": {
      "application/vnd.jupyter.widget-view+json": {
       "model_id": "b978fa47c8b94e7a847b8e5e79b8f5c8",
       "version_major": 2,
       "version_minor": 0
      },
      "text/plain": [
       "A Jupyter Widget"
      ]
     },
     "metadata": {},
     "output_type": "display_data"
    },
    {
     "data": {
      "application/vnd.jupyter.widget-view+json": {
       "model_id": "b61815b673d24c72a1aaf084bf9281ac",
       "version_major": 2,
       "version_minor": 0
      },
      "text/plain": [
       "A Jupyter Widget"
      ]
     },
     "metadata": {},
     "output_type": "display_data"
    },
    {
     "data": {
      "application/vnd.jupyter.widget-view+json": {
       "model_id": "589ad303734346c797f6b2e645108a9e",
       "version_major": 2,
       "version_minor": 0
      },
      "text/plain": [
       "A Jupyter Widget"
      ]
     },
     "metadata": {},
     "output_type": "display_data"
    },
    {
     "name": "stdout",
     "output_type": "stream",
     "text": [
      "map_seed = 3\n",
      "train_rmse_before = 1.170269557, train_rmse_after = 0.187418321, \n",
      "mean_train_revard = -0.090, mean_test_reward  = -0.089,\n",
      "steps = total: 4000, bad: 0.6052, good: 0.2655, diff: 0.1690, other: -0.0397,\n",
      "collisions = 0.541250, circles = 0.238571\n",
      "\n"
     ]
    }
   ],
   "source": [
    "print(\"\\n\\n\".join(log_list) + \"\\n----\\n\")\n",
    "for _ in tqdm_notebook(range(1), desc=\"main\"):\n",
    "    mine_data(log_list, dyn_plot, agent1, act_trainer, steps=4000, **kvparams)"
   ]
  },
  {
   "cell_type": "code",
   "execution_count": 15,
   "metadata": {},
   "outputs": [
    {
     "name": "stdout",
     "output_type": "stream",
     "text": [
      "[-0.68592934 -0.32630594 -0.28227493 -0.20440815 -0.10305747 -0.0143956\n",
      "  0.01753487  0.04540315  0.06408689  0.07807082  0.09671349]\n",
      "[-0.68592934 -0.60766505 -0.52940077 -0.45113649 -0.3728722  -0.29460792\n",
      " -0.21634364 -0.13807936 -0.05981507  0.01844921  0.09671349]\n"
     ]
    }
   ],
   "source": [
    "# Оценка парамтеров целевой функции\n",
    "agent_rew_hist = norm_y(np.array(agent1.reward_history))\n",
    "print(np.percentile(agent_rew_hist, np.linspace(0, 100, 11)))\n",
    "print(np.linspace(agent_rew_hist.min(), agent_rew_hist.max(), 11))"
   ]
  },
  {
   "cell_type": "code",
   "execution_count": 16,
   "metadata": {},
   "outputs": [
    {
     "data": {
      "application/javascript": [
       "/* Put everything inside the global mpl namespace */\n",
       "window.mpl = {};\n",
       "\n",
       "\n",
       "mpl.get_websocket_type = function() {\n",
       "    if (typeof(WebSocket) !== 'undefined') {\n",
       "        return WebSocket;\n",
       "    } else if (typeof(MozWebSocket) !== 'undefined') {\n",
       "        return MozWebSocket;\n",
       "    } else {\n",
       "        alert('Your browser does not have WebSocket support.' +\n",
       "              'Please try Chrome, Safari or Firefox ≥ 6. ' +\n",
       "              'Firefox 4 and 5 are also supported but you ' +\n",
       "              'have to enable WebSockets in about:config.');\n",
       "    };\n",
       "}\n",
       "\n",
       "mpl.figure = function(figure_id, websocket, ondownload, parent_element) {\n",
       "    this.id = figure_id;\n",
       "\n",
       "    this.ws = websocket;\n",
       "\n",
       "    this.supports_binary = (this.ws.binaryType != undefined);\n",
       "\n",
       "    if (!this.supports_binary) {\n",
       "        var warnings = document.getElementById(\"mpl-warnings\");\n",
       "        if (warnings) {\n",
       "            warnings.style.display = 'block';\n",
       "            warnings.textContent = (\n",
       "                \"This browser does not support binary websocket messages. \" +\n",
       "                    \"Performance may be slow.\");\n",
       "        }\n",
       "    }\n",
       "\n",
       "    this.imageObj = new Image();\n",
       "\n",
       "    this.context = undefined;\n",
       "    this.message = undefined;\n",
       "    this.canvas = undefined;\n",
       "    this.rubberband_canvas = undefined;\n",
       "    this.rubberband_context = undefined;\n",
       "    this.format_dropdown = undefined;\n",
       "\n",
       "    this.image_mode = 'full';\n",
       "\n",
       "    this.root = $('<div/>');\n",
       "    this._root_extra_style(this.root)\n",
       "    this.root.attr('style', 'display: inline-block');\n",
       "\n",
       "    $(parent_element).append(this.root);\n",
       "\n",
       "    this._init_header(this);\n",
       "    this._init_canvas(this);\n",
       "    this._init_toolbar(this);\n",
       "\n",
       "    var fig = this;\n",
       "\n",
       "    this.waiting = false;\n",
       "\n",
       "    this.ws.onopen =  function () {\n",
       "            fig.send_message(\"supports_binary\", {value: fig.supports_binary});\n",
       "            fig.send_message(\"send_image_mode\", {});\n",
       "            if (mpl.ratio != 1) {\n",
       "                fig.send_message(\"set_dpi_ratio\", {'dpi_ratio': mpl.ratio});\n",
       "            }\n",
       "            fig.send_message(\"refresh\", {});\n",
       "        }\n",
       "\n",
       "    this.imageObj.onload = function() {\n",
       "            if (fig.image_mode == 'full') {\n",
       "                // Full images could contain transparency (where diff images\n",
       "                // almost always do), so we need to clear the canvas so that\n",
       "                // there is no ghosting.\n",
       "                fig.context.clearRect(0, 0, fig.canvas.width, fig.canvas.height);\n",
       "            }\n",
       "            fig.context.drawImage(fig.imageObj, 0, 0);\n",
       "        };\n",
       "\n",
       "    this.imageObj.onunload = function() {\n",
       "        fig.ws.close();\n",
       "    }\n",
       "\n",
       "    this.ws.onmessage = this._make_on_message_function(this);\n",
       "\n",
       "    this.ondownload = ondownload;\n",
       "}\n",
       "\n",
       "mpl.figure.prototype._init_header = function() {\n",
       "    var titlebar = $(\n",
       "        '<div class=\"ui-dialog-titlebar ui-widget-header ui-corner-all ' +\n",
       "        'ui-helper-clearfix\"/>');\n",
       "    var titletext = $(\n",
       "        '<div class=\"ui-dialog-title\" style=\"width: 100%; ' +\n",
       "        'text-align: center; padding: 3px;\"/>');\n",
       "    titlebar.append(titletext)\n",
       "    this.root.append(titlebar);\n",
       "    this.header = titletext[0];\n",
       "}\n",
       "\n",
       "\n",
       "\n",
       "mpl.figure.prototype._canvas_extra_style = function(canvas_div) {\n",
       "\n",
       "}\n",
       "\n",
       "\n",
       "mpl.figure.prototype._root_extra_style = function(canvas_div) {\n",
       "\n",
       "}\n",
       "\n",
       "mpl.figure.prototype._init_canvas = function() {\n",
       "    var fig = this;\n",
       "\n",
       "    var canvas_div = $('<div/>');\n",
       "\n",
       "    canvas_div.attr('style', 'position: relative; clear: both; outline: 0');\n",
       "\n",
       "    function canvas_keyboard_event(event) {\n",
       "        return fig.key_event(event, event['data']);\n",
       "    }\n",
       "\n",
       "    canvas_div.keydown('key_press', canvas_keyboard_event);\n",
       "    canvas_div.keyup('key_release', canvas_keyboard_event);\n",
       "    this.canvas_div = canvas_div\n",
       "    this._canvas_extra_style(canvas_div)\n",
       "    this.root.append(canvas_div);\n",
       "\n",
       "    var canvas = $('<canvas/>');\n",
       "    canvas.addClass('mpl-canvas');\n",
       "    canvas.attr('style', \"left: 0; top: 0; z-index: 0; outline: 0\")\n",
       "\n",
       "    this.canvas = canvas[0];\n",
       "    this.context = canvas[0].getContext(\"2d\");\n",
       "\n",
       "    var backingStore = this.context.backingStorePixelRatio ||\n",
       "\tthis.context.webkitBackingStorePixelRatio ||\n",
       "\tthis.context.mozBackingStorePixelRatio ||\n",
       "\tthis.context.msBackingStorePixelRatio ||\n",
       "\tthis.context.oBackingStorePixelRatio ||\n",
       "\tthis.context.backingStorePixelRatio || 1;\n",
       "\n",
       "    mpl.ratio = (window.devicePixelRatio || 1) / backingStore;\n",
       "\n",
       "    var rubberband = $('<canvas/>');\n",
       "    rubberband.attr('style', \"position: absolute; left: 0; top: 0; z-index: 1;\")\n",
       "\n",
       "    var pass_mouse_events = true;\n",
       "\n",
       "    canvas_div.resizable({\n",
       "        start: function(event, ui) {\n",
       "            pass_mouse_events = false;\n",
       "        },\n",
       "        resize: function(event, ui) {\n",
       "            fig.request_resize(ui.size.width, ui.size.height);\n",
       "        },\n",
       "        stop: function(event, ui) {\n",
       "            pass_mouse_events = true;\n",
       "            fig.request_resize(ui.size.width, ui.size.height);\n",
       "        },\n",
       "    });\n",
       "\n",
       "    function mouse_event_fn(event) {\n",
       "        if (pass_mouse_events)\n",
       "            return fig.mouse_event(event, event['data']);\n",
       "    }\n",
       "\n",
       "    rubberband.mousedown('button_press', mouse_event_fn);\n",
       "    rubberband.mouseup('button_release', mouse_event_fn);\n",
       "    // Throttle sequential mouse events to 1 every 20ms.\n",
       "    rubberband.mousemove('motion_notify', mouse_event_fn);\n",
       "\n",
       "    rubberband.mouseenter('figure_enter', mouse_event_fn);\n",
       "    rubberband.mouseleave('figure_leave', mouse_event_fn);\n",
       "\n",
       "    canvas_div.on(\"wheel\", function (event) {\n",
       "        event = event.originalEvent;\n",
       "        event['data'] = 'scroll'\n",
       "        if (event.deltaY < 0) {\n",
       "            event.step = 1;\n",
       "        } else {\n",
       "            event.step = -1;\n",
       "        }\n",
       "        mouse_event_fn(event);\n",
       "    });\n",
       "\n",
       "    canvas_div.append(canvas);\n",
       "    canvas_div.append(rubberband);\n",
       "\n",
       "    this.rubberband = rubberband;\n",
       "    this.rubberband_canvas = rubberband[0];\n",
       "    this.rubberband_context = rubberband[0].getContext(\"2d\");\n",
       "    this.rubberband_context.strokeStyle = \"#000000\";\n",
       "\n",
       "    this._resize_canvas = function(width, height) {\n",
       "        // Keep the size of the canvas, canvas container, and rubber band\n",
       "        // canvas in synch.\n",
       "        canvas_div.css('width', width)\n",
       "        canvas_div.css('height', height)\n",
       "\n",
       "        canvas.attr('width', width * mpl.ratio);\n",
       "        canvas.attr('height', height * mpl.ratio);\n",
       "        canvas.attr('style', 'width: ' + width + 'px; height: ' + height + 'px;');\n",
       "\n",
       "        rubberband.attr('width', width);\n",
       "        rubberband.attr('height', height);\n",
       "    }\n",
       "\n",
       "    // Set the figure to an initial 600x600px, this will subsequently be updated\n",
       "    // upon first draw.\n",
       "    this._resize_canvas(600, 600);\n",
       "\n",
       "    // Disable right mouse context menu.\n",
       "    $(this.rubberband_canvas).bind(\"contextmenu\",function(e){\n",
       "        return false;\n",
       "    });\n",
       "\n",
       "    function set_focus () {\n",
       "        canvas.focus();\n",
       "        canvas_div.focus();\n",
       "    }\n",
       "\n",
       "    window.setTimeout(set_focus, 100);\n",
       "}\n",
       "\n",
       "mpl.figure.prototype._init_toolbar = function() {\n",
       "    var fig = this;\n",
       "\n",
       "    var nav_element = $('<div/>')\n",
       "    nav_element.attr('style', 'width: 100%');\n",
       "    this.root.append(nav_element);\n",
       "\n",
       "    // Define a callback function for later on.\n",
       "    function toolbar_event(event) {\n",
       "        return fig.toolbar_button_onclick(event['data']);\n",
       "    }\n",
       "    function toolbar_mouse_event(event) {\n",
       "        return fig.toolbar_button_onmouseover(event['data']);\n",
       "    }\n",
       "\n",
       "    for(var toolbar_ind in mpl.toolbar_items) {\n",
       "        var name = mpl.toolbar_items[toolbar_ind][0];\n",
       "        var tooltip = mpl.toolbar_items[toolbar_ind][1];\n",
       "        var image = mpl.toolbar_items[toolbar_ind][2];\n",
       "        var method_name = mpl.toolbar_items[toolbar_ind][3];\n",
       "\n",
       "        if (!name) {\n",
       "            // put a spacer in here.\n",
       "            continue;\n",
       "        }\n",
       "        var button = $('<button/>');\n",
       "        button.addClass('ui-button ui-widget ui-state-default ui-corner-all ' +\n",
       "                        'ui-button-icon-only');\n",
       "        button.attr('role', 'button');\n",
       "        button.attr('aria-disabled', 'false');\n",
       "        button.click(method_name, toolbar_event);\n",
       "        button.mouseover(tooltip, toolbar_mouse_event);\n",
       "\n",
       "        var icon_img = $('<span/>');\n",
       "        icon_img.addClass('ui-button-icon-primary ui-icon');\n",
       "        icon_img.addClass(image);\n",
       "        icon_img.addClass('ui-corner-all');\n",
       "\n",
       "        var tooltip_span = $('<span/>');\n",
       "        tooltip_span.addClass('ui-button-text');\n",
       "        tooltip_span.html(tooltip);\n",
       "\n",
       "        button.append(icon_img);\n",
       "        button.append(tooltip_span);\n",
       "\n",
       "        nav_element.append(button);\n",
       "    }\n",
       "\n",
       "    var fmt_picker_span = $('<span/>');\n",
       "\n",
       "    var fmt_picker = $('<select/>');\n",
       "    fmt_picker.addClass('mpl-toolbar-option ui-widget ui-widget-content');\n",
       "    fmt_picker_span.append(fmt_picker);\n",
       "    nav_element.append(fmt_picker_span);\n",
       "    this.format_dropdown = fmt_picker[0];\n",
       "\n",
       "    for (var ind in mpl.extensions) {\n",
       "        var fmt = mpl.extensions[ind];\n",
       "        var option = $(\n",
       "            '<option/>', {selected: fmt === mpl.default_extension}).html(fmt);\n",
       "        fmt_picker.append(option)\n",
       "    }\n",
       "\n",
       "    // Add hover states to the ui-buttons\n",
       "    $( \".ui-button\" ).hover(\n",
       "        function() { $(this).addClass(\"ui-state-hover\");},\n",
       "        function() { $(this).removeClass(\"ui-state-hover\");}\n",
       "    );\n",
       "\n",
       "    var status_bar = $('<span class=\"mpl-message\"/>');\n",
       "    nav_element.append(status_bar);\n",
       "    this.message = status_bar[0];\n",
       "}\n",
       "\n",
       "mpl.figure.prototype.request_resize = function(x_pixels, y_pixels) {\n",
       "    // Request matplotlib to resize the figure. Matplotlib will then trigger a resize in the client,\n",
       "    // which will in turn request a refresh of the image.\n",
       "    this.send_message('resize', {'width': x_pixels, 'height': y_pixels});\n",
       "}\n",
       "\n",
       "mpl.figure.prototype.send_message = function(type, properties) {\n",
       "    properties['type'] = type;\n",
       "    properties['figure_id'] = this.id;\n",
       "    this.ws.send(JSON.stringify(properties));\n",
       "}\n",
       "\n",
       "mpl.figure.prototype.send_draw_message = function() {\n",
       "    if (!this.waiting) {\n",
       "        this.waiting = true;\n",
       "        this.ws.send(JSON.stringify({type: \"draw\", figure_id: this.id}));\n",
       "    }\n",
       "}\n",
       "\n",
       "\n",
       "mpl.figure.prototype.handle_save = function(fig, msg) {\n",
       "    var format_dropdown = fig.format_dropdown;\n",
       "    var format = format_dropdown.options[format_dropdown.selectedIndex].value;\n",
       "    fig.ondownload(fig, format);\n",
       "}\n",
       "\n",
       "\n",
       "mpl.figure.prototype.handle_resize = function(fig, msg) {\n",
       "    var size = msg['size'];\n",
       "    if (size[0] != fig.canvas.width || size[1] != fig.canvas.height) {\n",
       "        fig._resize_canvas(size[0], size[1]);\n",
       "        fig.send_message(\"refresh\", {});\n",
       "    };\n",
       "}\n",
       "\n",
       "mpl.figure.prototype.handle_rubberband = function(fig, msg) {\n",
       "    var x0 = msg['x0'] / mpl.ratio;\n",
       "    var y0 = (fig.canvas.height - msg['y0']) / mpl.ratio;\n",
       "    var x1 = msg['x1'] / mpl.ratio;\n",
       "    var y1 = (fig.canvas.height - msg['y1']) / mpl.ratio;\n",
       "    x0 = Math.floor(x0) + 0.5;\n",
       "    y0 = Math.floor(y0) + 0.5;\n",
       "    x1 = Math.floor(x1) + 0.5;\n",
       "    y1 = Math.floor(y1) + 0.5;\n",
       "    var min_x = Math.min(x0, x1);\n",
       "    var min_y = Math.min(y0, y1);\n",
       "    var width = Math.abs(x1 - x0);\n",
       "    var height = Math.abs(y1 - y0);\n",
       "\n",
       "    fig.rubberband_context.clearRect(\n",
       "        0, 0, fig.canvas.width, fig.canvas.height);\n",
       "\n",
       "    fig.rubberband_context.strokeRect(min_x, min_y, width, height);\n",
       "}\n",
       "\n",
       "mpl.figure.prototype.handle_figure_label = function(fig, msg) {\n",
       "    // Updates the figure title.\n",
       "    fig.header.textContent = msg['label'];\n",
       "}\n",
       "\n",
       "mpl.figure.prototype.handle_cursor = function(fig, msg) {\n",
       "    var cursor = msg['cursor'];\n",
       "    switch(cursor)\n",
       "    {\n",
       "    case 0:\n",
       "        cursor = 'pointer';\n",
       "        break;\n",
       "    case 1:\n",
       "        cursor = 'default';\n",
       "        break;\n",
       "    case 2:\n",
       "        cursor = 'crosshair';\n",
       "        break;\n",
       "    case 3:\n",
       "        cursor = 'move';\n",
       "        break;\n",
       "    }\n",
       "    fig.rubberband_canvas.style.cursor = cursor;\n",
       "}\n",
       "\n",
       "mpl.figure.prototype.handle_message = function(fig, msg) {\n",
       "    fig.message.textContent = msg['message'];\n",
       "}\n",
       "\n",
       "mpl.figure.prototype.handle_draw = function(fig, msg) {\n",
       "    // Request the server to send over a new figure.\n",
       "    fig.send_draw_message();\n",
       "}\n",
       "\n",
       "mpl.figure.prototype.handle_image_mode = function(fig, msg) {\n",
       "    fig.image_mode = msg['mode'];\n",
       "}\n",
       "\n",
       "mpl.figure.prototype.updated_canvas_event = function() {\n",
       "    // Called whenever the canvas gets updated.\n",
       "    this.send_message(\"ack\", {});\n",
       "}\n",
       "\n",
       "// A function to construct a web socket function for onmessage handling.\n",
       "// Called in the figure constructor.\n",
       "mpl.figure.prototype._make_on_message_function = function(fig) {\n",
       "    return function socket_on_message(evt) {\n",
       "        if (evt.data instanceof Blob) {\n",
       "            /* FIXME: We get \"Resource interpreted as Image but\n",
       "             * transferred with MIME type text/plain:\" errors on\n",
       "             * Chrome.  But how to set the MIME type?  It doesn't seem\n",
       "             * to be part of the websocket stream */\n",
       "            evt.data.type = \"image/png\";\n",
       "\n",
       "            /* Free the memory for the previous frames */\n",
       "            if (fig.imageObj.src) {\n",
       "                (window.URL || window.webkitURL).revokeObjectURL(\n",
       "                    fig.imageObj.src);\n",
       "            }\n",
       "\n",
       "            fig.imageObj.src = (window.URL || window.webkitURL).createObjectURL(\n",
       "                evt.data);\n",
       "            fig.updated_canvas_event();\n",
       "            fig.waiting = false;\n",
       "            return;\n",
       "        }\n",
       "        else if (typeof evt.data === 'string' && evt.data.slice(0, 21) == \"data:image/png;base64\") {\n",
       "            fig.imageObj.src = evt.data;\n",
       "            fig.updated_canvas_event();\n",
       "            fig.waiting = false;\n",
       "            return;\n",
       "        }\n",
       "\n",
       "        var msg = JSON.parse(evt.data);\n",
       "        var msg_type = msg['type'];\n",
       "\n",
       "        // Call the  \"handle_{type}\" callback, which takes\n",
       "        // the figure and JSON message as its only arguments.\n",
       "        try {\n",
       "            var callback = fig[\"handle_\" + msg_type];\n",
       "        } catch (e) {\n",
       "            console.log(\"No handler for the '\" + msg_type + \"' message type: \", msg);\n",
       "            return;\n",
       "        }\n",
       "\n",
       "        if (callback) {\n",
       "            try {\n",
       "                // console.log(\"Handling '\" + msg_type + \"' message: \", msg);\n",
       "                callback(fig, msg);\n",
       "            } catch (e) {\n",
       "                console.log(\"Exception inside the 'handler_\" + msg_type + \"' callback:\", e, e.stack, msg);\n",
       "            }\n",
       "        }\n",
       "    };\n",
       "}\n",
       "\n",
       "// from http://stackoverflow.com/questions/1114465/getting-mouse-location-in-canvas\n",
       "mpl.findpos = function(e) {\n",
       "    //this section is from http://www.quirksmode.org/js/events_properties.html\n",
       "    var targ;\n",
       "    if (!e)\n",
       "        e = window.event;\n",
       "    if (e.target)\n",
       "        targ = e.target;\n",
       "    else if (e.srcElement)\n",
       "        targ = e.srcElement;\n",
       "    if (targ.nodeType == 3) // defeat Safari bug\n",
       "        targ = targ.parentNode;\n",
       "\n",
       "    // jQuery normalizes the pageX and pageY\n",
       "    // pageX,Y are the mouse positions relative to the document\n",
       "    // offset() returns the position of the element relative to the document\n",
       "    var x = e.pageX - $(targ).offset().left;\n",
       "    var y = e.pageY - $(targ).offset().top;\n",
       "\n",
       "    return {\"x\": x, \"y\": y};\n",
       "};\n",
       "\n",
       "/*\n",
       " * return a copy of an object with only non-object keys\n",
       " * we need this to avoid circular references\n",
       " * http://stackoverflow.com/a/24161582/3208463\n",
       " */\n",
       "function simpleKeys (original) {\n",
       "  return Object.keys(original).reduce(function (obj, key) {\n",
       "    if (typeof original[key] !== 'object')\n",
       "        obj[key] = original[key]\n",
       "    return obj;\n",
       "  }, {});\n",
       "}\n",
       "\n",
       "mpl.figure.prototype.mouse_event = function(event, name) {\n",
       "    var canvas_pos = mpl.findpos(event)\n",
       "\n",
       "    if (name === 'button_press')\n",
       "    {\n",
       "        this.canvas.focus();\n",
       "        this.canvas_div.focus();\n",
       "    }\n",
       "\n",
       "    var x = canvas_pos.x * mpl.ratio;\n",
       "    var y = canvas_pos.y * mpl.ratio;\n",
       "\n",
       "    this.send_message(name, {x: x, y: y, button: event.button,\n",
       "                             step: event.step,\n",
       "                             guiEvent: simpleKeys(event)});\n",
       "\n",
       "    /* This prevents the web browser from automatically changing to\n",
       "     * the text insertion cursor when the button is pressed.  We want\n",
       "     * to control all of the cursor setting manually through the\n",
       "     * 'cursor' event from matplotlib */\n",
       "    event.preventDefault();\n",
       "    return false;\n",
       "}\n",
       "\n",
       "mpl.figure.prototype._key_event_extra = function(event, name) {\n",
       "    // Handle any extra behaviour associated with a key event\n",
       "}\n",
       "\n",
       "mpl.figure.prototype.key_event = function(event, name) {\n",
       "\n",
       "    // Prevent repeat events\n",
       "    if (name == 'key_press')\n",
       "    {\n",
       "        if (event.which === this._key)\n",
       "            return;\n",
       "        else\n",
       "            this._key = event.which;\n",
       "    }\n",
       "    if (name == 'key_release')\n",
       "        this._key = null;\n",
       "\n",
       "    var value = '';\n",
       "    if (event.ctrlKey && event.which != 17)\n",
       "        value += \"ctrl+\";\n",
       "    if (event.altKey && event.which != 18)\n",
       "        value += \"alt+\";\n",
       "    if (event.shiftKey && event.which != 16)\n",
       "        value += \"shift+\";\n",
       "\n",
       "    value += 'k';\n",
       "    value += event.which.toString();\n",
       "\n",
       "    this._key_event_extra(event, name);\n",
       "\n",
       "    this.send_message(name, {key: value,\n",
       "                             guiEvent: simpleKeys(event)});\n",
       "    return false;\n",
       "}\n",
       "\n",
       "mpl.figure.prototype.toolbar_button_onclick = function(name) {\n",
       "    if (name == 'download') {\n",
       "        this.handle_save(this, null);\n",
       "    } else {\n",
       "        this.send_message(\"toolbar_button\", {name: name});\n",
       "    }\n",
       "};\n",
       "\n",
       "mpl.figure.prototype.toolbar_button_onmouseover = function(tooltip) {\n",
       "    this.message.textContent = tooltip;\n",
       "};\n",
       "mpl.toolbar_items = [[\"Home\", \"Reset original view\", \"fa fa-home icon-home\", \"home\"], [\"Back\", \"Back to  previous view\", \"fa fa-arrow-left icon-arrow-left\", \"back\"], [\"Forward\", \"Forward to next view\", \"fa fa-arrow-right icon-arrow-right\", \"forward\"], [\"\", \"\", \"\", \"\"], [\"Pan\", \"Pan axes with left mouse, zoom with right\", \"fa fa-arrows icon-move\", \"pan\"], [\"Zoom\", \"Zoom to rectangle\", \"fa fa-square-o icon-check-empty\", \"zoom\"], [\"\", \"\", \"\", \"\"], [\"Download\", \"Download plot\", \"fa fa-floppy-o icon-save\", \"download\"]];\n",
       "\n",
       "mpl.extensions = [\"eps\", \"jpeg\", \"pdf\", \"png\", \"ps\", \"raw\", \"svg\", \"tif\"];\n",
       "\n",
       "mpl.default_extension = \"png\";var comm_websocket_adapter = function(comm) {\n",
       "    // Create a \"websocket\"-like object which calls the given IPython comm\n",
       "    // object with the appropriate methods. Currently this is a non binary\n",
       "    // socket, so there is still some room for performance tuning.\n",
       "    var ws = {};\n",
       "\n",
       "    ws.close = function() {\n",
       "        comm.close()\n",
       "    };\n",
       "    ws.send = function(m) {\n",
       "        //console.log('sending', m);\n",
       "        comm.send(m);\n",
       "    };\n",
       "    // Register the callback with on_msg.\n",
       "    comm.on_msg(function(msg) {\n",
       "        //console.log('receiving', msg['content']['data'], msg);\n",
       "        // Pass the mpl event to the overriden (by mpl) onmessage function.\n",
       "        ws.onmessage(msg['content']['data'])\n",
       "    });\n",
       "    return ws;\n",
       "}\n",
       "\n",
       "mpl.mpl_figure_comm = function(comm, msg) {\n",
       "    // This is the function which gets called when the mpl process\n",
       "    // starts-up an IPython Comm through the \"matplotlib\" channel.\n",
       "\n",
       "    var id = msg.content.data.id;\n",
       "    // Get hold of the div created by the display call when the Comm\n",
       "    // socket was opened in Python.\n",
       "    var element = $(\"#\" + id);\n",
       "    var ws_proxy = comm_websocket_adapter(comm)\n",
       "\n",
       "    function ondownload(figure, format) {\n",
       "        window.open(figure.imageObj.src);\n",
       "    }\n",
       "\n",
       "    var fig = new mpl.figure(id, ws_proxy,\n",
       "                           ondownload,\n",
       "                           element.get(0));\n",
       "\n",
       "    // Call onopen now - mpl needs it, as it is assuming we've passed it a real\n",
       "    // web socket which is closed, not our websocket->open comm proxy.\n",
       "    ws_proxy.onopen();\n",
       "\n",
       "    fig.parent_element = element.get(0);\n",
       "    fig.cell_info = mpl.find_output_cell(\"<div id='\" + id + \"'></div>\");\n",
       "    if (!fig.cell_info) {\n",
       "        console.error(\"Failed to find cell for figure\", id, fig);\n",
       "        return;\n",
       "    }\n",
       "\n",
       "    var output_index = fig.cell_info[2]\n",
       "    var cell = fig.cell_info[0];\n",
       "\n",
       "};\n",
       "\n",
       "mpl.figure.prototype.handle_close = function(fig, msg) {\n",
       "    var width = fig.canvas.width/mpl.ratio\n",
       "    fig.root.unbind('remove')\n",
       "\n",
       "    // Update the output cell to use the data from the current canvas.\n",
       "    fig.push_to_output();\n",
       "    var dataURL = fig.canvas.toDataURL();\n",
       "    // Re-enable the keyboard manager in IPython - without this line, in FF,\n",
       "    // the notebook keyboard shortcuts fail.\n",
       "    IPython.keyboard_manager.enable()\n",
       "    $(fig.parent_element).html('<img src=\"' + dataURL + '\" width=\"' + width + '\">');\n",
       "    fig.close_ws(fig, msg);\n",
       "}\n",
       "\n",
       "mpl.figure.prototype.close_ws = function(fig, msg){\n",
       "    fig.send_message('closing', msg);\n",
       "    // fig.ws.close()\n",
       "}\n",
       "\n",
       "mpl.figure.prototype.push_to_output = function(remove_interactive) {\n",
       "    // Turn the data on the canvas into data in the output cell.\n",
       "    var width = this.canvas.width/mpl.ratio\n",
       "    var dataURL = this.canvas.toDataURL();\n",
       "    this.cell_info[1]['text/html'] = '<img src=\"' + dataURL + '\" width=\"' + width + '\">';\n",
       "}\n",
       "\n",
       "mpl.figure.prototype.updated_canvas_event = function() {\n",
       "    // Tell IPython that the notebook contents must change.\n",
       "    IPython.notebook.set_dirty(true);\n",
       "    this.send_message(\"ack\", {});\n",
       "    var fig = this;\n",
       "    // Wait a second, then push the new image to the DOM so\n",
       "    // that it is saved nicely (might be nice to debounce this).\n",
       "    setTimeout(function () { fig.push_to_output() }, 1000);\n",
       "}\n",
       "\n",
       "mpl.figure.prototype._init_toolbar = function() {\n",
       "    var fig = this;\n",
       "\n",
       "    var nav_element = $('<div/>')\n",
       "    nav_element.attr('style', 'width: 100%');\n",
       "    this.root.append(nav_element);\n",
       "\n",
       "    // Define a callback function for later on.\n",
       "    function toolbar_event(event) {\n",
       "        return fig.toolbar_button_onclick(event['data']);\n",
       "    }\n",
       "    function toolbar_mouse_event(event) {\n",
       "        return fig.toolbar_button_onmouseover(event['data']);\n",
       "    }\n",
       "\n",
       "    for(var toolbar_ind in mpl.toolbar_items){\n",
       "        var name = mpl.toolbar_items[toolbar_ind][0];\n",
       "        var tooltip = mpl.toolbar_items[toolbar_ind][1];\n",
       "        var image = mpl.toolbar_items[toolbar_ind][2];\n",
       "        var method_name = mpl.toolbar_items[toolbar_ind][3];\n",
       "\n",
       "        if (!name) { continue; };\n",
       "\n",
       "        var button = $('<button class=\"btn btn-default\" href=\"#\" title=\"' + name + '\"><i class=\"fa ' + image + ' fa-lg\"></i></button>');\n",
       "        button.click(method_name, toolbar_event);\n",
       "        button.mouseover(tooltip, toolbar_mouse_event);\n",
       "        nav_element.append(button);\n",
       "    }\n",
       "\n",
       "    // Add the status bar.\n",
       "    var status_bar = $('<span class=\"mpl-message\" style=\"text-align:right; float: right;\"/>');\n",
       "    nav_element.append(status_bar);\n",
       "    this.message = status_bar[0];\n",
       "\n",
       "    // Add the close button to the window.\n",
       "    var buttongrp = $('<div class=\"btn-group inline pull-right\"></div>');\n",
       "    var button = $('<button class=\"btn btn-mini btn-primary\" href=\"#\" title=\"Stop Interaction\"><i class=\"fa fa-power-off icon-remove icon-large\"></i></button>');\n",
       "    button.click(function (evt) { fig.handle_close(fig, {}); } );\n",
       "    button.mouseover('Stop Interaction', toolbar_mouse_event);\n",
       "    buttongrp.append(button);\n",
       "    var titlebar = this.root.find($('.ui-dialog-titlebar'));\n",
       "    titlebar.prepend(buttongrp);\n",
       "}\n",
       "\n",
       "mpl.figure.prototype._root_extra_style = function(el){\n",
       "    var fig = this\n",
       "    el.on(\"remove\", function(){\n",
       "\tfig.close_ws(fig, {});\n",
       "    });\n",
       "}\n",
       "\n",
       "mpl.figure.prototype._canvas_extra_style = function(el){\n",
       "    // this is important to make the div 'focusable\n",
       "    el.attr('tabindex', 0)\n",
       "    // reach out to IPython and tell the keyboard manager to turn it's self\n",
       "    // off when our div gets focus\n",
       "\n",
       "    // location in version 3\n",
       "    if (IPython.notebook.keyboard_manager) {\n",
       "        IPython.notebook.keyboard_manager.register_events(el);\n",
       "    }\n",
       "    else {\n",
       "        // location in version 2\n",
       "        IPython.keyboard_manager.register_events(el);\n",
       "    }\n",
       "\n",
       "}\n",
       "\n",
       "mpl.figure.prototype._key_event_extra = function(event, name) {\n",
       "    var manager = IPython.notebook.keyboard_manager;\n",
       "    if (!manager)\n",
       "        manager = IPython.keyboard_manager;\n",
       "\n",
       "    // Check for shift+enter\n",
       "    if (event.shiftKey && event.which == 13) {\n",
       "        this.canvas_div.blur();\n",
       "        event.shiftKey = false;\n",
       "        // Send a \"J\" for go to next cell\n",
       "        event.which = 74;\n",
       "        event.keyCode = 74;\n",
       "        manager.command_mode();\n",
       "        manager.handle_keydown(event);\n",
       "    }\n",
       "}\n",
       "\n",
       "mpl.figure.prototype.handle_save = function(fig, msg) {\n",
       "    fig.ondownload(fig, null);\n",
       "}\n",
       "\n",
       "\n",
       "mpl.find_output_cell = function(html_output) {\n",
       "    // Return the cell and output element which can be found *uniquely* in the notebook.\n",
       "    // Note - this is a bit hacky, but it is done because the \"notebook_saving.Notebook\"\n",
       "    // IPython event is triggered only after the cells have been serialised, which for\n",
       "    // our purposes (turning an active figure into a static one), is too late.\n",
       "    var cells = IPython.notebook.get_cells();\n",
       "    var ncells = cells.length;\n",
       "    for (var i=0; i<ncells; i++) {\n",
       "        var cell = cells[i];\n",
       "        if (cell.cell_type === 'code'){\n",
       "            for (var j=0; j<cell.output_area.outputs.length; j++) {\n",
       "                var data = cell.output_area.outputs[j];\n",
       "                if (data.data) {\n",
       "                    // IPython >= 3 moved mimebundle to data attribute of output\n",
       "                    data = data.data;\n",
       "                }\n",
       "                if (data['text/html'] == html_output) {\n",
       "                    return [cell, data, j];\n",
       "                }\n",
       "            }\n",
       "        }\n",
       "    }\n",
       "}\n",
       "\n",
       "// Register the function which deals with the matplotlib target/channel.\n",
       "// The kernel may be null if the page has been refreshed.\n",
       "if (IPython.notebook.kernel != null) {\n",
       "    IPython.notebook.kernel.comm_manager.register_target('matplotlib', mpl.mpl_figure_comm);\n",
       "}\n"
      ],
      "text/plain": [
       "<IPython.core.display.Javascript object>"
      ]
     },
     "metadata": {},
     "output_type": "display_data"
    },
    {
     "data": {
      "text/html": [
       "<img src=\"data:image/png;base64,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\" width=\"640\">"
      ],
      "text/plain": [
       "<IPython.core.display.HTML object>"
      ]
     },
     "metadata": {},
     "output_type": "display_data"
    },
    {
     "data": {
      "text/plain": [
       "(array([   42.,    11.,    12.,    30.,   600.,   433.,   330.,   304.,\n",
       "          652.,  1586.]),\n",
       " array([-0.68592934, -0.60766505, -0.52940077, -0.45113649, -0.3728722 ,\n",
       "        -0.29460792, -0.21634364, -0.13807936, -0.05981507,  0.01844921,\n",
       "         0.09671349]),\n",
       " <a list of 10 Patch objects>)"
      ]
     },
     "execution_count": 16,
     "metadata": {},
     "output_type": "execute_result"
    }
   ],
   "source": [
    "plt.hist(agent_rew_hist[:4000])"
   ]
  },
  {
   "cell_type": "code",
   "execution_count": 17,
   "metadata": {
    "collapsed": true
   },
   "outputs": [],
   "source": [
    "kvparams[\"eta\"] = 0.1\n",
    "\n",
    "act_trainer[\"low\"] = -0.15\n",
    "act_trainer[\"high\"] = 0.2\n",
    "\n",
    "act_trainer[\"random_default\"] = 0.10\n",
    "act_trainer[\"random_bad\"] = 0.80\n",
    "act_trainer[\"random_good\"] = 0.15\n",
    "act_trainer[\"random_diff\"] = 0.10"
   ]
  },
  {
   "cell_type": "code",
   "execution_count": 18,
   "metadata": {
    "scrolled": false
   },
   "outputs": [
    {
     "name": "stdout",
     "output_type": "stream",
     "text": [
      "map_seed = 3\n",
      "train_rmse_before = 1.170269557, train_rmse_after = 0.187418321, \n",
      "mean_train_revard = -0.090, mean_test_reward  = -0.089,\n",
      "steps = total: 4000, bad: 0.6052, good: 0.2655, diff: 0.1690, other: -0.0397,\n",
      "collisions = 0.541250, circles = 0.238571\n",
      "----\n",
      "\n"
     ]
    },
    {
     "data": {
      "application/vnd.jupyter.widget-view+json": {
       "model_id": "b82ce6114e2c4b83a1efdb416f075c23",
       "version_major": 2,
       "version_minor": 0
      },
      "text/plain": [
       "A Jupyter Widget"
      ]
     },
     "metadata": {},
     "output_type": "display_data"
    },
    {
     "data": {
      "application/vnd.jupyter.widget-view+json": {
       "model_id": "cb50c49b37784c6cb32185674b87c2c2",
       "version_major": 2,
       "version_minor": 0
      },
      "text/plain": [
       "A Jupyter Widget"
      ]
     },
     "metadata": {},
     "output_type": "display_data"
    },
    {
     "data": {
      "application/vnd.jupyter.widget-view+json": {
       "model_id": "80c8ec34e07f4e719c8218d59346795c",
       "version_major": 2,
       "version_minor": 0
      },
      "text/plain": [
       "A Jupyter Widget"
      ]
     },
     "metadata": {},
     "output_type": "display_data"
    },
    {
     "data": {
      "application/vnd.jupyter.widget-view+json": {
       "model_id": "ff1fef97263049728e8e6fb926dacc5f",
       "version_major": 2,
       "version_minor": 0
      },
      "text/plain": [
       "A Jupyter Widget"
      ]
     },
     "metadata": {},
     "output_type": "display_data"
    },
    {
     "name": "stdout",
     "output_type": "stream",
     "text": [
      "map_seed = 3\n",
      "train_rmse_before = 0.192819121, train_rmse_after = 0.172176635, \n",
      "mean_train_revard = -0.093, mean_test_reward  = -0.189,\n",
      "steps = total: 4000, bad: 0.4763, good: 0.0075, diff: 0.0000, other: 0.5162,\n",
      "collisions = 0.591750, circles = 0.338420\n",
      "\n"
     ]
    },
    {
     "data": {
      "application/vnd.jupyter.widget-view+json": {
       "model_id": "fdab318b34894d4594560e7fad707486",
       "version_major": 2,
       "version_minor": 0
      },
      "text/plain": [
       "A Jupyter Widget"
      ]
     },
     "metadata": {},
     "output_type": "display_data"
    },
    {
     "data": {
      "application/vnd.jupyter.widget-view+json": {
       "model_id": "9ea54a86eef84a1e8710092258fff685",
       "version_major": 2,
       "version_minor": 0
      },
      "text/plain": [
       "A Jupyter Widget"
      ]
     },
     "metadata": {},
     "output_type": "display_data"
    },
    {
     "data": {
      "application/vnd.jupyter.widget-view+json": {
       "model_id": "6b9f2dd7d4ac484c806957cf9c8bc749",
       "version_major": 2,
       "version_minor": 0
      },
      "text/plain": [
       "A Jupyter Widget"
      ]
     },
     "metadata": {},
     "output_type": "display_data"
    },
    {
     "name": "stdout",
     "output_type": "stream",
     "text": [
      "map_seed = 13\n",
      "train_rmse_before = 0.195043283, train_rmse_after = 0.154948786, \n",
      "mean_train_revard = -0.102, mean_test_reward  = -0.383,\n",
      "steps = total: 4000, bad: 0.5062, good: 0.0000, diff: 0.0000, other: 0.4938,\n",
      "collisions = 0.562750, circles = -0.000296\n",
      "\n"
     ]
    },
    {
     "data": {
      "application/vnd.jupyter.widget-view+json": {
       "model_id": "4ec4e20c4e82492eaa6c28bed6ce527b",
       "version_major": 2,
       "version_minor": 0
      },
      "text/plain": [
       "A Jupyter Widget"
      ]
     },
     "metadata": {},
     "output_type": "display_data"
    },
    {
     "data": {
      "application/vnd.jupyter.widget-view+json": {
       "model_id": "fc1ea72e1b954f92a0c8a177b2c2a435",
       "version_major": 2,
       "version_minor": 0
      },
      "text/plain": [
       "A Jupyter Widget"
      ]
     },
     "metadata": {},
     "output_type": "display_data"
    },
    {
     "data": {
      "application/vnd.jupyter.widget-view+json": {
       "model_id": "260899fa8935446faf62ef50da34ed8c",
       "version_major": 2,
       "version_minor": 0
      },
      "text/plain": [
       "A Jupyter Widget"
      ]
     },
     "metadata": {},
     "output_type": "display_data"
    },
    {
     "name": "stdout",
     "output_type": "stream",
     "text": [
      "map_seed = 18\n",
      "train_rmse_before = 0.229686982, train_rmse_after = 0.132156020, \n",
      "mean_train_revard = -0.118, mean_test_reward  = -0.058,\n",
      "steps = total: 4000, bad: 0.4545, good: 0.0000, diff: 0.0000, other: 0.5455,\n",
      "collisions = 0.536750, circles = 1.204668\n",
      "\n"
     ]
    },
    {
     "data": {
      "application/vnd.jupyter.widget-view+json": {
       "model_id": "6eac0ddd77a24766b62cfcd541df2ca9",
       "version_major": 2,
       "version_minor": 0
      },
      "text/plain": [
       "A Jupyter Widget"
      ]
     },
     "metadata": {},
     "output_type": "display_data"
    },
    {
     "data": {
      "application/vnd.jupyter.widget-view+json": {
       "model_id": "cff10cd24c284e02b2fb021499317d60",
       "version_major": 2,
       "version_minor": 0
      },
      "text/plain": [
       "A Jupyter Widget"
      ]
     },
     "metadata": {},
     "output_type": "display_data"
    },
    {
     "data": {
      "application/vnd.jupyter.widget-view+json": {
       "model_id": "0b141f298a5c4b70b67fad3d58537e1c",
       "version_major": 2,
       "version_minor": 0
      },
      "text/plain": [
       "A Jupyter Widget"
      ]
     },
     "metadata": {},
     "output_type": "display_data"
    },
    {
     "name": "stdout",
     "output_type": "stream",
     "text": [
      "map_seed = 23\n",
      "train_rmse_before = 0.137335771, train_rmse_after = 0.123016308, \n",
      "mean_train_revard = -0.110, mean_test_reward  = -0.453,\n",
      "steps = total: 4000, bad: 0.4815, good: 0.0022, diff: 0.0000, other: 0.5162,\n",
      "collisions = 0.552250, circles = 0.012535\n",
      "\n"
     ]
    },
    {
     "data": {
      "application/vnd.jupyter.widget-view+json": {
       "model_id": "b5f632bd23cc4b51b7d38354bd6abd91",
       "version_major": 2,
       "version_minor": 0
      },
      "text/plain": [
       "A Jupyter Widget"
      ]
     },
     "metadata": {},
     "output_type": "display_data"
    },
    {
     "data": {
      "application/vnd.jupyter.widget-view+json": {
       "model_id": "84a70551adf44a61afe26e078a8d8fe9",
       "version_major": 2,
       "version_minor": 0
      },
      "text/plain": [
       "A Jupyter Widget"
      ]
     },
     "metadata": {},
     "output_type": "display_data"
    },
    {
     "data": {
      "application/vnd.jupyter.widget-view+json": {
       "model_id": "73c3b5fcdefe4a4491a96ab70c17756c",
       "version_major": 2,
       "version_minor": 0
      },
      "text/plain": [
       "A Jupyter Widget"
      ]
     },
     "metadata": {},
     "output_type": "display_data"
    },
    {
     "name": "stdout",
     "output_type": "stream",
     "text": [
      "map_seed = 3\n",
      "train_rmse_before = 0.148860670, train_rmse_after = 0.118140248, \n",
      "mean_train_revard = -0.122, mean_test_reward  = -0.024,\n",
      "steps = total: 4000, bad: 0.4878, good: 0.0060, diff: 0.0000, other: 0.5062,\n",
      "collisions = 0.609000, circles = 0.313385\n",
      "\n"
     ]
    },
    {
     "data": {
      "application/vnd.jupyter.widget-view+json": {
       "model_id": "37ef40f21ec041fdae9c9071a157b7e0",
       "version_major": 2,
       "version_minor": 0
      },
      "text/plain": [
       "A Jupyter Widget"
      ]
     },
     "metadata": {},
     "output_type": "display_data"
    },
    {
     "data": {
      "application/vnd.jupyter.widget-view+json": {
       "model_id": "337e037cbd434b7aa42908050f82a965",
       "version_major": 2,
       "version_minor": 0
      },
      "text/plain": [
       "A Jupyter Widget"
      ]
     },
     "metadata": {},
     "output_type": "display_data"
    },
    {
     "data": {
      "application/vnd.jupyter.widget-view+json": {
       "model_id": "8c1f7fcda03d45bc8f49b68fb8ef75c5",
       "version_major": 2,
       "version_minor": 0
      },
      "text/plain": [
       "A Jupyter Widget"
      ]
     },
     "metadata": {},
     "output_type": "display_data"
    },
    {
     "name": "stdout",
     "output_type": "stream",
     "text": [
      "map_seed = 13\n",
      "train_rmse_before = 0.115591281, train_rmse_after = 0.109070398, \n",
      "mean_train_revard = -0.116, mean_test_reward  = -0.290,\n",
      "steps = total: 4000, bad: 0.4605, good: 0.0040, diff: 0.0000, other: 0.5355,\n",
      "collisions = 0.612750, circles = 0.198274\n",
      "\n"
     ]
    },
    {
     "data": {
      "application/vnd.jupyter.widget-view+json": {
       "model_id": "0d8e8d09f12241f7b8cc8d429ba7caa6",
       "version_major": 2,
       "version_minor": 0
      },
      "text/plain": [
       "A Jupyter Widget"
      ]
     },
     "metadata": {},
     "output_type": "display_data"
    },
    {
     "data": {
      "application/vnd.jupyter.widget-view+json": {
       "model_id": "713025996779499b9d7b0d95e428ac81",
       "version_major": 2,
       "version_minor": 0
      },
      "text/plain": [
       "A Jupyter Widget"
      ]
     },
     "metadata": {},
     "output_type": "display_data"
    },
    {
     "ename": "KeyboardInterrupt",
     "evalue": "",
     "output_type": "error",
     "traceback": [
      "\u001b[1;31m---------------------------------------------------------------------------\u001b[0m",
      "\u001b[1;31mKeyboardInterrupt\u001b[0m                         Traceback (most recent call last)",
      "\u001b[1;32m<ipython-input-18-93c1eca23f5f>\u001b[0m in \u001b[0;36m<module>\u001b[1;34m()\u001b[0m\n\u001b[0;32m      4\u001b[0m     \u001b[1;32mfor\u001b[0m \u001b[0mmap_seed\u001b[0m \u001b[1;32min\u001b[0m \u001b[0mmap_seeds\u001b[0m\u001b[1;33m:\u001b[0m\u001b[1;33m\u001b[0m\u001b[0m\n\u001b[0;32m      5\u001b[0m         \u001b[0mkvparams\u001b[0m\u001b[1;33m[\u001b[0m\u001b[1;34m\"map_seed\"\u001b[0m\u001b[1;33m]\u001b[0m \u001b[1;33m=\u001b[0m \u001b[0mmap_seed\u001b[0m\u001b[1;33m\u001b[0m\u001b[0m\n\u001b[1;32m----> 6\u001b[1;33m         \u001b[0mres\u001b[0m \u001b[1;33m=\u001b[0m \u001b[0mmine_data\u001b[0m\u001b[1;33m(\u001b[0m\u001b[0mlog_list\u001b[0m\u001b[1;33m,\u001b[0m \u001b[0mdyn_plot\u001b[0m\u001b[1;33m,\u001b[0m \u001b[0magent1\u001b[0m\u001b[1;33m,\u001b[0m \u001b[0mact_trainer\u001b[0m\u001b[1;33m,\u001b[0m \u001b[0msteps\u001b[0m\u001b[1;33m=\u001b[0m\u001b[1;36m4000\u001b[0m\u001b[1;33m,\u001b[0m \u001b[1;33m**\u001b[0m\u001b[0mkvparams\u001b[0m\u001b[1;33m)\u001b[0m\u001b[1;33m\u001b[0m\u001b[0m\n\u001b[0m\u001b[0;32m      7\u001b[0m         \u001b[1;32mif\u001b[0m \u001b[0mres\u001b[0m \u001b[1;33m>\u001b[0m \u001b[1;36m2\u001b[0m\u001b[1;33m:\u001b[0m\u001b[1;33m\u001b[0m\u001b[0m\n\u001b[0;32m      8\u001b[0m             \u001b[1;32mbreak\u001b[0m\u001b[1;33m\u001b[0m\u001b[0m\n",
      "\u001b[1;32m~\\nb_python\\stepic_neural_networks_public\\HW_3\\run_car.py\u001b[0m in \u001b[0;36mmine_data\u001b[1;34m(log_list, dyn_plot, agent, action_trainer_params, clear_history, map_seed, steps, epochs, mini_batch_size, eta, reward_shift, alpha)\u001b[0m\n\u001b[0;32m     62\u001b[0m                               \u001b[0mepochs\u001b[0m\u001b[1;33m=\u001b[0m\u001b[0mtqdm_notebook\u001b[0m\u001b[1;33m(\u001b[0m\u001b[0mrange\u001b[0m\u001b[1;33m(\u001b[0m\u001b[0mepochs\u001b[0m\u001b[1;33m)\u001b[0m\u001b[1;33m,\u001b[0m \u001b[0mdesc\u001b[0m\u001b[1;33m=\u001b[0m\u001b[1;34m\"SGD\"\u001b[0m\u001b[1;33m,\u001b[0m \u001b[0mleave\u001b[0m\u001b[1;33m=\u001b[0m\u001b[1;32mFalse\u001b[0m\u001b[1;33m)\u001b[0m\u001b[1;33m,\u001b[0m\u001b[1;33m\u001b[0m\u001b[0m\n\u001b[0;32m     63\u001b[0m                               \u001b[0mmini_batch_size\u001b[0m\u001b[1;33m=\u001b[0m\u001b[0mmini_batch_size\u001b[0m\u001b[1;33m,\u001b[0m\u001b[1;33m\u001b[0m\u001b[0m\n\u001b[1;32m---> 64\u001b[1;33m                               eta=eta))\n\u001b[0m\u001b[0;32m     65\u001b[0m     \u001b[0mtrain_rmse_after\u001b[0m \u001b[1;33m=\u001b[0m \u001b[0magent\u001b[0m\u001b[1;33m.\u001b[0m\u001b[0mneural_net\u001b[0m\u001b[1;33m.\u001b[0m\u001b[0mevaluate\u001b[0m\u001b[1;33m(\u001b[0m\u001b[0mX_train\u001b[0m\u001b[1;33m.\u001b[0m\u001b[0mT\u001b[0m\u001b[1;33m,\u001b[0m \u001b[0my_train\u001b[0m\u001b[1;33m)\u001b[0m\u001b[1;33m\u001b[0m\u001b[0m\n\u001b[0;32m     66\u001b[0m \u001b[1;33m\u001b[0m\u001b[0m\n",
      "\u001b[1;32m~\\nb_python\\stepic_neural_networks_public\\HW_3\\learning_algorithms\\network.py\u001b[0m in \u001b[0;36mSGD\u001b[1;34m(self, training_data, epochs, mini_batch_size, eta, test_data)\u001b[0m\n\u001b[0;32m    106\u001b[0m                 for k in range(0, n, mini_batch_size)]\n\u001b[0;32m    107\u001b[0m             \u001b[1;32mfor\u001b[0m \u001b[0mmini_batch\u001b[0m \u001b[1;32min\u001b[0m \u001b[0mmini_batches\u001b[0m\u001b[1;33m:\u001b[0m\u001b[1;33m\u001b[0m\u001b[0m\n\u001b[1;32m--> 108\u001b[1;33m                 \u001b[0mself\u001b[0m\u001b[1;33m.\u001b[0m\u001b[0mupdate_mini_batch\u001b[0m\u001b[1;33m(\u001b[0m\u001b[0mmini_batch\u001b[0m\u001b[1;33m,\u001b[0m \u001b[0meta\u001b[0m\u001b[1;33m)\u001b[0m\u001b[1;33m\u001b[0m\u001b[0m\n\u001b[0m\u001b[0;32m    109\u001b[0m \u001b[1;33m\u001b[0m\u001b[0m\n\u001b[0;32m    110\u001b[0m             \u001b[1;32mif\u001b[0m \u001b[0mtest_data\u001b[0m\u001b[1;33m:\u001b[0m\u001b[1;33m\u001b[0m\u001b[0m\n",
      "\u001b[1;32m~\\nb_python\\stepic_neural_networks_public\\HW_3\\learning_algorithms\\network.py\u001b[0m in \u001b[0;36mupdate_mini_batch\u001b[1;34m(self, mini_batch, eta)\u001b[0m\n\u001b[0;32m    126\u001b[0m         \u001b[0mnabla_w\u001b[0m \u001b[1;33m=\u001b[0m \u001b[1;33m[\u001b[0m\u001b[0mnp\u001b[0m\u001b[1;33m.\u001b[0m\u001b[0mzeros\u001b[0m\u001b[1;33m(\u001b[0m\u001b[0mw\u001b[0m\u001b[1;33m.\u001b[0m\u001b[0mshape\u001b[0m\u001b[1;33m)\u001b[0m \u001b[1;32mfor\u001b[0m \u001b[0mw\u001b[0m \u001b[1;32min\u001b[0m \u001b[0mself\u001b[0m\u001b[1;33m.\u001b[0m\u001b[0mweights\u001b[0m\u001b[1;33m]\u001b[0m\u001b[1;33m\u001b[0m\u001b[0m\n\u001b[0;32m    127\u001b[0m         \u001b[1;32mfor\u001b[0m \u001b[0mx\u001b[0m\u001b[1;33m,\u001b[0m \u001b[0my\u001b[0m \u001b[1;32min\u001b[0m \u001b[0mmini_batch\u001b[0m\u001b[1;33m:\u001b[0m\u001b[1;33m\u001b[0m\u001b[0m\n\u001b[1;32m--> 128\u001b[1;33m             \u001b[0mdelta_nabla_b\u001b[0m\u001b[1;33m,\u001b[0m \u001b[0mdelta_nabla_w\u001b[0m \u001b[1;33m=\u001b[0m \u001b[0mself\u001b[0m\u001b[1;33m.\u001b[0m\u001b[0mbackprop\u001b[0m\u001b[1;33m(\u001b[0m\u001b[0mx\u001b[0m\u001b[1;33m,\u001b[0m \u001b[0my\u001b[0m\u001b[1;33m)\u001b[0m\u001b[1;33m\u001b[0m\u001b[0m\n\u001b[0m\u001b[0;32m    129\u001b[0m             \u001b[0mnabla_b\u001b[0m \u001b[1;33m=\u001b[0m \u001b[1;33m[\u001b[0m\u001b[0mnb\u001b[0m \u001b[1;33m+\u001b[0m \u001b[0mdnb\u001b[0m \u001b[1;32mfor\u001b[0m \u001b[0mnb\u001b[0m\u001b[1;33m,\u001b[0m \u001b[0mdnb\u001b[0m \u001b[1;32min\u001b[0m \u001b[0mzip\u001b[0m\u001b[1;33m(\u001b[0m\u001b[0mnabla_b\u001b[0m\u001b[1;33m,\u001b[0m \u001b[0mdelta_nabla_b\u001b[0m\u001b[1;33m)\u001b[0m\u001b[1;33m]\u001b[0m\u001b[1;33m\u001b[0m\u001b[0m\n\u001b[0;32m    130\u001b[0m             \u001b[0mnabla_w\u001b[0m \u001b[1;33m=\u001b[0m \u001b[1;33m[\u001b[0m\u001b[0mnw\u001b[0m \u001b[1;33m+\u001b[0m \u001b[0mdnw\u001b[0m \u001b[1;32mfor\u001b[0m \u001b[0mnw\u001b[0m\u001b[1;33m,\u001b[0m \u001b[0mdnw\u001b[0m \u001b[1;32min\u001b[0m \u001b[0mzip\u001b[0m\u001b[1;33m(\u001b[0m\u001b[0mnabla_w\u001b[0m\u001b[1;33m,\u001b[0m \u001b[0mdelta_nabla_w\u001b[0m\u001b[1;33m)\u001b[0m\u001b[1;33m]\u001b[0m\u001b[1;33m\u001b[0m\u001b[0m\n",
      "\u001b[1;32m~\\nb_python\\stepic_neural_networks_public\\HW_3\\learning_algorithms\\network.py\u001b[0m in \u001b[0;36mbackprop\u001b[1;34m(self, x, y)\u001b[0m\n\u001b[0;32m    176\u001b[0m             \u001b[0mdelta\u001b[0m \u001b[1;33m=\u001b[0m \u001b[0mnp\u001b[0m\u001b[1;33m.\u001b[0m\u001b[0mdot\u001b[0m\u001b[1;33m(\u001b[0m\u001b[0mself\u001b[0m\u001b[1;33m.\u001b[0m\u001b[0mweights\u001b[0m\u001b[1;33m[\u001b[0m\u001b[1;33m-\u001b[0m\u001b[0ml\u001b[0m \u001b[1;33m+\u001b[0m \u001b[1;36m1\u001b[0m\u001b[1;33m]\u001b[0m\u001b[1;33m.\u001b[0m\u001b[0mtranspose\u001b[0m\u001b[1;33m(\u001b[0m\u001b[1;33m)\u001b[0m\u001b[1;33m,\u001b[0m \u001b[0mdelta\u001b[0m\u001b[1;33m)\u001b[0m \u001b[1;33m*\u001b[0m \u001b[0msp\u001b[0m\u001b[1;33m\u001b[0m\u001b[0m\n\u001b[0;32m    177\u001b[0m             \u001b[0mnabla_b\u001b[0m\u001b[1;33m[\u001b[0m\u001b[1;33m-\u001b[0m\u001b[0ml\u001b[0m\u001b[1;33m]\u001b[0m \u001b[1;33m=\u001b[0m \u001b[0mdelta\u001b[0m\u001b[1;33m\u001b[0m\u001b[0m\n\u001b[1;32m--> 178\u001b[1;33m             \u001b[0mnabla_w\u001b[0m\u001b[1;33m[\u001b[0m\u001b[1;33m-\u001b[0m\u001b[0ml\u001b[0m\u001b[1;33m]\u001b[0m \u001b[1;33m=\u001b[0m \u001b[0mnp\u001b[0m\u001b[1;33m.\u001b[0m\u001b[0mdot\u001b[0m\u001b[1;33m(\u001b[0m\u001b[0mdelta\u001b[0m\u001b[1;33m,\u001b[0m \u001b[0mactivations\u001b[0m\u001b[1;33m[\u001b[0m\u001b[1;33m-\u001b[0m\u001b[0ml\u001b[0m \u001b[1;33m-\u001b[0m \u001b[1;36m1\u001b[0m\u001b[1;33m]\u001b[0m\u001b[1;33m.\u001b[0m\u001b[0mT\u001b[0m\u001b[1;33m)\u001b[0m\u001b[1;33m\u001b[0m\u001b[0m\n\u001b[0m\u001b[0;32m    179\u001b[0m         \u001b[1;32mreturn\u001b[0m \u001b[0mnabla_b\u001b[0m\u001b[1;33m,\u001b[0m \u001b[0mnabla_w\u001b[0m\u001b[1;33m\u001b[0m\u001b[0m\n\u001b[0;32m    180\u001b[0m \u001b[1;33m\u001b[0m\u001b[0m\n",
      "\u001b[1;31mKeyboardInterrupt\u001b[0m: "
     ]
    }
   ],
   "source": [
    "print(\"\\n\\n\".join(log_list) + \"\\n----\\n\")\n",
    "res = 10\n",
    "for _ in tqdm_notebook(range(10), desc=\"main\"):\n",
    "    for map_seed in map_seeds:\n",
    "        kvparams[\"map_seed\"] = map_seed\n",
    "        res = mine_data(log_list, dyn_plot, agent1, act_trainer, steps=4000, **kvparams)\n",
    "        if res > 2:\n",
    "            break\n",
    "        print(\"\")\n",
    "    if res > 2:\n",
    "        break"
   ]
  },
  {
   "cell_type": "code",
   "execution_count": null,
   "metadata": {
    "collapsed": true
   },
   "outputs": [],
   "source": []
  },
  {
   "cell_type": "code",
   "execution_count": null,
   "metadata": {
    "collapsed": true
   },
   "outputs": [],
   "source": []
  },
  {
   "cell_type": "code",
   "execution_count": null,
   "metadata": {
    "collapsed": true
   },
   "outputs": [],
   "source": []
  },
  {
   "cell_type": "code",
   "execution_count": null,
   "metadata": {
    "collapsed": true
   },
   "outputs": [],
   "source": []
  },
  {
   "cell_type": "code",
   "execution_count": null,
   "metadata": {
    "collapsed": true
   },
   "outputs": [],
   "source": []
  },
  {
   "cell_type": "code",
   "execution_count": null,
   "metadata": {
    "collapsed": true
   },
   "outputs": [],
   "source": [
    "import pickle"
   ]
  },
  {
   "cell_type": "code",
   "execution_count": null,
   "metadata": {
    "collapsed": true
   },
   "outputs": [],
   "source": [
    "agent1.to_file(\"nn_trained_on_50k.txt\")"
   ]
  },
  {
   "cell_type": "code",
   "execution_count": null,
   "metadata": {
    "collapsed": true
   },
   "outputs": [],
   "source": [
    "agent1.neural_net = None"
   ]
  },
  {
   "cell_type": "code",
   "execution_count": null,
   "metadata": {
    "collapsed": true
   },
   "outputs": [],
   "source": [
    "pickle.dump(agent1, open(\"agent1.pickle\", \"wb\"))"
   ]
  },
  {
   "cell_type": "code",
   "execution_count": null,
   "metadata": {
    "collapsed": true
   },
   "outputs": [],
   "source": [
    "agent1 = pickle.load(open(\"agent1.pickle\", \"rb\"))"
   ]
  },
  {
   "cell_type": "code",
   "execution_count": null,
   "metadata": {
    "collapsed": true
   },
   "outputs": [],
   "source": [
    "agent1.neural_net = agent1.from_file(\"nn_trained_on_50k.txt\").neural_net"
   ]
  },
  {
   "cell_type": "markdown",
   "metadata": {},
   "source": [
    "# Смотрим вживую"
   ]
  },
  {
   "cell_type": "code",
   "execution_count": null,
   "metadata": {
    "collapsed": true
   },
   "outputs": [],
   "source": [
    "def visualize(agent, map_seed):\n",
    "    w = create_map(seed=map_seed, agent=agent)\n",
    "    eval_res = w.evaluate_agent(agent, steps=1200, visual=True)\n",
    "    eval_circle = w.circles[agent]\n",
    "    print(f\"visualize on map = {map_seed}, eval_res = {eval_res:4f}, eval_circle = {eval_circle:4f}\")"
   ]
  },
  {
   "cell_type": "code",
   "execution_count": null,
   "metadata": {},
   "outputs": [],
   "source": [
    "for map_seed in map_seeds:\n",
    "    visualize(agent1, map_seed)"
   ]
  },
  {
   "cell_type": "markdown",
   "metadata": {},
   "source": [
    "# Отладка"
   ]
  },
  {
   "cell_type": "code",
   "execution_count": null,
   "metadata": {
    "collapsed": true
   },
   "outputs": [],
   "source": [
    "raise Exception(\"Здесь отладка\")"
   ]
  },
  {
   "cell_type": "raw",
   "metadata": {},
   "source": []
  },
  {
   "cell_type": "code",
   "execution_count": 21,
   "metadata": {},
   "outputs": [],
   "source": [
    "agent_dbg = agent1"
   ]
  },
  {
   "cell_type": "markdown",
   "metadata": {
    "collapsed": true
   },
   "source": [
    "agent_dbg.clear_history()\n",
    "#mine data\n",
    "w = create_map(seed=map_seed, agent=agent_dbg)\n",
    "w.run(steps=tqdm_notebook(range(10000), desc=\"train\", leave=False), visual=False, save=False)"
   ]
  },
  {
   "cell_type": "code",
   "execution_count": 22,
   "metadata": {},
   "outputs": [
    {
     "data": {
      "text/plain": [
       "-0.12005822168687524"
      ]
     },
     "execution_count": 22,
     "metadata": {},
     "output_type": "execute_result"
    }
   ],
   "source": [
    "# prepare train data\n",
    "X_train = np.concatenate([agent_dbg.sensor_data_history, agent_dbg.chosen_actions_history], axis=1)\n",
    "y_train = np.array(agent_dbg.reward_history)\n",
    "mean_train_revard = y_train.mean()\n",
    "y_train = norm_y(y_train)\n",
    "y_clean = y_train.copy()\n",
    "\n",
    "mean_train_revard"
   ]
  },
  {
   "cell_type": "code",
   "execution_count": 23,
   "metadata": {
    "collapsed": true
   },
   "outputs": [],
   "source": [
    "reward_shift = kvparams[\"reward_shift\"]\n",
    "alpha = kvparams[\"alpha\"]"
   ]
  },
  {
   "cell_type": "code",
   "execution_count": 24,
   "metadata": {
    "collapsed": true
   },
   "outputs": [],
   "source": [
    "y_train = np.pad(y_train, (0, 2 * reward_shift), mode=\"constant\")\n",
    "y_train = reduce(lambda a, b: a + b, [y_train[i:(-2 * reward_shift + i)] * (alpha ** i)\n",
    "                                      for i in range(reward_shift)])"
   ]
  },
  {
   "cell_type": "code",
   "execution_count": 25,
   "metadata": {
    "collapsed": true
   },
   "outputs": [],
   "source": [
    "y_predict = agent_dbg.neural_net.feedforward(X_train.T)"
   ]
  },
  {
   "cell_type": "code",
   "execution_count": 26,
   "metadata": {
    "collapsed": true
   },
   "outputs": [],
   "source": [
    "pd_visual = pd.DataFrame(X_train,\n",
    "                         columns=[\"velocity\", \"angle\"] +\n",
    "                         [\"lid{}\".format(i) for i in range(agent_dbg.rays)] +\n",
    "                         [\"steering\", \"acceleration\"])\n",
    "pd_visual[\"y_clean\"] = y_clean\n",
    "pd_visual[\"y_train\"] = y_train\n",
    "pd_visual[\"y_predict\"] = y_predict.flatten()"
   ]
  },
  {
   "cell_type": "markdown",
   "metadata": {},
   "source": [
    "## Смотрим на входные данные"
   ]
  },
  {
   "cell_type": "code",
   "execution_count": null,
   "metadata": {
    "collapsed": true
   },
   "outputs": [],
   "source": [
    "from functools import reduce"
   ]
  },
  {
   "cell_type": "code",
   "execution_count": null,
   "metadata": {
    "scrolled": true
   },
   "outputs": [],
   "source": [
    "pd_visual.loc[:4000]"
   ]
  },
  {
   "cell_type": "code",
   "execution_count": null,
   "metadata": {},
   "outputs": [],
   "source": [
    "pd_visual.steering.hist(bins=3)"
   ]
  },
  {
   "cell_type": "code",
   "execution_count": null,
   "metadata": {},
   "outputs": [],
   "source": [
    "pd_visual.acceleration.hist(bins=3)"
   ]
  },
  {
   "cell_type": "code",
   "execution_count": null,
   "metadata": {
    "collapsed": true
   },
   "outputs": [],
   "source": []
  },
  {
   "cell_type": "code",
   "execution_count": null,
   "metadata": {
    "collapsed": true
   },
   "outputs": [],
   "source": []
  },
  {
   "cell_type": "code",
   "execution_count": null,
   "metadata": {
    "collapsed": true
   },
   "outputs": [],
   "source": []
  },
  {
   "cell_type": "code",
   "execution_count": null,
   "metadata": {
    "collapsed": true,
    "scrolled": true
   },
   "outputs": [],
   "source": [
    "pd_visual[reduce(lambda a, b: a | b, [(pd_visual.y_clean < 0).shift(-i) for i in range(reward_shift+2)])].iloc[4000:]"
   ]
  },
  {
   "cell_type": "code",
   "execution_count": null,
   "metadata": {
    "collapsed": true
   },
   "outputs": [],
   "source": [
    "plt.ion()"
   ]
  },
  {
   "cell_type": "code",
   "execution_count": null,
   "metadata": {
    "collapsed": true
   },
   "outputs": [],
   "source": [
    "pd_visual[\"lid2\"].hist(bins=np.arange(0,5,0.1))"
   ]
  },
  {
   "cell_type": "code",
   "execution_count": null,
   "metadata": {
    "collapsed": true
   },
   "outputs": [],
   "source": [
    "pd_visual[reduce(lambda a, b: a | b, [(pd_visual.y_clean < 0).shift(-i) for i in range(5, 10)])] \\\n",
    "    [\"lid2\"].hist(bins=np.arange(0,5,0.1))"
   ]
  },
  {
   "cell_type": "code",
   "execution_count": null,
   "metadata": {
    "collapsed": true
   },
   "outputs": [],
   "source": []
  },
  {
   "cell_type": "code",
   "execution_count": null,
   "metadata": {
    "collapsed": true
   },
   "outputs": [],
   "source": []
  },
  {
   "cell_type": "code",
   "execution_count": null,
   "metadata": {
    "collapsed": true
   },
   "outputs": [],
   "source": []
  },
  {
   "cell_type": "code",
   "execution_count": null,
   "metadata": {
    "collapsed": true
   },
   "outputs": [],
   "source": []
  },
  {
   "cell_type": "code",
   "execution_count": null,
   "metadata": {
    "collapsed": true
   },
   "outputs": [],
   "source": []
  },
  {
   "cell_type": "code",
   "execution_count": null,
   "metadata": {
    "collapsed": true
   },
   "outputs": [],
   "source": []
  },
  {
   "cell_type": "code",
   "execution_count": null,
   "metadata": {
    "collapsed": true
   },
   "outputs": [],
   "source": []
  },
  {
   "cell_type": "code",
   "execution_count": null,
   "metadata": {
    "collapsed": true
   },
   "outputs": [],
   "source": []
  },
  {
   "cell_type": "code",
   "execution_count": null,
   "metadata": {
    "collapsed": true
   },
   "outputs": [],
   "source": []
  },
  {
   "cell_type": "code",
   "execution_count": null,
   "metadata": {
    "collapsed": true
   },
   "outputs": [],
   "source": []
  },
  {
   "cell_type": "markdown",
   "metadata": {},
   "source": [
    "## Смотрим как сеть реагирует на входные данные"
   ]
  },
  {
   "cell_type": "code",
   "execution_count": null,
   "metadata": {
    "collapsed": true
   },
   "outputs": [],
   "source": [
    "(pd_visual.y_clean[200:] < 0).argmax()"
   ]
  },
  {
   "cell_type": "code",
   "execution_count": null,
   "metadata": {
    "collapsed": true
   },
   "outputs": [],
   "source": [
    "pd_visual.loc[265:285]"
   ]
  },
  {
   "cell_type": "code",
   "execution_count": null,
   "metadata": {
    "collapsed": true
   },
   "outputs": [],
   "source": [
    "from cars.utils import Action"
   ]
  },
  {
   "cell_type": "code",
   "execution_count": null,
   "metadata": {
    "collapsed": true
   },
   "outputs": [],
   "source": [
    "sensor_info = pd_visual.loc[273].values[:7]\n",
    "rewards_to_controls_map = []\n",
    "# дискретизируем множество значений, так как все возможные мы точно предсказать не сможем\n",
    "for steering in np.linspace(-1, 1, 3):  # выбирать можно и другую частоту дискретизации, но\n",
    "    for acceleration in np.linspace(-0.75, 0.75, 3):  # в наших тестах будет именно такая\n",
    "        action = Action(steering, acceleration)\n",
    "        agent_vector_representation = np.append(sensor_info, action)\n",
    "        agent_vector_representation = agent_vector_representation.flatten()[:, np.newaxis]\n",
    "        predicted_reward = float(agent_dbg.neural_net.feedforward(agent_vector_representation))\n",
    "        rewards_to_controls_map.append((predicted_reward, action))\n",
    "\n",
    "rewards_to_controls_map"
   ]
  },
  {
   "cell_type": "code",
   "execution_count": null,
   "metadata": {
    "collapsed": true
   },
   "outputs": [],
   "source": [
    "sorted(rewards_to_controls_map, key=lambda x: x[0])[-1]"
   ]
  },
  {
   "cell_type": "code",
   "execution_count": null,
   "metadata": {
    "collapsed": true
   },
   "outputs": [],
   "source": [
    "sensor_info = pd_visual.loc[275].values[:7]\n",
    "rewards_to_controls_map = []\n",
    "# дискретизируем множество значений, так как все возможные мы точно предсказать не сможем\n",
    "for steering in np.linspace(-1, 1, 3):  # выбирать можно и другую частоту дискретизации, но\n",
    "    for acceleration in np.linspace(-0.75, 0.75, 3):  # в наших тестах будет именно такая\n",
    "        action = Action(steering, acceleration)\n",
    "        agent_vector_representation = np.append(sensor_info, action)\n",
    "        agent_vector_representation = agent_vector_representation.flatten()[:, np.newaxis]\n",
    "        predicted_reward = float(agent_dbg.neural_net.feedforward(agent_vector_representation))\n",
    "        rewards_to_controls_map.append((predicted_reward, action))\n",
    "\n",
    "rewards_to_controls_map"
   ]
  },
  {
   "cell_type": "code",
   "execution_count": null,
   "metadata": {
    "collapsed": true
   },
   "outputs": [],
   "source": [
    "sorted(rewards_to_controls_map, key=lambda x: x[0])[-1]"
   ]
  },
  {
   "cell_type": "code",
   "execution_count": null,
   "metadata": {
    "collapsed": true,
    "scrolled": false
   },
   "outputs": [],
   "source": [
    "pd_visual[-8000:-6000].plot(y=[\"y_clean\", \"y_train\", \"y_predict\"], figsize=(64, 4))"
   ]
  },
  {
   "cell_type": "code",
   "execution_count": null,
   "metadata": {
    "collapsed": true
   },
   "outputs": [],
   "source": [
    "rmse_before = ((pd_visual.y_train - pd_visual.y_predict)**2).mean() ** 0.5\n",
    "rmse_before"
   ]
  },
  {
   "cell_type": "markdown",
   "metadata": {},
   "source": [
    "# Смотрим как сеть учится"
   ]
  },
  {
   "cell_type": "code",
   "execution_count": 31,
   "metadata": {},
   "outputs": [
    {
     "data": {
      "text/plain": [
       "{'alpha': 0.7,\n",
       " 'clear_history': False,\n",
       " 'epochs': 100,\n",
       " 'eta': 0.1,\n",
       " 'map_seed': 18,\n",
       " 'mini_batch_size': 50,\n",
       " 'reward_shift': 3}"
      ]
     },
     "execution_count": 31,
     "metadata": {},
     "output_type": "execute_result"
    }
   ],
   "source": [
    "kvparams"
   ]
  },
  {
   "cell_type": "code",
   "execution_count": 34,
   "metadata": {
    "collapsed": true
   },
   "outputs": [],
   "source": [
    "plt.ion()"
   ]
  },
  {
   "cell_type": "code",
   "execution_count": 28,
   "metadata": {
    "collapsed": true
   },
   "outputs": [],
   "source": [
    "train_data = [(x[:, np.newaxis], y) for x, y in zip(X_train, y_train)]"
   ]
  },
  {
   "cell_type": "code",
   "execution_count": 92,
   "metadata": {
    "collapsed": true
   },
   "outputs": [],
   "source": [
    "from learning_algorithms.network import Network\n",
    "agent_dbg.neural_net = Network([9, 36, 20, 20, 10, 1], output_function=lambda x: x, output_derivative=lambda x: 1)"
   ]
  },
  {
   "cell_type": "code",
   "execution_count": 93,
   "metadata": {
    "collapsed": true
   },
   "outputs": [],
   "source": [
    "epoch_num = 1\n",
    "dyp_x = []\n",
    "dyp_y = []"
   ]
  },
  {
   "cell_type": "code",
   "execution_count": 94,
   "metadata": {
    "scrolled": false
   },
   "outputs": [
    {
     "data": {
      "application/javascript": [
       "/* Put everything inside the global mpl namespace */\n",
       "window.mpl = {};\n",
       "\n",
       "\n",
       "mpl.get_websocket_type = function() {\n",
       "    if (typeof(WebSocket) !== 'undefined') {\n",
       "        return WebSocket;\n",
       "    } else if (typeof(MozWebSocket) !== 'undefined') {\n",
       "        return MozWebSocket;\n",
       "    } else {\n",
       "        alert('Your browser does not have WebSocket support.' +\n",
       "              'Please try Chrome, Safari or Firefox ≥ 6. ' +\n",
       "              'Firefox 4 and 5 are also supported but you ' +\n",
       "              'have to enable WebSockets in about:config.');\n",
       "    };\n",
       "}\n",
       "\n",
       "mpl.figure = function(figure_id, websocket, ondownload, parent_element) {\n",
       "    this.id = figure_id;\n",
       "\n",
       "    this.ws = websocket;\n",
       "\n",
       "    this.supports_binary = (this.ws.binaryType != undefined);\n",
       "\n",
       "    if (!this.supports_binary) {\n",
       "        var warnings = document.getElementById(\"mpl-warnings\");\n",
       "        if (warnings) {\n",
       "            warnings.style.display = 'block';\n",
       "            warnings.textContent = (\n",
       "                \"This browser does not support binary websocket messages. \" +\n",
       "                    \"Performance may be slow.\");\n",
       "        }\n",
       "    }\n",
       "\n",
       "    this.imageObj = new Image();\n",
       "\n",
       "    this.context = undefined;\n",
       "    this.message = undefined;\n",
       "    this.canvas = undefined;\n",
       "    this.rubberband_canvas = undefined;\n",
       "    this.rubberband_context = undefined;\n",
       "    this.format_dropdown = undefined;\n",
       "\n",
       "    this.image_mode = 'full';\n",
       "\n",
       "    this.root = $('<div/>');\n",
       "    this._root_extra_style(this.root)\n",
       "    this.root.attr('style', 'display: inline-block');\n",
       "\n",
       "    $(parent_element).append(this.root);\n",
       "\n",
       "    this._init_header(this);\n",
       "    this._init_canvas(this);\n",
       "    this._init_toolbar(this);\n",
       "\n",
       "    var fig = this;\n",
       "\n",
       "    this.waiting = false;\n",
       "\n",
       "    this.ws.onopen =  function () {\n",
       "            fig.send_message(\"supports_binary\", {value: fig.supports_binary});\n",
       "            fig.send_message(\"send_image_mode\", {});\n",
       "            if (mpl.ratio != 1) {\n",
       "                fig.send_message(\"set_dpi_ratio\", {'dpi_ratio': mpl.ratio});\n",
       "            }\n",
       "            fig.send_message(\"refresh\", {});\n",
       "        }\n",
       "\n",
       "    this.imageObj.onload = function() {\n",
       "            if (fig.image_mode == 'full') {\n",
       "                // Full images could contain transparency (where diff images\n",
       "                // almost always do), so we need to clear the canvas so that\n",
       "                // there is no ghosting.\n",
       "                fig.context.clearRect(0, 0, fig.canvas.width, fig.canvas.height);\n",
       "            }\n",
       "            fig.context.drawImage(fig.imageObj, 0, 0);\n",
       "        };\n",
       "\n",
       "    this.imageObj.onunload = function() {\n",
       "        fig.ws.close();\n",
       "    }\n",
       "\n",
       "    this.ws.onmessage = this._make_on_message_function(this);\n",
       "\n",
       "    this.ondownload = ondownload;\n",
       "}\n",
       "\n",
       "mpl.figure.prototype._init_header = function() {\n",
       "    var titlebar = $(\n",
       "        '<div class=\"ui-dialog-titlebar ui-widget-header ui-corner-all ' +\n",
       "        'ui-helper-clearfix\"/>');\n",
       "    var titletext = $(\n",
       "        '<div class=\"ui-dialog-title\" style=\"width: 100%; ' +\n",
       "        'text-align: center; padding: 3px;\"/>');\n",
       "    titlebar.append(titletext)\n",
       "    this.root.append(titlebar);\n",
       "    this.header = titletext[0];\n",
       "}\n",
       "\n",
       "\n",
       "\n",
       "mpl.figure.prototype._canvas_extra_style = function(canvas_div) {\n",
       "\n",
       "}\n",
       "\n",
       "\n",
       "mpl.figure.prototype._root_extra_style = function(canvas_div) {\n",
       "\n",
       "}\n",
       "\n",
       "mpl.figure.prototype._init_canvas = function() {\n",
       "    var fig = this;\n",
       "\n",
       "    var canvas_div = $('<div/>');\n",
       "\n",
       "    canvas_div.attr('style', 'position: relative; clear: both; outline: 0');\n",
       "\n",
       "    function canvas_keyboard_event(event) {\n",
       "        return fig.key_event(event, event['data']);\n",
       "    }\n",
       "\n",
       "    canvas_div.keydown('key_press', canvas_keyboard_event);\n",
       "    canvas_div.keyup('key_release', canvas_keyboard_event);\n",
       "    this.canvas_div = canvas_div\n",
       "    this._canvas_extra_style(canvas_div)\n",
       "    this.root.append(canvas_div);\n",
       "\n",
       "    var canvas = $('<canvas/>');\n",
       "    canvas.addClass('mpl-canvas');\n",
       "    canvas.attr('style', \"left: 0; top: 0; z-index: 0; outline: 0\")\n",
       "\n",
       "    this.canvas = canvas[0];\n",
       "    this.context = canvas[0].getContext(\"2d\");\n",
       "\n",
       "    var backingStore = this.context.backingStorePixelRatio ||\n",
       "\tthis.context.webkitBackingStorePixelRatio ||\n",
       "\tthis.context.mozBackingStorePixelRatio ||\n",
       "\tthis.context.msBackingStorePixelRatio ||\n",
       "\tthis.context.oBackingStorePixelRatio ||\n",
       "\tthis.context.backingStorePixelRatio || 1;\n",
       "\n",
       "    mpl.ratio = (window.devicePixelRatio || 1) / backingStore;\n",
       "\n",
       "    var rubberband = $('<canvas/>');\n",
       "    rubberband.attr('style', \"position: absolute; left: 0; top: 0; z-index: 1;\")\n",
       "\n",
       "    var pass_mouse_events = true;\n",
       "\n",
       "    canvas_div.resizable({\n",
       "        start: function(event, ui) {\n",
       "            pass_mouse_events = false;\n",
       "        },\n",
       "        resize: function(event, ui) {\n",
       "            fig.request_resize(ui.size.width, ui.size.height);\n",
       "        },\n",
       "        stop: function(event, ui) {\n",
       "            pass_mouse_events = true;\n",
       "            fig.request_resize(ui.size.width, ui.size.height);\n",
       "        },\n",
       "    });\n",
       "\n",
       "    function mouse_event_fn(event) {\n",
       "        if (pass_mouse_events)\n",
       "            return fig.mouse_event(event, event['data']);\n",
       "    }\n",
       "\n",
       "    rubberband.mousedown('button_press', mouse_event_fn);\n",
       "    rubberband.mouseup('button_release', mouse_event_fn);\n",
       "    // Throttle sequential mouse events to 1 every 20ms.\n",
       "    rubberband.mousemove('motion_notify', mouse_event_fn);\n",
       "\n",
       "    rubberband.mouseenter('figure_enter', mouse_event_fn);\n",
       "    rubberband.mouseleave('figure_leave', mouse_event_fn);\n",
       "\n",
       "    canvas_div.on(\"wheel\", function (event) {\n",
       "        event = event.originalEvent;\n",
       "        event['data'] = 'scroll'\n",
       "        if (event.deltaY < 0) {\n",
       "            event.step = 1;\n",
       "        } else {\n",
       "            event.step = -1;\n",
       "        }\n",
       "        mouse_event_fn(event);\n",
       "    });\n",
       "\n",
       "    canvas_div.append(canvas);\n",
       "    canvas_div.append(rubberband);\n",
       "\n",
       "    this.rubberband = rubberband;\n",
       "    this.rubberband_canvas = rubberband[0];\n",
       "    this.rubberband_context = rubberband[0].getContext(\"2d\");\n",
       "    this.rubberband_context.strokeStyle = \"#000000\";\n",
       "\n",
       "    this._resize_canvas = function(width, height) {\n",
       "        // Keep the size of the canvas, canvas container, and rubber band\n",
       "        // canvas in synch.\n",
       "        canvas_div.css('width', width)\n",
       "        canvas_div.css('height', height)\n",
       "\n",
       "        canvas.attr('width', width * mpl.ratio);\n",
       "        canvas.attr('height', height * mpl.ratio);\n",
       "        canvas.attr('style', 'width: ' + width + 'px; height: ' + height + 'px;');\n",
       "\n",
       "        rubberband.attr('width', width);\n",
       "        rubberband.attr('height', height);\n",
       "    }\n",
       "\n",
       "    // Set the figure to an initial 600x600px, this will subsequently be updated\n",
       "    // upon first draw.\n",
       "    this._resize_canvas(600, 600);\n",
       "\n",
       "    // Disable right mouse context menu.\n",
       "    $(this.rubberband_canvas).bind(\"contextmenu\",function(e){\n",
       "        return false;\n",
       "    });\n",
       "\n",
       "    function set_focus () {\n",
       "        canvas.focus();\n",
       "        canvas_div.focus();\n",
       "    }\n",
       "\n",
       "    window.setTimeout(set_focus, 100);\n",
       "}\n",
       "\n",
       "mpl.figure.prototype._init_toolbar = function() {\n",
       "    var fig = this;\n",
       "\n",
       "    var nav_element = $('<div/>')\n",
       "    nav_element.attr('style', 'width: 100%');\n",
       "    this.root.append(nav_element);\n",
       "\n",
       "    // Define a callback function for later on.\n",
       "    function toolbar_event(event) {\n",
       "        return fig.toolbar_button_onclick(event['data']);\n",
       "    }\n",
       "    function toolbar_mouse_event(event) {\n",
       "        return fig.toolbar_button_onmouseover(event['data']);\n",
       "    }\n",
       "\n",
       "    for(var toolbar_ind in mpl.toolbar_items) {\n",
       "        var name = mpl.toolbar_items[toolbar_ind][0];\n",
       "        var tooltip = mpl.toolbar_items[toolbar_ind][1];\n",
       "        var image = mpl.toolbar_items[toolbar_ind][2];\n",
       "        var method_name = mpl.toolbar_items[toolbar_ind][3];\n",
       "\n",
       "        if (!name) {\n",
       "            // put a spacer in here.\n",
       "            continue;\n",
       "        }\n",
       "        var button = $('<button/>');\n",
       "        button.addClass('ui-button ui-widget ui-state-default ui-corner-all ' +\n",
       "                        'ui-button-icon-only');\n",
       "        button.attr('role', 'button');\n",
       "        button.attr('aria-disabled', 'false');\n",
       "        button.click(method_name, toolbar_event);\n",
       "        button.mouseover(tooltip, toolbar_mouse_event);\n",
       "\n",
       "        var icon_img = $('<span/>');\n",
       "        icon_img.addClass('ui-button-icon-primary ui-icon');\n",
       "        icon_img.addClass(image);\n",
       "        icon_img.addClass('ui-corner-all');\n",
       "\n",
       "        var tooltip_span = $('<span/>');\n",
       "        tooltip_span.addClass('ui-button-text');\n",
       "        tooltip_span.html(tooltip);\n",
       "\n",
       "        button.append(icon_img);\n",
       "        button.append(tooltip_span);\n",
       "\n",
       "        nav_element.append(button);\n",
       "    }\n",
       "\n",
       "    var fmt_picker_span = $('<span/>');\n",
       "\n",
       "    var fmt_picker = $('<select/>');\n",
       "    fmt_picker.addClass('mpl-toolbar-option ui-widget ui-widget-content');\n",
       "    fmt_picker_span.append(fmt_picker);\n",
       "    nav_element.append(fmt_picker_span);\n",
       "    this.format_dropdown = fmt_picker[0];\n",
       "\n",
       "    for (var ind in mpl.extensions) {\n",
       "        var fmt = mpl.extensions[ind];\n",
       "        var option = $(\n",
       "            '<option/>', {selected: fmt === mpl.default_extension}).html(fmt);\n",
       "        fmt_picker.append(option)\n",
       "    }\n",
       "\n",
       "    // Add hover states to the ui-buttons\n",
       "    $( \".ui-button\" ).hover(\n",
       "        function() { $(this).addClass(\"ui-state-hover\");},\n",
       "        function() { $(this).removeClass(\"ui-state-hover\");}\n",
       "    );\n",
       "\n",
       "    var status_bar = $('<span class=\"mpl-message\"/>');\n",
       "    nav_element.append(status_bar);\n",
       "    this.message = status_bar[0];\n",
       "}\n",
       "\n",
       "mpl.figure.prototype.request_resize = function(x_pixels, y_pixels) {\n",
       "    // Request matplotlib to resize the figure. Matplotlib will then trigger a resize in the client,\n",
       "    // which will in turn request a refresh of the image.\n",
       "    this.send_message('resize', {'width': x_pixels, 'height': y_pixels});\n",
       "}\n",
       "\n",
       "mpl.figure.prototype.send_message = function(type, properties) {\n",
       "    properties['type'] = type;\n",
       "    properties['figure_id'] = this.id;\n",
       "    this.ws.send(JSON.stringify(properties));\n",
       "}\n",
       "\n",
       "mpl.figure.prototype.send_draw_message = function() {\n",
       "    if (!this.waiting) {\n",
       "        this.waiting = true;\n",
       "        this.ws.send(JSON.stringify({type: \"draw\", figure_id: this.id}));\n",
       "    }\n",
       "}\n",
       "\n",
       "\n",
       "mpl.figure.prototype.handle_save = function(fig, msg) {\n",
       "    var format_dropdown = fig.format_dropdown;\n",
       "    var format = format_dropdown.options[format_dropdown.selectedIndex].value;\n",
       "    fig.ondownload(fig, format);\n",
       "}\n",
       "\n",
       "\n",
       "mpl.figure.prototype.handle_resize = function(fig, msg) {\n",
       "    var size = msg['size'];\n",
       "    if (size[0] != fig.canvas.width || size[1] != fig.canvas.height) {\n",
       "        fig._resize_canvas(size[0], size[1]);\n",
       "        fig.send_message(\"refresh\", {});\n",
       "    };\n",
       "}\n",
       "\n",
       "mpl.figure.prototype.handle_rubberband = function(fig, msg) {\n",
       "    var x0 = msg['x0'] / mpl.ratio;\n",
       "    var y0 = (fig.canvas.height - msg['y0']) / mpl.ratio;\n",
       "    var x1 = msg['x1'] / mpl.ratio;\n",
       "    var y1 = (fig.canvas.height - msg['y1']) / mpl.ratio;\n",
       "    x0 = Math.floor(x0) + 0.5;\n",
       "    y0 = Math.floor(y0) + 0.5;\n",
       "    x1 = Math.floor(x1) + 0.5;\n",
       "    y1 = Math.floor(y1) + 0.5;\n",
       "    var min_x = Math.min(x0, x1);\n",
       "    var min_y = Math.min(y0, y1);\n",
       "    var width = Math.abs(x1 - x0);\n",
       "    var height = Math.abs(y1 - y0);\n",
       "\n",
       "    fig.rubberband_context.clearRect(\n",
       "        0, 0, fig.canvas.width, fig.canvas.height);\n",
       "\n",
       "    fig.rubberband_context.strokeRect(min_x, min_y, width, height);\n",
       "}\n",
       "\n",
       "mpl.figure.prototype.handle_figure_label = function(fig, msg) {\n",
       "    // Updates the figure title.\n",
       "    fig.header.textContent = msg['label'];\n",
       "}\n",
       "\n",
       "mpl.figure.prototype.handle_cursor = function(fig, msg) {\n",
       "    var cursor = msg['cursor'];\n",
       "    switch(cursor)\n",
       "    {\n",
       "    case 0:\n",
       "        cursor = 'pointer';\n",
       "        break;\n",
       "    case 1:\n",
       "        cursor = 'default';\n",
       "        break;\n",
       "    case 2:\n",
       "        cursor = 'crosshair';\n",
       "        break;\n",
       "    case 3:\n",
       "        cursor = 'move';\n",
       "        break;\n",
       "    }\n",
       "    fig.rubberband_canvas.style.cursor = cursor;\n",
       "}\n",
       "\n",
       "mpl.figure.prototype.handle_message = function(fig, msg) {\n",
       "    fig.message.textContent = msg['message'];\n",
       "}\n",
       "\n",
       "mpl.figure.prototype.handle_draw = function(fig, msg) {\n",
       "    // Request the server to send over a new figure.\n",
       "    fig.send_draw_message();\n",
       "}\n",
       "\n",
       "mpl.figure.prototype.handle_image_mode = function(fig, msg) {\n",
       "    fig.image_mode = msg['mode'];\n",
       "}\n",
       "\n",
       "mpl.figure.prototype.updated_canvas_event = function() {\n",
       "    // Called whenever the canvas gets updated.\n",
       "    this.send_message(\"ack\", {});\n",
       "}\n",
       "\n",
       "// A function to construct a web socket function for onmessage handling.\n",
       "// Called in the figure constructor.\n",
       "mpl.figure.prototype._make_on_message_function = function(fig) {\n",
       "    return function socket_on_message(evt) {\n",
       "        if (evt.data instanceof Blob) {\n",
       "            /* FIXME: We get \"Resource interpreted as Image but\n",
       "             * transferred with MIME type text/plain:\" errors on\n",
       "             * Chrome.  But how to set the MIME type?  It doesn't seem\n",
       "             * to be part of the websocket stream */\n",
       "            evt.data.type = \"image/png\";\n",
       "\n",
       "            /* Free the memory for the previous frames */\n",
       "            if (fig.imageObj.src) {\n",
       "                (window.URL || window.webkitURL).revokeObjectURL(\n",
       "                    fig.imageObj.src);\n",
       "            }\n",
       "\n",
       "            fig.imageObj.src = (window.URL || window.webkitURL).createObjectURL(\n",
       "                evt.data);\n",
       "            fig.updated_canvas_event();\n",
       "            fig.waiting = false;\n",
       "            return;\n",
       "        }\n",
       "        else if (typeof evt.data === 'string' && evt.data.slice(0, 21) == \"data:image/png;base64\") {\n",
       "            fig.imageObj.src = evt.data;\n",
       "            fig.updated_canvas_event();\n",
       "            fig.waiting = false;\n",
       "            return;\n",
       "        }\n",
       "\n",
       "        var msg = JSON.parse(evt.data);\n",
       "        var msg_type = msg['type'];\n",
       "\n",
       "        // Call the  \"handle_{type}\" callback, which takes\n",
       "        // the figure and JSON message as its only arguments.\n",
       "        try {\n",
       "            var callback = fig[\"handle_\" + msg_type];\n",
       "        } catch (e) {\n",
       "            console.log(\"No handler for the '\" + msg_type + \"' message type: \", msg);\n",
       "            return;\n",
       "        }\n",
       "\n",
       "        if (callback) {\n",
       "            try {\n",
       "                // console.log(\"Handling '\" + msg_type + \"' message: \", msg);\n",
       "                callback(fig, msg);\n",
       "            } catch (e) {\n",
       "                console.log(\"Exception inside the 'handler_\" + msg_type + \"' callback:\", e, e.stack, msg);\n",
       "            }\n",
       "        }\n",
       "    };\n",
       "}\n",
       "\n",
       "// from http://stackoverflow.com/questions/1114465/getting-mouse-location-in-canvas\n",
       "mpl.findpos = function(e) {\n",
       "    //this section is from http://www.quirksmode.org/js/events_properties.html\n",
       "    var targ;\n",
       "    if (!e)\n",
       "        e = window.event;\n",
       "    if (e.target)\n",
       "        targ = e.target;\n",
       "    else if (e.srcElement)\n",
       "        targ = e.srcElement;\n",
       "    if (targ.nodeType == 3) // defeat Safari bug\n",
       "        targ = targ.parentNode;\n",
       "\n",
       "    // jQuery normalizes the pageX and pageY\n",
       "    // pageX,Y are the mouse positions relative to the document\n",
       "    // offset() returns the position of the element relative to the document\n",
       "    var x = e.pageX - $(targ).offset().left;\n",
       "    var y = e.pageY - $(targ).offset().top;\n",
       "\n",
       "    return {\"x\": x, \"y\": y};\n",
       "};\n",
       "\n",
       "/*\n",
       " * return a copy of an object with only non-object keys\n",
       " * we need this to avoid circular references\n",
       " * http://stackoverflow.com/a/24161582/3208463\n",
       " */\n",
       "function simpleKeys (original) {\n",
       "  return Object.keys(original).reduce(function (obj, key) {\n",
       "    if (typeof original[key] !== 'object')\n",
       "        obj[key] = original[key]\n",
       "    return obj;\n",
       "  }, {});\n",
       "}\n",
       "\n",
       "mpl.figure.prototype.mouse_event = function(event, name) {\n",
       "    var canvas_pos = mpl.findpos(event)\n",
       "\n",
       "    if (name === 'button_press')\n",
       "    {\n",
       "        this.canvas.focus();\n",
       "        this.canvas_div.focus();\n",
       "    }\n",
       "\n",
       "    var x = canvas_pos.x * mpl.ratio;\n",
       "    var y = canvas_pos.y * mpl.ratio;\n",
       "\n",
       "    this.send_message(name, {x: x, y: y, button: event.button,\n",
       "                             step: event.step,\n",
       "                             guiEvent: simpleKeys(event)});\n",
       "\n",
       "    /* This prevents the web browser from automatically changing to\n",
       "     * the text insertion cursor when the button is pressed.  We want\n",
       "     * to control all of the cursor setting manually through the\n",
       "     * 'cursor' event from matplotlib */\n",
       "    event.preventDefault();\n",
       "    return false;\n",
       "}\n",
       "\n",
       "mpl.figure.prototype._key_event_extra = function(event, name) {\n",
       "    // Handle any extra behaviour associated with a key event\n",
       "}\n",
       "\n",
       "mpl.figure.prototype.key_event = function(event, name) {\n",
       "\n",
       "    // Prevent repeat events\n",
       "    if (name == 'key_press')\n",
       "    {\n",
       "        if (event.which === this._key)\n",
       "            return;\n",
       "        else\n",
       "            this._key = event.which;\n",
       "    }\n",
       "    if (name == 'key_release')\n",
       "        this._key = null;\n",
       "\n",
       "    var value = '';\n",
       "    if (event.ctrlKey && event.which != 17)\n",
       "        value += \"ctrl+\";\n",
       "    if (event.altKey && event.which != 18)\n",
       "        value += \"alt+\";\n",
       "    if (event.shiftKey && event.which != 16)\n",
       "        value += \"shift+\";\n",
       "\n",
       "    value += 'k';\n",
       "    value += event.which.toString();\n",
       "\n",
       "    this._key_event_extra(event, name);\n",
       "\n",
       "    this.send_message(name, {key: value,\n",
       "                             guiEvent: simpleKeys(event)});\n",
       "    return false;\n",
       "}\n",
       "\n",
       "mpl.figure.prototype.toolbar_button_onclick = function(name) {\n",
       "    if (name == 'download') {\n",
       "        this.handle_save(this, null);\n",
       "    } else {\n",
       "        this.send_message(\"toolbar_button\", {name: name});\n",
       "    }\n",
       "};\n",
       "\n",
       "mpl.figure.prototype.toolbar_button_onmouseover = function(tooltip) {\n",
       "    this.message.textContent = tooltip;\n",
       "};\n",
       "mpl.toolbar_items = [[\"Home\", \"Reset original view\", \"fa fa-home icon-home\", \"home\"], [\"Back\", \"Back to  previous view\", \"fa fa-arrow-left icon-arrow-left\", \"back\"], [\"Forward\", \"Forward to next view\", \"fa fa-arrow-right icon-arrow-right\", \"forward\"], [\"\", \"\", \"\", \"\"], [\"Pan\", \"Pan axes with left mouse, zoom with right\", \"fa fa-arrows icon-move\", \"pan\"], [\"Zoom\", \"Zoom to rectangle\", \"fa fa-square-o icon-check-empty\", \"zoom\"], [\"\", \"\", \"\", \"\"], [\"Download\", \"Download plot\", \"fa fa-floppy-o icon-save\", \"download\"]];\n",
       "\n",
       "mpl.extensions = [\"eps\", \"jpeg\", \"pdf\", \"png\", \"ps\", \"raw\", \"svg\", \"tif\"];\n",
       "\n",
       "mpl.default_extension = \"png\";var comm_websocket_adapter = function(comm) {\n",
       "    // Create a \"websocket\"-like object which calls the given IPython comm\n",
       "    // object with the appropriate methods. Currently this is a non binary\n",
       "    // socket, so there is still some room for performance tuning.\n",
       "    var ws = {};\n",
       "\n",
       "    ws.close = function() {\n",
       "        comm.close()\n",
       "    };\n",
       "    ws.send = function(m) {\n",
       "        //console.log('sending', m);\n",
       "        comm.send(m);\n",
       "    };\n",
       "    // Register the callback with on_msg.\n",
       "    comm.on_msg(function(msg) {\n",
       "        //console.log('receiving', msg['content']['data'], msg);\n",
       "        // Pass the mpl event to the overriden (by mpl) onmessage function.\n",
       "        ws.onmessage(msg['content']['data'])\n",
       "    });\n",
       "    return ws;\n",
       "}\n",
       "\n",
       "mpl.mpl_figure_comm = function(comm, msg) {\n",
       "    // This is the function which gets called when the mpl process\n",
       "    // starts-up an IPython Comm through the \"matplotlib\" channel.\n",
       "\n",
       "    var id = msg.content.data.id;\n",
       "    // Get hold of the div created by the display call when the Comm\n",
       "    // socket was opened in Python.\n",
       "    var element = $(\"#\" + id);\n",
       "    var ws_proxy = comm_websocket_adapter(comm)\n",
       "\n",
       "    function ondownload(figure, format) {\n",
       "        window.open(figure.imageObj.src);\n",
       "    }\n",
       "\n",
       "    var fig = new mpl.figure(id, ws_proxy,\n",
       "                           ondownload,\n",
       "                           element.get(0));\n",
       "\n",
       "    // Call onopen now - mpl needs it, as it is assuming we've passed it a real\n",
       "    // web socket which is closed, not our websocket->open comm proxy.\n",
       "    ws_proxy.onopen();\n",
       "\n",
       "    fig.parent_element = element.get(0);\n",
       "    fig.cell_info = mpl.find_output_cell(\"<div id='\" + id + \"'></div>\");\n",
       "    if (!fig.cell_info) {\n",
       "        console.error(\"Failed to find cell for figure\", id, fig);\n",
       "        return;\n",
       "    }\n",
       "\n",
       "    var output_index = fig.cell_info[2]\n",
       "    var cell = fig.cell_info[0];\n",
       "\n",
       "};\n",
       "\n",
       "mpl.figure.prototype.handle_close = function(fig, msg) {\n",
       "    var width = fig.canvas.width/mpl.ratio\n",
       "    fig.root.unbind('remove')\n",
       "\n",
       "    // Update the output cell to use the data from the current canvas.\n",
       "    fig.push_to_output();\n",
       "    var dataURL = fig.canvas.toDataURL();\n",
       "    // Re-enable the keyboard manager in IPython - without this line, in FF,\n",
       "    // the notebook keyboard shortcuts fail.\n",
       "    IPython.keyboard_manager.enable()\n",
       "    $(fig.parent_element).html('<img src=\"' + dataURL + '\" width=\"' + width + '\">');\n",
       "    fig.close_ws(fig, msg);\n",
       "}\n",
       "\n",
       "mpl.figure.prototype.close_ws = function(fig, msg){\n",
       "    fig.send_message('closing', msg);\n",
       "    // fig.ws.close()\n",
       "}\n",
       "\n",
       "mpl.figure.prototype.push_to_output = function(remove_interactive) {\n",
       "    // Turn the data on the canvas into data in the output cell.\n",
       "    var width = this.canvas.width/mpl.ratio\n",
       "    var dataURL = this.canvas.toDataURL();\n",
       "    this.cell_info[1]['text/html'] = '<img src=\"' + dataURL + '\" width=\"' + width + '\">';\n",
       "}\n",
       "\n",
       "mpl.figure.prototype.updated_canvas_event = function() {\n",
       "    // Tell IPython that the notebook contents must change.\n",
       "    IPython.notebook.set_dirty(true);\n",
       "    this.send_message(\"ack\", {});\n",
       "    var fig = this;\n",
       "    // Wait a second, then push the new image to the DOM so\n",
       "    // that it is saved nicely (might be nice to debounce this).\n",
       "    setTimeout(function () { fig.push_to_output() }, 1000);\n",
       "}\n",
       "\n",
       "mpl.figure.prototype._init_toolbar = function() {\n",
       "    var fig = this;\n",
       "\n",
       "    var nav_element = $('<div/>')\n",
       "    nav_element.attr('style', 'width: 100%');\n",
       "    this.root.append(nav_element);\n",
       "\n",
       "    // Define a callback function for later on.\n",
       "    function toolbar_event(event) {\n",
       "        return fig.toolbar_button_onclick(event['data']);\n",
       "    }\n",
       "    function toolbar_mouse_event(event) {\n",
       "        return fig.toolbar_button_onmouseover(event['data']);\n",
       "    }\n",
       "\n",
       "    for(var toolbar_ind in mpl.toolbar_items){\n",
       "        var name = mpl.toolbar_items[toolbar_ind][0];\n",
       "        var tooltip = mpl.toolbar_items[toolbar_ind][1];\n",
       "        var image = mpl.toolbar_items[toolbar_ind][2];\n",
       "        var method_name = mpl.toolbar_items[toolbar_ind][3];\n",
       "\n",
       "        if (!name) { continue; };\n",
       "\n",
       "        var button = $('<button class=\"btn btn-default\" href=\"#\" title=\"' + name + '\"><i class=\"fa ' + image + ' fa-lg\"></i></button>');\n",
       "        button.click(method_name, toolbar_event);\n",
       "        button.mouseover(tooltip, toolbar_mouse_event);\n",
       "        nav_element.append(button);\n",
       "    }\n",
       "\n",
       "    // Add the status bar.\n",
       "    var status_bar = $('<span class=\"mpl-message\" style=\"text-align:right; float: right;\"/>');\n",
       "    nav_element.append(status_bar);\n",
       "    this.message = status_bar[0];\n",
       "\n",
       "    // Add the close button to the window.\n",
       "    var buttongrp = $('<div class=\"btn-group inline pull-right\"></div>');\n",
       "    var button = $('<button class=\"btn btn-mini btn-primary\" href=\"#\" title=\"Stop Interaction\"><i class=\"fa fa-power-off icon-remove icon-large\"></i></button>');\n",
       "    button.click(function (evt) { fig.handle_close(fig, {}); } );\n",
       "    button.mouseover('Stop Interaction', toolbar_mouse_event);\n",
       "    buttongrp.append(button);\n",
       "    var titlebar = this.root.find($('.ui-dialog-titlebar'));\n",
       "    titlebar.prepend(buttongrp);\n",
       "}\n",
       "\n",
       "mpl.figure.prototype._root_extra_style = function(el){\n",
       "    var fig = this\n",
       "    el.on(\"remove\", function(){\n",
       "\tfig.close_ws(fig, {});\n",
       "    });\n",
       "}\n",
       "\n",
       "mpl.figure.prototype._canvas_extra_style = function(el){\n",
       "    // this is important to make the div 'focusable\n",
       "    el.attr('tabindex', 0)\n",
       "    // reach out to IPython and tell the keyboard manager to turn it's self\n",
       "    // off when our div gets focus\n",
       "\n",
       "    // location in version 3\n",
       "    if (IPython.notebook.keyboard_manager) {\n",
       "        IPython.notebook.keyboard_manager.register_events(el);\n",
       "    }\n",
       "    else {\n",
       "        // location in version 2\n",
       "        IPython.keyboard_manager.register_events(el);\n",
       "    }\n",
       "\n",
       "}\n",
       "\n",
       "mpl.figure.prototype._key_event_extra = function(event, name) {\n",
       "    var manager = IPython.notebook.keyboard_manager;\n",
       "    if (!manager)\n",
       "        manager = IPython.keyboard_manager;\n",
       "\n",
       "    // Check for shift+enter\n",
       "    if (event.shiftKey && event.which == 13) {\n",
       "        this.canvas_div.blur();\n",
       "        event.shiftKey = false;\n",
       "        // Send a \"J\" for go to next cell\n",
       "        event.which = 74;\n",
       "        event.keyCode = 74;\n",
       "        manager.command_mode();\n",
       "        manager.handle_keydown(event);\n",
       "    }\n",
       "}\n",
       "\n",
       "mpl.figure.prototype.handle_save = function(fig, msg) {\n",
       "    fig.ondownload(fig, null);\n",
       "}\n",
       "\n",
       "\n",
       "mpl.find_output_cell = function(html_output) {\n",
       "    // Return the cell and output element which can be found *uniquely* in the notebook.\n",
       "    // Note - this is a bit hacky, but it is done because the \"notebook_saving.Notebook\"\n",
       "    // IPython event is triggered only after the cells have been serialised, which for\n",
       "    // our purposes (turning an active figure into a static one), is too late.\n",
       "    var cells = IPython.notebook.get_cells();\n",
       "    var ncells = cells.length;\n",
       "    for (var i=0; i<ncells; i++) {\n",
       "        var cell = cells[i];\n",
       "        if (cell.cell_type === 'code'){\n",
       "            for (var j=0; j<cell.output_area.outputs.length; j++) {\n",
       "                var data = cell.output_area.outputs[j];\n",
       "                if (data.data) {\n",
       "                    // IPython >= 3 moved mimebundle to data attribute of output\n",
       "                    data = data.data;\n",
       "                }\n",
       "                if (data['text/html'] == html_output) {\n",
       "                    return [cell, data, j];\n",
       "                }\n",
       "            }\n",
       "        }\n",
       "    }\n",
       "}\n",
       "\n",
       "// Register the function which deals with the matplotlib target/channel.\n",
       "// The kernel may be null if the page has been refreshed.\n",
       "if (IPython.notebook.kernel != null) {\n",
       "    IPython.notebook.kernel.comm_manager.register_target('matplotlib', mpl.mpl_figure_comm);\n",
       "}\n"
      ],
      "text/plain": [
       "<IPython.core.display.Javascript object>"
      ]
     },
     "metadata": {},
     "output_type": "display_data"
    },
    {
     "data": {
      "text/html": [
       "<img src=\"data:image/png;base64,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\" width=\"640\">"
      ],
      "text/plain": [
       "<IPython.core.display.HTML object>"
      ]
     },
     "metadata": {},
     "output_type": "display_data"
    },
    {
     "name": "stdout",
     "output_type": "stream",
     "text": [
      "min rmse: 0.124154183800949\n"
     ]
    }
   ],
   "source": [
    "plt.ion()\n",
    "dyp = DynamicUpdate()\n",
    "dyp.on_launch()\n",
    "\n",
    "try:\n",
    "    for res in agent_dbg.neural_net.SGD(\n",
    "            training_data=train_data,\n",
    "            epochs=800, mini_batch_size=200, eta=0.4,\n",
    "            test_data=(X_train.T, y_train)):\n",
    "        dyp_x.append(epoch_num)\n",
    "        epoch_num += 1\n",
    "        dyp_y.append(res)\n",
    "        if epoch_num % 10 == 0:\n",
    "            dyp.on_running(dyp_x, dyp_y)\n",
    "except KeyboardInterrupt:\n",
    "    print(\"min rmse: {}\".format(min(dyp_y)))"
   ]
  },
  {
   "cell_type": "code",
   "execution_count": 88,
   "metadata": {},
   "outputs": [
    {
     "name": "stdout",
     "output_type": "stream",
     "text": [
      "- min rmse: 0.077144 for [9, 36, 20, 20, 10, 1]\n"
     ]
    }
   ],
   "source": [
    "print(\"- min rmse: {:4f} for {}\".format(min(dyp_y), agent_dbg.neural_net.sizes))"
   ]
  },
  {
   "cell_type": "markdown",
   "metadata": {},
   "source": [
    "- min rmse: 0.096779 for [9, 18, 8, 1], epochs=500, mini_batch_size=50, eta=0.5\n",
    "- min rmse: 0.097438 for [9, 18, 5, 5, 1], epochs=500, mini_batch_size=50, eta=0.5\n",
    "- min rmse: 0.095456 for [9, 18, 5, 5, 5, 1], epochs=500, mini_batch_size=50, eta=0.5\n",
    "- min rmse: 0.088339 for [9, 36, 10, 10, 10, 1], epochs=500, mini_batch_size=50, eta=0.5\n",
    "- min rmse: 0.089725 for [9, 36, 20, 20, 10, 1], epochs=800, mini_batch_size=80, eta=0.7\n",
    "- min rmse: 0.077144 for [9, 36, 20, 20, 10, 1], epochs=800, mini_batch_size=20, eta=1.4"
   ]
  },
  {
   "cell_type": "markdown",
   "metadata": {},
   "source": [
    "## Сравним"
   ]
  },
  {
   "cell_type": "code",
   "execution_count": 44,
   "metadata": {
    "collapsed": true
   },
   "outputs": [],
   "source": [
    "rfcls = RandomForestWrapper(n_jobs=50)"
   ]
  },
  {
   "cell_type": "code",
   "execution_count": 45,
   "metadata": {},
   "outputs": [],
   "source": [
    "next(rfcls.SGD(\n",
    "    training_data=train_data,\n",
    "    epochs=500,\n",
    "    mini_batch_size=50,\n",
    "    eta=0.1))"
   ]
  },
  {
   "cell_type": "code",
   "execution_count": 46,
   "metadata": {},
   "outputs": [
    {
     "data": {
      "text/plain": [
       "0.039722006904538754"
      ]
     },
     "execution_count": 46,
     "metadata": {},
     "output_type": "execute_result"
    }
   ],
   "source": [
    "rfcls.evaluate(X_train.T, y_train)"
   ]
  },
  {
   "cell_type": "code",
   "execution_count": null,
   "metadata": {
    "collapsed": true
   },
   "outputs": [],
   "source": []
  }
 ],
 "metadata": {
  "kernelspec": {
   "display_name": "Python 3",
   "language": "python",
   "name": "python3"
  },
  "language_info": {
   "codemirror_mode": {
    "name": "ipython",
    "version": 3
   },
   "file_extension": ".py",
   "mimetype": "text/x-python",
   "name": "python",
   "nbconvert_exporter": "python",
   "pygments_lexer": "ipython3",
   "version": "3.6.3"
  },
  "widgets": {
   "state": {
    "49a8b45c8bbc486e8e4965bf0fcadc22": {
     "views": [
      {
       "cell_index": 22
      }
     ]
    },
    "69a994e8f5444e06871f554c0e5fa43e": {
     "views": [
      {
       "cell_index": 22
      }
     ]
    },
    "7343f9f4c68b4141a9e5f79120cbb2a4": {
     "views": [
      {
       "cell_index": 20
      }
     ]
    },
    "dc2fa55e44f0490bbe05ac4a649b3b55": {
     "views": [
      {
       "cell_index": 18
      }
     ]
    },
    "e63da820598e428ea7fc55a2dad3ca7f": {
     "views": [
      {
       "cell_index": 22
      }
     ]
    }
   },
   "version": "1.2.0"
  }
 },
 "nbformat": 4,
 "nbformat_minor": 2
}
