{
 "cells": [
  {
   "cell_type": "markdown",
   "metadata": {},
   "source": [
    "# run_car"
   ]
  },
  {
   "cell_type": "code",
   "execution_count": 1,
   "metadata": {
    "collapsed": true
   },
   "outputs": [],
   "source": [
    "import datetime\n",
    "import numpy as np\n",
    "import random"
   ]
  },
  {
   "cell_type": "code",
   "execution_count": 2,
   "metadata": {
    "collapsed": true
   },
   "outputs": [],
   "source": [
    "from cars.world import SimpleCarWorld\n",
    "from cars.agent import SimpleCarAgent\n",
    "from cars.physics import SimplePhysics\n",
    "from cars.track import generate_map"
   ]
  },
  {
   "cell_type": "markdown",
   "metadata": {},
   "source": [
    "# базовый пример кода\n",
    "```\n",
    "if filename:\n",
    "    agent = SimpleCarAgent.from_file(filename)\n",
    "    w = SimpleCarWorld(1, m, SimplePhysics, SimpleCarAgent, timedelta=0.2)\n",
    "    if evaluate:\n",
    "        print(w.evaluate_agent(agent, steps))\n",
    "    else:\n",
    "        w.set_agents([agent])\n",
    "        w.run(steps)\n",
    "else:\n",
    "    w = SimpleCarWorld(1, m, SimplePhysics, SimpleCarAgent, timedelta=0.2)\n",
    "    w.run(steps)\n",
    "```"
   ]
  },
  {
   "cell_type": "code",
   "execution_count": 3,
   "metadata": {
    "collapsed": true
   },
   "outputs": [],
   "source": [
    "def create_map(seed, agent):\n",
    "    np.random.seed(seed)\n",
    "    random.seed(seed)\n",
    "    m = generate_map(8, 5, 3, 3)\n",
    "    w = SimpleCarWorld([agent], m, SimplePhysics, None, timedelta=0.2)\n",
    "    return w"
   ]
  },
  {
   "cell_type": "markdown",
   "metadata": {},
   "source": [
    "# Агент"
   ]
  },
  {
   "cell_type": "code",
   "execution_count": 4,
   "metadata": {},
   "outputs": [],
   "source": [
    "random.seed(42)\n",
    "np.random.seed(42)\n",
    "agent = SimpleCarAgent(name=\"Ivan\")"
   ]
  },
  {
   "cell_type": "markdown",
   "metadata": {},
   "source": [
    "agent = SimpleCarAgent.from_file('network_config_agent_0_layers_9_6_1.txt')"
   ]
  },
  {
   "cell_type": "markdown",
   "metadata": {},
   "source": [
    "# Параметры"
   ]
  },
  {
   "cell_type": "code",
   "execution_count": 5,
   "metadata": {
    "collapsed": true
   },
   "outputs": [],
   "source": [
    "train_params = [\n",
    "    (0.20, 1000,),\n",
    "    #(0.05, 1000,),\n",
    "]\n",
    "\n",
    "map_seeds = [23, 15, 21, 42]"
   ]
  },
  {
   "cell_type": "markdown",
   "metadata": {},
   "source": [
    "# Учим модель"
   ]
  },
  {
   "cell_type": "code",
   "execution_count": 6,
   "metadata": {
    "scrolled": false
   },
   "outputs": [
    {
     "name": "stdout",
     "output_type": "stream",
     "text": [
      "train on map = 23\n",
      "revard -0.064\n",
      "revard -1.35801062695\n",
      "revard -1.69651846736\n",
      "revard -0.661587141241\n",
      "revard -0.704495426504\n",
      "revard -1.22663147661\n",
      "revard -1.03628264085\n",
      "revard -0.687414405118\n",
      "revard -1.02693676507\n",
      "revard -1.13404161575\n",
      "revard -1.16615853989\n",
      "revard -0.873867338079\n",
      "revard -1.12617201095\n",
      "revard -2.25394622864\n",
      "revard -1.85885891923\n",
      "revard -1.17164185309\n",
      "revard -1.1181635634\n",
      "revard -0.485261721807\n",
      "revard -0.754479980969\n",
      "revard -0.883449010199\n",
      "Saved agent parameters to 'network_config_agent_0_layers_9_6_1.txt'\n",
      "train on map = 15\n",
      "revard -0.899356090711\n",
      "revard -0.652099246144\n",
      "revard -0.298421200788\n",
      "revard -0.832\n",
      "revard -1.12\n",
      "revard -0.896\n",
      "revard -0.544\n",
      "revard -0.064\n",
      "revard -0.0866323258665\n",
      "revard -0.630632325866\n",
      "revard -0.8\n",
      "revard -0.365982992418\n",
      "revard -0.307889491875\n",
      "revard -0.524790464769\n",
      "revard -0.358883965312\n",
      "revard -0.367221315967\n",
      "revard -1.29799495197\n",
      "revard -1.36243445457\n",
      "revard -0.578664532156\n",
      "revard -0.365577635071\n",
      "Saved agent parameters to 'network_config_agent_0_layers_9_6_1.txt'\n",
      "train on map = 21\n",
      "revard -0.192\n",
      "revard -0.352\n",
      "revard -0.281319407718\n",
      "revard -0.0253194077184\n",
      "revard -0.096\n",
      "revard -0.218764206285\n",
      "revard -0.122764206285\n",
      "revard -0.375775553188\n",
      "revard -0.599775553188\n",
      "revard -0.248264541025\n",
      "revard -0.609415811842\n",
      "revard -0.733227152516\n",
      "revard -0.494209218087\n",
      "revard -0.44623278798\n",
      "revard -0.169905814878\n",
      "revard -0.259863144643\n",
      "revard -0.808986594355\n",
      "revard -1.52656178948\n",
      "revard -1.26153905296\n",
      "revard -0.987527433865\n",
      "Saved agent parameters to 'network_config_agent_0_layers_9_6_1.txt'\n",
      "train on map = 42\n",
      "revard -0.064\n",
      "revard -0.064\n",
      "revard -0.151968510982\n",
      "revard -0.358765650678\n",
      "revard -0.353036303868\n",
      "revard -0.255720946528\n",
      "revard -0.850022668163\n",
      "revard -1.58830825507\n",
      "revard -1.2826978598\n",
      "revard -0.859357165183\n",
      "revard -1.05869944054\n",
      "revard -1.57913833219\n",
      "revard -2.19130297748\n",
      "revard -2.09421534797\n",
      "revard -1.29892241102\n",
      "revard -0.862248061634\n",
      "revard -1.21492551935\n",
      "revard -1.56055110194\n",
      "revard -1.48011640434\n",
      "revard -1.83368095198\n",
      "Saved agent parameters to 'network_config_agent_0_layers_9_6_1.txt'\n"
     ]
    }
   ],
   "source": [
    "for rap, steps in train_params:\n",
    "    agent.RANDOM_ACTION_P = rap\n",
    "\n",
    "    for map_seed in map_seeds:\n",
    "        print(\"train on map = {}\".format(map_seed))\n",
    "\n",
    "        # Меняем карту\n",
    "        w = create_map(seed=map_seed, agent=agent)\n",
    "\n",
    "        # Учимся\n",
    "        w.run(steps=steps, visual=False)\n",
    "\n",
    "        # чистим историю: не учимся повторно на старой карте, ускоряемся\n",
    "        agent.clear_history()"
   ]
  },
  {
   "cell_type": "markdown",
   "metadata": {},
   "source": [
    "# Смотрим вживую и продолжаем учиться"
   ]
  },
  {
   "cell_type": "code",
   "execution_count": 8,
   "metadata": {},
   "outputs": [
    {
     "name": "stdout",
     "output_type": "stream",
     "text": [
      "train on map = 23\n",
      "Saved agent parameters to 'network_config_agent_0_layers_9_6_1.txt'\n"
     ]
    }
   ],
   "source": [
    "agent.RANDOM_ACTION_P = 0.00\n",
    "\n",
    "for map_seed in map_seeds[:1]:\n",
    "    print(\"train on map = {}\".format(map_seed))\n",
    "\n",
    "    # Меняем карту\n",
    "    w = create_map(seed=map_seed, agent=agent)\n",
    "\n",
    "    # Учимся\n",
    "    w.run(steps=None, visual=True)"
   ]
  },
  {
   "cell_type": "code",
   "execution_count": null,
   "metadata": {
    "collapsed": true
   },
   "outputs": [],
   "source": [
    "# чистим историю: не учимся повторно на старой карте, ускоряемся\n",
    "agent.clear_history()"
   ]
  },
  {
   "cell_type": "markdown",
   "metadata": {},
   "source": [
    "# Оцениваем"
   ]
  },
  {
   "cell_type": "code",
   "execution_count": 7,
   "metadata": {},
   "outputs": [
    {
     "name": "stdout",
     "output_type": "stream",
     "text": [
      "- time = 2018-01-24 00:41:18.886220, train_params = [(0.2, 1000)]\n",
      "  - evaluate_agent on map = 23, reward = -1.7741872447429086\n",
      "  - evaluate_agent on map = 15, reward = -1.5800781959803243\n",
      "  - evaluate_agent on map = 21, reward = -0.8135290975234429\n",
      "  - evaluate_agent on map = 42, reward = -1.7857630295989895\n"
     ]
    }
   ],
   "source": [
    "print(\"- time = {}, train_params = {}\".format(datetime.datetime.now(), train_params))\n",
    "\n",
    "for map_seed in map_seeds:\n",
    "    # Меняем карту\n",
    "    w = create_map(seed=map_seed, agent=agent)\n",
    "    \n",
    "    # оцениваем\n",
    "    revard = w.evaluate_agent(agent, steps=800, visual=False)\n",
    "    print(\"  - evaluate_agent on map = {}, reward = {}\".format(map_seed, revard))"
   ]
  },
  {
   "cell_type": "markdown",
   "metadata": {},
   "source": [
    "- time = 2018-01-24 00:37:51.303347, train_params = [(0.2, 1000)]\n",
    "  - evaluate_agent on map = 23, reward = -1.7741872447429086\n",
    "  - evaluate_agent on map = 15, reward = -1.5800781959803243\n",
    "  - evaluate_agent on map = 21, reward = -0.8135290975234429\n",
    "  - evaluate_agent on map = 42, reward = -1.7857630295989895\n"
   ]
  },
  {
   "cell_type": "markdown",
   "metadata": {},
   "source": [
    "# Немного покатаемся для отладки"
   ]
  },
  {
   "cell_type": "code",
   "execution_count": null,
   "metadata": {
    "collapsed": true
   },
   "outputs": [],
   "source": [
    "for map_seed in map_seeds:\n",
    "    # Меняем карту\n",
    "    w = create_map(seed=map_seed, agent=agent)\n",
    "    \n",
    "    # оцениваем\n",
    "    revard = w.evaluate_agent(agent, steps=200, visual=True)\n",
    "    print(\"evaluate_agent on map = {}, reward = {}\".format(map_seed, revard))"
   ]
  },
  {
   "cell_type": "markdown",
   "metadata": {},
   "source": [
    "# Debug"
   ]
  },
  {
   "cell_type": "code",
   "execution_count": null,
   "metadata": {
    "collapsed": true
   },
   "outputs": [],
   "source": [
    "agent = w.agents[0]"
   ]
  },
  {
   "cell_type": "code",
   "execution_count": null,
   "metadata": {
    "collapsed": true
   },
   "outputs": [],
   "source": [
    "np.concatenate([\n",
    "    np.array(agent.sensor_data_history)[:,:1],\n",
    "    np.array(agent.chosen_actions_history),\n",
    "    np.array(agent.reward_history).reshape(-1,1)\n",
    "], axis=1)"
   ]
  },
  {
   "cell_type": "code",
   "execution_count": null,
   "metadata": {
    "collapsed": true
   },
   "outputs": [],
   "source": [
    "agent.RANDOM_ACTION_P"
   ]
  },
  {
   "cell_type": "code",
   "execution_count": null,
   "metadata": {
    "collapsed": true
   },
   "outputs": [],
   "source": []
  }
 ],
 "metadata": {
  "kernelspec": {
   "display_name": "Python 3",
   "language": "python",
   "name": "python3"
  },
  "language_info": {
   "codemirror_mode": {
    "name": "ipython",
    "version": 3
   },
   "file_extension": ".py",
   "mimetype": "text/x-python",
   "name": "python",
   "nbconvert_exporter": "python",
   "pygments_lexer": "ipython3",
   "version": "3.6.3"
  }
 },
 "nbformat": 4,
 "nbformat_minor": 2
}
